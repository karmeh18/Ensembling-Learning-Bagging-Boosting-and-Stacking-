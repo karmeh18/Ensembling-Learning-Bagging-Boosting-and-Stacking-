{
  "nbformat": 4,
  "nbformat_minor": 0,
  "metadata": {
    "colab": {
      "provenance": []
    },
    "kernelspec": {
      "name": "python3",
      "display_name": "Python 3"
    },
    "language_info": {
      "name": "python"
    },
    "gpuClass": "standard"
  },
  "cells": [
    {
      "cell_type": "code",
      "execution_count": 1,
      "metadata": {
        "id": "Eu-CCD34yT8H"
      },
      "outputs": [],
      "source": [
        "import pandas as pd\n",
        "import numpy as np\n",
        "import seaborn as sns\n",
        "import matplotlib.pyplot as plt\n",
        "import warnings\n",
        "warnings.filterwarnings('ignore')\n",
        "from sklearn.preprocessing import StandardScaler, MinMaxScaler\n",
        "norm=MinMaxScaler()\n",
        "scaler=StandardScaler()\n",
        "from sklearn.model_selection import cross_val_score\n",
        "from sklearn.naive_bayes import GaussianNB\n",
        "from sklearn.model_selection import train_test_split\n",
        "from sklearn.ensemble import BaggingClassifier, RandomForestClassifier, AdaBoostClassifier, StackingClassifier\n",
        "from sklearn.linear_model import LogisticRegression\n",
        "from sklearn.neighbors import KNeighborsClassifier\n",
        "from sklearn.tree import DecisionTreeClassifier\n",
        "log=LogisticRegression()\n",
        "clf1=DecisionTreeClassifier()\n",
        "rfc=RandomForestClassifier(n_estimators=11,n_jobs=-1)\n",
        "dtree=DecisionTreeClassifier()\n",
        "from sklearn.metrics import accuracy_score\n",
        "from sklearn.ensemble import BaggingClassifier\n",
        "from sklearn.metrics import accuracy_score\n"
      ]
    },
    {
      "cell_type": "code",
      "source": [
        "flight=pd.read_csv(\"/content/Airline Satisfaction.csv\").iloc[:,2:]\n",
        "flight\n",
        "flight[\"Arrival Delay in Minutes\"].fillna(flight[\"Arrival Delay in Minutes\"].median(),inplace=True)\n",
        "\n",
        "flight[\"Customer Type\"]=flight[\"Customer Type\"].map({\"Loyal Customer\":1,\"disloyal Customer\":0})\n",
        "flight[\"Gender\"]=flight[\"Gender\"].map({\"Male\":1,\"Female\":0})\n",
        "flight[\"Type of Travel\"]=flight[\"Type of Travel\"].map({\"Business travel\":1,\"Personal Travel\":0})\n",
        "flight[\"Class\"]=flight[\"Class\"].map({\"Business\":2,\"Eco\":0,\"Eco Plus\":1})\n",
        "flight[\"satisfaction\"]=flight[\"satisfaction\"].map({\"neutral or dissatisfied\":0,\"satisfied\":1})"
      ],
      "metadata": {
        "id": "KUGTW7j1yeKP"
      },
      "execution_count": null,
      "outputs": []
    },
    {
      "cell_type": "code",
      "source": [
        "flight.head()"
      ],
      "metadata": {
        "colab": {
          "base_uri": "https://localhost:8080/",
          "height": 352
        },
        "id": "Az0GVqtTylAg",
        "outputId": "4e595108-5db3-41ba-d7a7-849c6f1fb0c8"
      },
      "execution_count": null,
      "outputs": [
        {
          "output_type": "execute_result",
          "data": {
            "text/plain": [
              "   Gender  Customer Type  Age  Type of Travel  Class  Flight Distance  \\\n",
              "0       1              1   13               0      1              460   \n",
              "1       1              0   25               1      2              235   \n",
              "2       0              1   26               1      2             1142   \n",
              "3       0              1   25               1      2              562   \n",
              "4       1              1   61               1      2              214   \n",
              "\n",
              "   Inflight wifi service  Departure/Arrival time convenient  \\\n",
              "0                      3                                  4   \n",
              "1                      3                                  2   \n",
              "2                      2                                  2   \n",
              "3                      2                                  5   \n",
              "4                      3                                  3   \n",
              "\n",
              "   Ease of Online booking  Gate location  ...  Inflight entertainment  \\\n",
              "0                       3              1  ...                       5   \n",
              "1                       3              3  ...                       1   \n",
              "2                       2              2  ...                       5   \n",
              "3                       5              5  ...                       2   \n",
              "4                       3              3  ...                       3   \n",
              "\n",
              "   On-board service  Leg room service  Baggage handling  Checkin service  \\\n",
              "0                 4                 3                 4                4   \n",
              "1                 1                 5                 3                1   \n",
              "2                 4                 3                 4                4   \n",
              "3                 2                 5                 3                1   \n",
              "4                 3                 4                 4                3   \n",
              "\n",
              "   Inflight service  Cleanliness  Departure Delay in Minutes  \\\n",
              "0                 5            5                          25   \n",
              "1                 4            1                           1   \n",
              "2                 4            5                           0   \n",
              "3                 4            2                          11   \n",
              "4                 3            3                           0   \n",
              "\n",
              "   Arrival Delay in Minutes  satisfaction  \n",
              "0                      18.0             0  \n",
              "1                       6.0             0  \n",
              "2                       0.0             1  \n",
              "3                       9.0             0  \n",
              "4                       0.0             1  \n",
              "\n",
              "[5 rows x 23 columns]"
            ],
            "text/html": [
              "\n",
              "  <div id=\"df-2357c2a5-f3e1-4532-8e01-19c3b7aea4d7\">\n",
              "    <div class=\"colab-df-container\">\n",
              "      <div>\n",
              "<style scoped>\n",
              "    .dataframe tbody tr th:only-of-type {\n",
              "        vertical-align: middle;\n",
              "    }\n",
              "\n",
              "    .dataframe tbody tr th {\n",
              "        vertical-align: top;\n",
              "    }\n",
              "\n",
              "    .dataframe thead th {\n",
              "        text-align: right;\n",
              "    }\n",
              "</style>\n",
              "<table border=\"1\" class=\"dataframe\">\n",
              "  <thead>\n",
              "    <tr style=\"text-align: right;\">\n",
              "      <th></th>\n",
              "      <th>Gender</th>\n",
              "      <th>Customer Type</th>\n",
              "      <th>Age</th>\n",
              "      <th>Type of Travel</th>\n",
              "      <th>Class</th>\n",
              "      <th>Flight Distance</th>\n",
              "      <th>Inflight wifi service</th>\n",
              "      <th>Departure/Arrival time convenient</th>\n",
              "      <th>Ease of Online booking</th>\n",
              "      <th>Gate location</th>\n",
              "      <th>...</th>\n",
              "      <th>Inflight entertainment</th>\n",
              "      <th>On-board service</th>\n",
              "      <th>Leg room service</th>\n",
              "      <th>Baggage handling</th>\n",
              "      <th>Checkin service</th>\n",
              "      <th>Inflight service</th>\n",
              "      <th>Cleanliness</th>\n",
              "      <th>Departure Delay in Minutes</th>\n",
              "      <th>Arrival Delay in Minutes</th>\n",
              "      <th>satisfaction</th>\n",
              "    </tr>\n",
              "  </thead>\n",
              "  <tbody>\n",
              "    <tr>\n",
              "      <th>0</th>\n",
              "      <td>1</td>\n",
              "      <td>1</td>\n",
              "      <td>13</td>\n",
              "      <td>0</td>\n",
              "      <td>1</td>\n",
              "      <td>460</td>\n",
              "      <td>3</td>\n",
              "      <td>4</td>\n",
              "      <td>3</td>\n",
              "      <td>1</td>\n",
              "      <td>...</td>\n",
              "      <td>5</td>\n",
              "      <td>4</td>\n",
              "      <td>3</td>\n",
              "      <td>4</td>\n",
              "      <td>4</td>\n",
              "      <td>5</td>\n",
              "      <td>5</td>\n",
              "      <td>25</td>\n",
              "      <td>18.0</td>\n",
              "      <td>0</td>\n",
              "    </tr>\n",
              "    <tr>\n",
              "      <th>1</th>\n",
              "      <td>1</td>\n",
              "      <td>0</td>\n",
              "      <td>25</td>\n",
              "      <td>1</td>\n",
              "      <td>2</td>\n",
              "      <td>235</td>\n",
              "      <td>3</td>\n",
              "      <td>2</td>\n",
              "      <td>3</td>\n",
              "      <td>3</td>\n",
              "      <td>...</td>\n",
              "      <td>1</td>\n",
              "      <td>1</td>\n",
              "      <td>5</td>\n",
              "      <td>3</td>\n",
              "      <td>1</td>\n",
              "      <td>4</td>\n",
              "      <td>1</td>\n",
              "      <td>1</td>\n",
              "      <td>6.0</td>\n",
              "      <td>0</td>\n",
              "    </tr>\n",
              "    <tr>\n",
              "      <th>2</th>\n",
              "      <td>0</td>\n",
              "      <td>1</td>\n",
              "      <td>26</td>\n",
              "      <td>1</td>\n",
              "      <td>2</td>\n",
              "      <td>1142</td>\n",
              "      <td>2</td>\n",
              "      <td>2</td>\n",
              "      <td>2</td>\n",
              "      <td>2</td>\n",
              "      <td>...</td>\n",
              "      <td>5</td>\n",
              "      <td>4</td>\n",
              "      <td>3</td>\n",
              "      <td>4</td>\n",
              "      <td>4</td>\n",
              "      <td>4</td>\n",
              "      <td>5</td>\n",
              "      <td>0</td>\n",
              "      <td>0.0</td>\n",
              "      <td>1</td>\n",
              "    </tr>\n",
              "    <tr>\n",
              "      <th>3</th>\n",
              "      <td>0</td>\n",
              "      <td>1</td>\n",
              "      <td>25</td>\n",
              "      <td>1</td>\n",
              "      <td>2</td>\n",
              "      <td>562</td>\n",
              "      <td>2</td>\n",
              "      <td>5</td>\n",
              "      <td>5</td>\n",
              "      <td>5</td>\n",
              "      <td>...</td>\n",
              "      <td>2</td>\n",
              "      <td>2</td>\n",
              "      <td>5</td>\n",
              "      <td>3</td>\n",
              "      <td>1</td>\n",
              "      <td>4</td>\n",
              "      <td>2</td>\n",
              "      <td>11</td>\n",
              "      <td>9.0</td>\n",
              "      <td>0</td>\n",
              "    </tr>\n",
              "    <tr>\n",
              "      <th>4</th>\n",
              "      <td>1</td>\n",
              "      <td>1</td>\n",
              "      <td>61</td>\n",
              "      <td>1</td>\n",
              "      <td>2</td>\n",
              "      <td>214</td>\n",
              "      <td>3</td>\n",
              "      <td>3</td>\n",
              "      <td>3</td>\n",
              "      <td>3</td>\n",
              "      <td>...</td>\n",
              "      <td>3</td>\n",
              "      <td>3</td>\n",
              "      <td>4</td>\n",
              "      <td>4</td>\n",
              "      <td>3</td>\n",
              "      <td>3</td>\n",
              "      <td>3</td>\n",
              "      <td>0</td>\n",
              "      <td>0.0</td>\n",
              "      <td>1</td>\n",
              "    </tr>\n",
              "  </tbody>\n",
              "</table>\n",
              "<p>5 rows × 23 columns</p>\n",
              "</div>\n",
              "      <button class=\"colab-df-convert\" onclick=\"convertToInteractive('df-2357c2a5-f3e1-4532-8e01-19c3b7aea4d7')\"\n",
              "              title=\"Convert this dataframe to an interactive table.\"\n",
              "              style=\"display:none;\">\n",
              "        \n",
              "  <svg xmlns=\"http://www.w3.org/2000/svg\" height=\"24px\"viewBox=\"0 0 24 24\"\n",
              "       width=\"24px\">\n",
              "    <path d=\"M0 0h24v24H0V0z\" fill=\"none\"/>\n",
              "    <path d=\"M18.56 5.44l.94 2.06.94-2.06 2.06-.94-2.06-.94-.94-2.06-.94 2.06-2.06.94zm-11 1L8.5 8.5l.94-2.06 2.06-.94-2.06-.94L8.5 2.5l-.94 2.06-2.06.94zm10 10l.94 2.06.94-2.06 2.06-.94-2.06-.94-.94-2.06-.94 2.06-2.06.94z\"/><path d=\"M17.41 7.96l-1.37-1.37c-.4-.4-.92-.59-1.43-.59-.52 0-1.04.2-1.43.59L10.3 9.45l-7.72 7.72c-.78.78-.78 2.05 0 2.83L4 21.41c.39.39.9.59 1.41.59.51 0 1.02-.2 1.41-.59l7.78-7.78 2.81-2.81c.8-.78.8-2.07 0-2.86zM5.41 20L4 18.59l7.72-7.72 1.47 1.35L5.41 20z\"/>\n",
              "  </svg>\n",
              "      </button>\n",
              "      \n",
              "  <style>\n",
              "    .colab-df-container {\n",
              "      display:flex;\n",
              "      flex-wrap:wrap;\n",
              "      gap: 12px;\n",
              "    }\n",
              "\n",
              "    .colab-df-convert {\n",
              "      background-color: #E8F0FE;\n",
              "      border: none;\n",
              "      border-radius: 50%;\n",
              "      cursor: pointer;\n",
              "      display: none;\n",
              "      fill: #1967D2;\n",
              "      height: 32px;\n",
              "      padding: 0 0 0 0;\n",
              "      width: 32px;\n",
              "    }\n",
              "\n",
              "    .colab-df-convert:hover {\n",
              "      background-color: #E2EBFA;\n",
              "      box-shadow: 0px 1px 2px rgba(60, 64, 67, 0.3), 0px 1px 3px 1px rgba(60, 64, 67, 0.15);\n",
              "      fill: #174EA6;\n",
              "    }\n",
              "\n",
              "    [theme=dark] .colab-df-convert {\n",
              "      background-color: #3B4455;\n",
              "      fill: #D2E3FC;\n",
              "    }\n",
              "\n",
              "    [theme=dark] .colab-df-convert:hover {\n",
              "      background-color: #434B5C;\n",
              "      box-shadow: 0px 1px 3px 1px rgba(0, 0, 0, 0.15);\n",
              "      filter: drop-shadow(0px 1px 2px rgba(0, 0, 0, 0.3));\n",
              "      fill: #FFFFFF;\n",
              "    }\n",
              "  </style>\n",
              "\n",
              "      <script>\n",
              "        const buttonEl =\n",
              "          document.querySelector('#df-2357c2a5-f3e1-4532-8e01-19c3b7aea4d7 button.colab-df-convert');\n",
              "        buttonEl.style.display =\n",
              "          google.colab.kernel.accessAllowed ? 'block' : 'none';\n",
              "\n",
              "        async function convertToInteractive(key) {\n",
              "          const element = document.querySelector('#df-2357c2a5-f3e1-4532-8e01-19c3b7aea4d7');\n",
              "          const dataTable =\n",
              "            await google.colab.kernel.invokeFunction('convertToInteractive',\n",
              "                                                     [key], {});\n",
              "          if (!dataTable) return;\n",
              "\n",
              "          const docLinkHtml = 'Like what you see? Visit the ' +\n",
              "            '<a target=\"_blank\" href=https://colab.research.google.com/notebooks/data_table.ipynb>data table notebook</a>'\n",
              "            + ' to learn more about interactive tables.';\n",
              "          element.innerHTML = '';\n",
              "          dataTable['output_type'] = 'display_data';\n",
              "          await google.colab.output.renderOutput(dataTable, element);\n",
              "          const docLink = document.createElement('div');\n",
              "          docLink.innerHTML = docLinkHtml;\n",
              "          element.appendChild(docLink);\n",
              "        }\n",
              "      </script>\n",
              "    </div>\n",
              "  </div>\n",
              "  "
            ]
          },
          "metadata": {},
          "execution_count": 3
        }
      ]
    },
    {
      "cell_type": "code",
      "source": [
        "X=flight.drop('satisfaction',axis=1)\n",
        "X\n",
        "y=flight[\"satisfaction\"]\n",
        "y"
      ],
      "metadata": {
        "colab": {
          "base_uri": "https://localhost:8080/"
        },
        "id": "GTUqEy97yoHa",
        "outputId": "0c0f4d44-5cbc-4f3c-c0c0-027b7463a1a7"
      },
      "execution_count": null,
      "outputs": [
        {
          "output_type": "execute_result",
          "data": {
            "text/plain": [
              "0         0\n",
              "1         0\n",
              "2         1\n",
              "3         0\n",
              "4         1\n",
              "         ..\n",
              "103899    0\n",
              "103900    1\n",
              "103901    0\n",
              "103902    0\n",
              "103903    0\n",
              "Name: satisfaction, Length: 103904, dtype: int64"
            ]
          },
          "metadata": {},
          "execution_count": 84
        }
      ]
    },
    {
      "cell_type": "markdown",
      "source": [
        "#**Question 1 of A and B**"
      ],
      "metadata": {
        "id": "TC4-EDXOdYZV"
      }
    },
    {
      "cell_type": "code",
      "source": [
        "flight[\"satisfaction\"].value_counts()"
      ],
      "metadata": {
        "colab": {
          "base_uri": "https://localhost:8080/"
        },
        "id": "WnQhqc2ldULC",
        "outputId": "03298240-b7ad-4091-e58e-93dc15a2ccf6"
      },
      "execution_count": null,
      "outputs": [
        {
          "output_type": "execute_result",
          "data": {
            "text/plain": [
              "0    58879\n",
              "1    45025\n",
              "Name: satisfaction, dtype: int64"
            ]
          },
          "metadata": {},
          "execution_count": 34
        }
      ]
    },
    {
      "cell_type": "code",
      "source": [
        "flight.isnull().sum()"
      ],
      "metadata": {
        "colab": {
          "base_uri": "https://localhost:8080/"
        },
        "id": "fl60wdlWddaR",
        "outputId": "60a38ffb-ba02-41e3-907a-ad6439167f49"
      },
      "execution_count": null,
      "outputs": [
        {
          "output_type": "execute_result",
          "data": {
            "text/plain": [
              "Gender                               0\n",
              "Customer Type                        0\n",
              "Age                                  0\n",
              "Type of Travel                       0\n",
              "Class                                0\n",
              "Flight Distance                      0\n",
              "Inflight wifi service                0\n",
              "Departure/Arrival time convenient    0\n",
              "Ease of Online booking               0\n",
              "Gate location                        0\n",
              "Food and drink                       0\n",
              "Online boarding                      0\n",
              "Seat comfort                         0\n",
              "Inflight entertainment               0\n",
              "On-board service                     0\n",
              "Leg room service                     0\n",
              "Baggage handling                     0\n",
              "Checkin service                      0\n",
              "Inflight service                     0\n",
              "Cleanliness                          0\n",
              "Departure Delay in Minutes           0\n",
              "Arrival Delay in Minutes             0\n",
              "satisfaction                         0\n",
              "dtype: int64"
            ]
          },
          "metadata": {},
          "execution_count": 38
        }
      ]
    },
    {
      "cell_type": "code",
      "source": [
        "flight[\"Arrival Delay in Minutes\"].fillna(flight[\"Arrival Delay in Minutes\"].median(),inplace=True)"
      ],
      "metadata": {
        "id": "RqxrsiOYdq3l"
      },
      "execution_count": null,
      "outputs": []
    },
    {
      "cell_type": "code",
      "source": [
        "flight.describe()[['Arrival Delay in Minutes']]"
      ],
      "metadata": {
        "colab": {
          "base_uri": "https://localhost:8080/",
          "height": 300
        },
        "id": "TjJijkGWdlIR",
        "outputId": "74cb16bb-9d5e-4dfb-eba9-9e87aaedc383"
      },
      "execution_count": null,
      "outputs": [
        {
          "output_type": "execute_result",
          "data": {
            "text/plain": [
              "       Arrival Delay in Minutes\n",
              "count             103904.000000\n",
              "mean                  15.133392\n",
              "std                   38.649776\n",
              "min                    0.000000\n",
              "25%                    0.000000\n",
              "50%                    0.000000\n",
              "75%                   13.000000\n",
              "max                 1584.000000"
            ],
            "text/html": [
              "\n",
              "  <div id=\"df-578633b5-74de-45e3-879c-384a00a2801a\">\n",
              "    <div class=\"colab-df-container\">\n",
              "      <div>\n",
              "<style scoped>\n",
              "    .dataframe tbody tr th:only-of-type {\n",
              "        vertical-align: middle;\n",
              "    }\n",
              "\n",
              "    .dataframe tbody tr th {\n",
              "        vertical-align: top;\n",
              "    }\n",
              "\n",
              "    .dataframe thead th {\n",
              "        text-align: right;\n",
              "    }\n",
              "</style>\n",
              "<table border=\"1\" class=\"dataframe\">\n",
              "  <thead>\n",
              "    <tr style=\"text-align: right;\">\n",
              "      <th></th>\n",
              "      <th>Arrival Delay in Minutes</th>\n",
              "    </tr>\n",
              "  </thead>\n",
              "  <tbody>\n",
              "    <tr>\n",
              "      <th>count</th>\n",
              "      <td>103904.000000</td>\n",
              "    </tr>\n",
              "    <tr>\n",
              "      <th>mean</th>\n",
              "      <td>15.133392</td>\n",
              "    </tr>\n",
              "    <tr>\n",
              "      <th>std</th>\n",
              "      <td>38.649776</td>\n",
              "    </tr>\n",
              "    <tr>\n",
              "      <th>min</th>\n",
              "      <td>0.000000</td>\n",
              "    </tr>\n",
              "    <tr>\n",
              "      <th>25%</th>\n",
              "      <td>0.000000</td>\n",
              "    </tr>\n",
              "    <tr>\n",
              "      <th>50%</th>\n",
              "      <td>0.000000</td>\n",
              "    </tr>\n",
              "    <tr>\n",
              "      <th>75%</th>\n",
              "      <td>13.000000</td>\n",
              "    </tr>\n",
              "    <tr>\n",
              "      <th>max</th>\n",
              "      <td>1584.000000</td>\n",
              "    </tr>\n",
              "  </tbody>\n",
              "</table>\n",
              "</div>\n",
              "      <button class=\"colab-df-convert\" onclick=\"convertToInteractive('df-578633b5-74de-45e3-879c-384a00a2801a')\"\n",
              "              title=\"Convert this dataframe to an interactive table.\"\n",
              "              style=\"display:none;\">\n",
              "        \n",
              "  <svg xmlns=\"http://www.w3.org/2000/svg\" height=\"24px\"viewBox=\"0 0 24 24\"\n",
              "       width=\"24px\">\n",
              "    <path d=\"M0 0h24v24H0V0z\" fill=\"none\"/>\n",
              "    <path d=\"M18.56 5.44l.94 2.06.94-2.06 2.06-.94-2.06-.94-.94-2.06-.94 2.06-2.06.94zm-11 1L8.5 8.5l.94-2.06 2.06-.94-2.06-.94L8.5 2.5l-.94 2.06-2.06.94zm10 10l.94 2.06.94-2.06 2.06-.94-2.06-.94-.94-2.06-.94 2.06-2.06.94z\"/><path d=\"M17.41 7.96l-1.37-1.37c-.4-.4-.92-.59-1.43-.59-.52 0-1.04.2-1.43.59L10.3 9.45l-7.72 7.72c-.78.78-.78 2.05 0 2.83L4 21.41c.39.39.9.59 1.41.59.51 0 1.02-.2 1.41-.59l7.78-7.78 2.81-2.81c.8-.78.8-2.07 0-2.86zM5.41 20L4 18.59l7.72-7.72 1.47 1.35L5.41 20z\"/>\n",
              "  </svg>\n",
              "      </button>\n",
              "      \n",
              "  <style>\n",
              "    .colab-df-container {\n",
              "      display:flex;\n",
              "      flex-wrap:wrap;\n",
              "      gap: 12px;\n",
              "    }\n",
              "\n",
              "    .colab-df-convert {\n",
              "      background-color: #E8F0FE;\n",
              "      border: none;\n",
              "      border-radius: 50%;\n",
              "      cursor: pointer;\n",
              "      display: none;\n",
              "      fill: #1967D2;\n",
              "      height: 32px;\n",
              "      padding: 0 0 0 0;\n",
              "      width: 32px;\n",
              "    }\n",
              "\n",
              "    .colab-df-convert:hover {\n",
              "      background-color: #E2EBFA;\n",
              "      box-shadow: 0px 1px 2px rgba(60, 64, 67, 0.3), 0px 1px 3px 1px rgba(60, 64, 67, 0.15);\n",
              "      fill: #174EA6;\n",
              "    }\n",
              "\n",
              "    [theme=dark] .colab-df-convert {\n",
              "      background-color: #3B4455;\n",
              "      fill: #D2E3FC;\n",
              "    }\n",
              "\n",
              "    [theme=dark] .colab-df-convert:hover {\n",
              "      background-color: #434B5C;\n",
              "      box-shadow: 0px 1px 3px 1px rgba(0, 0, 0, 0.15);\n",
              "      filter: drop-shadow(0px 1px 2px rgba(0, 0, 0, 0.3));\n",
              "      fill: #FFFFFF;\n",
              "    }\n",
              "  </style>\n",
              "\n",
              "      <script>\n",
              "        const buttonEl =\n",
              "          document.querySelector('#df-578633b5-74de-45e3-879c-384a00a2801a button.colab-df-convert');\n",
              "        buttonEl.style.display =\n",
              "          google.colab.kernel.accessAllowed ? 'block' : 'none';\n",
              "\n",
              "        async function convertToInteractive(key) {\n",
              "          const element = document.querySelector('#df-578633b5-74de-45e3-879c-384a00a2801a');\n",
              "          const dataTable =\n",
              "            await google.colab.kernel.invokeFunction('convertToInteractive',\n",
              "                                                     [key], {});\n",
              "          if (!dataTable) return;\n",
              "\n",
              "          const docLinkHtml = 'Like what you see? Visit the ' +\n",
              "            '<a target=\"_blank\" href=https://colab.research.google.com/notebooks/data_table.ipynb>data table notebook</a>'\n",
              "            + ' to learn more about interactive tables.';\n",
              "          element.innerHTML = '';\n",
              "          dataTable['output_type'] = 'display_data';\n",
              "          await google.colab.output.renderOutput(dataTable, element);\n",
              "          const docLink = document.createElement('div');\n",
              "          docLink.innerHTML = docLinkHtml;\n",
              "          element.appendChild(docLink);\n",
              "        }\n",
              "      </script>\n",
              "    </div>\n",
              "  </div>\n",
              "  "
            ]
          },
          "metadata": {},
          "execution_count": 36
        }
      ]
    },
    {
      "cell_type": "code",
      "source": [
        "sns.distplot(flight[\"Arrival Delay in Minutes\"]);"
      ],
      "metadata": {
        "colab": {
          "base_uri": "https://localhost:8080/",
          "height": 279
        },
        "id": "isxkcxY9dmF3",
        "outputId": "7dc27f6a-fc10-44d8-fb51-548b2f8f4f4a"
      },
      "execution_count": null,
      "outputs": [
        {
          "output_type": "display_data",
          "data": {
            "text/plain": [
              "<Figure size 432x288 with 1 Axes>"
            ],
            "image/png": "[encoded data removed]"
          },
          "metadata": {
            "needs_background": "light"
          }
        }
      ]
    },
    {
      "cell_type": "code",
      "source": [
        "sns.countplot(flight[\"satisfaction\"],hue=flight[\"Gender\"]);"
      ],
      "metadata": {
        "colab": {
          "base_uri": "https://localhost:8080/",
          "height": 279
        },
        "id": "WiKyPx-ndntp",
        "outputId": "32c3b8f3-0aa1-4355-81c2-dd193117fe38"
      },
      "execution_count": null,
      "outputs": [
        {
          "output_type": "display_data",
          "data": {
            "text/plain": [
              "<Figure size 432x288 with 1 Axes>"
            ],
            "image/png": "[encoded data removed]"
          },
          "metadata": {
            "needs_background": "light"
          }
        }
      ]
    },
    {
      "cell_type": "code",
      "source": [
        "sns.countplot(flight['satisfaction'],hue=flight[\"Type of Travel\"]);"
      ],
      "metadata": {
        "colab": {
          "base_uri": "https://localhost:8080/",
          "height": 279
        },
        "id": "zDzh7qh4du4y",
        "outputId": "9657c5e8-eebe-46d4-93eb-fa84ec27509d"
      },
      "execution_count": null,
      "outputs": [
        {
          "output_type": "display_data",
          "data": {
            "text/plain": [
              "<Figure size 432x288 with 1 Axes>"
            ],
            "image/png": "[encoded data removed]"
          },
          "metadata": {
            "needs_background": "light"
          }
        }
      ]
    },
    {
      "cell_type": "code",
      "source": [
        "sns.barplot(\"satisfaction\",\"Age\",hue=\"Gender\",data=flight);"
      ],
      "metadata": {
        "colab": {
          "base_uri": "https://localhost:8080/",
          "height": 279
        },
        "id": "cL1fZks6dw-o",
        "outputId": "c2b999d5-08e2-430d-9d7b-aeca09cbdf2f"
      },
      "execution_count": null,
      "outputs": [
        {
          "output_type": "display_data",
          "data": {
            "text/plain": [
              "<Figure size 432x288 with 1 Axes>"
            ],
            "image/png": "[encoded data removed]"
          },
          "metadata": {
            "needs_background": "light"
          }
        }
      ]
    },
    {
      "cell_type": "code",
      "source": [
        "sns.boxplot('satisfaction','Age',hue=\"Gender\",data=flight);"
      ],
      "metadata": {
        "colab": {
          "base_uri": "https://localhost:8080/",
          "height": 279
        },
        "id": "79qjffPTdyFK",
        "outputId": "dffa426a-8236-47aa-9a07-69da5edde119"
      },
      "execution_count": null,
      "outputs": [
        {
          "output_type": "display_data",
          "data": {
            "text/plain": [
              "<Figure size 432x288 with 1 Axes>"
            ],
            "image/png": "[encoded data removed]"
          },
          "metadata": {
            "needs_background": "light"
          }
        }
      ]
    },
    {
      "cell_type": "code",
      "source": [
        "sns.countplot('Class',hue='satisfaction',data=flight)"
      ],
      "metadata": {
        "colab": {
          "base_uri": "https://localhost:8080/",
          "height": 296
        },
        "id": "_JMVHWkcdzF7",
        "outputId": "558b3f2c-f9e8-4714-ec05-e305200b19f3"
      },
      "execution_count": null,
      "outputs": [
        {
          "output_type": "execute_result",
          "data": {
            "text/plain": [
              "<matplotlib.axes._subplots.AxesSubplot at 0x7f42d495f520>"
            ]
          },
          "metadata": {},
          "execution_count": 45
        },
        {
          "output_type": "display_data",
          "data": {
            "text/plain": [
              "<Figure size 432x288 with 1 Axes>"
            ],
            "image/png": "[encoded data removed]"
          },
          "metadata": {
            "needs_background": "light"
          }
        }
      ]
    },
    {
      "cell_type": "code",
      "source": [
        "sns.boxplot(\"Class\",\"Age\",hue=\"satisfaction\",data=flight);"
      ],
      "metadata": {
        "colab": {
          "base_uri": "https://localhost:8080/",
          "height": 279
        },
        "id": "iZZbFpNwd0GP",
        "outputId": "edf24fce-4284-45fc-d4e4-621eba1d38b3"
      },
      "execution_count": null,
      "outputs": [
        {
          "output_type": "display_data",
          "data": {
            "text/plain": [
              "<Figure size 432x288 with 1 Axes>"
            ],
            "image/png": "[encoded data removed]"
          },
          "metadata": {
            "needs_background": "light"
          }
        }
      ]
    },
    {
      "cell_type": "code",
      "source": [
        "sns.violinplot('Class','Age',data=flight);"
      ],
      "metadata": {
        "colab": {
          "base_uri": "https://localhost:8080/",
          "height": 279
        },
        "id": "cIAQqwTCd1F5",
        "outputId": "fb7f3c4b-ca3b-42ac-8609-fe110f65970f"
      },
      "execution_count": null,
      "outputs": [
        {
          "output_type": "display_data",
          "data": {
            "text/plain": [
              "<Figure size 432x288 with 1 Axes>"
            ],
            "image/png": "[encoded data removed]"
          },
          "metadata": {
            "needs_background": "light"
          }
        }
      ]
    },
    {
      "cell_type": "code",
      "source": [
        "X=flight.drop('satisfaction',axis=1)\n",
        "X\n",
        "y=flight[\"satisfaction\"]\n",
        "y"
      ],
      "metadata": {
        "colab": {
          "base_uri": "https://localhost:8080/"
        },
        "id": "rfFD4qhUd2U_",
        "outputId": "c2a46247-9500-4533-d5db-8e97bcc46a72"
      },
      "execution_count": null,
      "outputs": [
        {
          "output_type": "execute_result",
          "data": {
            "text/plain": [
              "0         0\n",
              "1         0\n",
              "2         1\n",
              "3         0\n",
              "4         1\n",
              "         ..\n",
              "103899    0\n",
              "103900    1\n",
              "103901    0\n",
              "103902    0\n",
              "103903    0\n",
              "Name: satisfaction, Length: 103904, dtype: int64"
            ]
          },
          "metadata": {},
          "execution_count": 48
        }
      ]
    },
    {
      "cell_type": "code",
      "source": [
        "#Eiter Normalize the Data first Or Standardize data from below code.\n",
        "for j in ['Age', 'Flight Distance','Departure Delay in Minutes', 'Arrival Delay in Minutes']:\n",
        "            X[j]=norm.fit_transform(X[[j]])"
      ],
      "metadata": {
        "id": "QKE4mJAGd-y9"
      },
      "execution_count": null,
      "outputs": []
    },
    {
      "cell_type": "code",
      "source": [
        "# Either Standardization the data first or Normalize data from above code\n",
        "for j in ['Age', 'Flight Distance','Departure Delay in Minutes', 'Arrival Delay in Minutes']:\n",
        "            X[j]=scaler.fit_transform(X[[j]])"
      ],
      "metadata": {
        "id": "5mMISxnUd_4k"
      },
      "execution_count": null,
      "outputs": []
    },
    {
      "cell_type": "code",
      "source": [
        "def ML(X,y):\n",
        "    log_accu=[]\n",
        "    rfc_accu=[]\n",
        "    dtree_accu=[]\n",
        "    rfc_oob=[]\n",
        "    for i in np.arange(0,1,0.11)[1:]:\n",
        "        X_train, X_test, y_train, y_test = train_test_split(X, y, test_size=i, random_state=42)\n",
        "        from sklearn.linear_model import LogisticRegression\n",
        "        log=LogisticRegression()\n",
        "        log_model=log.fit(X_train,y_train)\n",
        "        log_pred=log_model.predict(X_test)\n",
        "        log_accu.append(round(accuracy_score(y_test,log_pred),3))\n",
        "        \n",
        "        rfc=RandomForestClassifier(max_features=None,oob_score=True)\n",
        "        rfc_model=rfc.fit(X_train,y_train)\n",
        "        rfc_pred=rfc.predict(X_test)\n",
        "        rfc_accu.append(round(accuracy_score(y_test,rfc_pred),3))\n",
        "        rfc_oob.append(round(rfc_model.oob_score_,3))\n",
        "        \n",
        "        dtree=DecisionTreeClassifier()\n",
        "        dtree_model=dtree.fit(X_train,y_train)\n",
        "        dtree_pred=dtree_model.predict(X_test)\n",
        "        dtree_accu.append(round(accuracy_score(y_test,dtree_pred),3))\n",
        "        \n",
        "    sns.set_context('notebook')\n",
        "    plt.figure(figsize=(15,5))\n",
        "    plt.subplot(1,4,1)\n",
        "    plt.tight_layout()\n",
        "    plt.xlabel(\"Test Size Values for Logistic Regression\")\n",
        "    plt.ylabel(\"Accuracies with Logistic Regression\")\n",
        "    plt.plot(np.arange(0,1,0.11)[1:],log_accu,\"black\")\n",
        "    plt.scatter(np.arange(0,1,0.11)[1:],log_accu)\n",
        "    \n",
        "    plt.subplot(1,4,2)\n",
        "    plt.tight_layout()\n",
        "    plt.xlabel(\"Test Size Values for Random Forest\")\n",
        "    plt.ylabel(\"Accuracies with Random Forest\")\n",
        "    plt.plot(np.arange(0,1,0.11)[1:],rfc_accu,\"red\")\n",
        "    plt.scatter(np.arange(0,1,0.11)[1:],rfc_accu)\n",
        "    \n",
        "    plt.subplot(1,4,3)\n",
        "    plt.tight_layout()\n",
        "    plt.xlabel(\"Test Size Values for RF with  OOB Score\")\n",
        "    plt.ylabel(\"Accuracies with RF with OOB Socre\")\n",
        "    plt.plot(np.arange(0,1,0.11)[1:],rfc_oob,\"pink\")\n",
        "    plt.scatter(np.arange(0,1,0.11)[1:],rfc_oob)\n",
        "    \n",
        "    plt.subplot(1,4,4)\n",
        "    plt.tight_layout()\n",
        "    plt.xlabel(\"Test Size Values for Decision Tree\")\n",
        "    plt.ylabel(\"Accuracies with Decision Tree\")\n",
        "    plt.plot(np.arange(0,1,0.11)[1:],dtree_accu)\n",
        "    plt.scatter(np.arange(0,1,0.11)[1:],dtree_accu);"
      ],
      "metadata": {
        "id": "XS1dgtNleA4L"
      },
      "execution_count": null,
      "outputs": []
    },
    {
      "cell_type": "code",
      "source": [
        "ML(X,y)"
      ],
      "metadata": {
        "colab": {
          "base_uri": "https://localhost:8080/",
          "height": 361
        },
        "id": "B7XFNkK3eB3W",
        "outputId": "e46d5fd4-2d26-4bb0-e248-e32161c9aee4"
      },
      "execution_count": null,
      "outputs": [
        {
          "output_type": "display_data",
          "data": {
            "text/plain": [
              "<Figure size 1080x360 with 4 Axes>"
            ],
            "image/png": "[encoded data removed]"
          },
          "metadata": {
            "needs_background": "light"
          }
        }
      ]
    },
    {
      "cell_type": "markdown",
      "source": [
        "**Question 1 of C and D**"
      ],
      "metadata": {
        "id": "1-EdbmD_yq-8"
      }
    },
    {
      "cell_type": "code",
      "source": [
        "flight=pd.read_csv(\"/content/Airline Satisfaction.csv\").iloc[:,2:]\n",
        "flight\n",
        "flight[\"Arrival Delay in Minutes\"].fillna(flight[\"Arrival Delay in Minutes\"].median(),inplace=True)\n",
        "\n",
        "flight[\"Customer Type\"]=flight[\"Customer Type\"].map({\"Loyal Customer\":1,\"disloyal Customer\":0})\n",
        "flight[\"Gender\"]=flight[\"Gender\"].map({\"Male\":1,\"Female\":0})\n",
        "flight[\"Type of Travel\"]=flight[\"Type of Travel\"].map({\"Business travel\":1,\"Personal Travel\":0})\n",
        "flight[\"Class\"]=flight[\"Class\"].map({\"Business\":2,\"Eco\":0,\"Eco Plus\":1})\n",
        "flight[\"satisfaction\"]=flight[\"satisfaction\"].map({\"neutral or dissatisfied\":0,\"satisfied\":1})"
      ],
      "metadata": {
        "id": "9UUSjcFYyuY8"
      },
      "execution_count": null,
      "outputs": []
    },
    {
      "cell_type": "code",
      "source": [
        "X=flight.drop('satisfaction',axis=1)\n",
        "X\n",
        "y=flight[\"satisfaction\"]\n",
        "y"
      ],
      "metadata": {
        "colab": {
          "base_uri": "https://localhost:8080/"
        },
        "id": "pes5mlZiyyRL",
        "outputId": "f640e8bb-79ce-4230-bfca-ae291d343329"
      },
      "execution_count": null,
      "outputs": [
        {
          "output_type": "execute_result",
          "data": {
            "text/plain": [
              "0         0\n",
              "1         0\n",
              "2         1\n",
              "3         0\n",
              "4         1\n",
              "         ..\n",
              "103899    0\n",
              "103900    1\n",
              "103901    0\n",
              "103902    0\n",
              "103903    0\n",
              "Name: satisfaction, Length: 103904, dtype: int64"
            ]
          },
          "metadata": {},
          "execution_count": 87
        }
      ]
    },
    {
      "cell_type": "code",
      "source": [
        "# get a list of models to evaluate\n",
        "def get_models():\n",
        "  models = dict() \n",
        "  models['bagg_dt'] = BaggingClassifier(base_estimator=DecisionTreeClassifier(criterion='entropy'),n_estimators=10)\n",
        "  models['bagg_log'] = BaggingClassifier(base_estimator=LogisticRegression(), n_estimators=10) # 10 bags\n",
        "  models['bagg_rfc'] = BaggingClassifier(base_estimator=RandomForestClassifier(n_estimators=11,n_jobs=-1), n_estimators=10) # 10 bags  \n",
        "  return models"
      ],
      "metadata": {
        "id": "gy7Dswdmy2Mi"
      },
      "execution_count": null,
      "outputs": []
    },
    {
      "cell_type": "code",
      "source": [
        "models=get_models()\n",
        "models.items()"
      ],
      "metadata": {
        "colab": {
          "base_uri": "https://localhost:8080/"
        },
        "id": "3m7YW0ZPy2-F",
        "outputId": "defe285b-e934-440e-8d84-5ace762fdc21"
      },
      "execution_count": null,
      "outputs": [
        {
          "output_type": "execute_result",
          "data": {
            "text/plain": [
              "dict_items([('bagg_dt', BaggingClassifier(base_estimator=DecisionTreeClassifier(criterion='entropy'))), ('bagg_log', BaggingClassifier(base_estimator=LogisticRegression())), ('bagg_rfc', BaggingClassifier(base_estimator=RandomForestClassifier(n_estimators=11,\n",
              "                                                        n_jobs=-1)))])"
            ]
          },
          "metadata": {},
          "execution_count": 91
        }
      ]
    },
    {
      "cell_type": "code",
      "source": [
        "# create the function to evaluate the models\n",
        "\n",
        "def evaluate_model(model, X, y):\n",
        "  acc = []\n",
        "  for j in range(10):\n",
        "    X_train,X_test,y_train,y_test = train_test_split(X,y,test_size=0.3, random_state = j)\n",
        "    model.fit(X_train, y_train)\n",
        "    y_pred = model.predict(X_test)\n",
        "    accuracy = accuracy_score(y_test,y_pred)\n",
        "    acc.append(accuracy)\n",
        "    scores=np.mean(acc) \n",
        "    return scores"
      ],
      "metadata": {
        "id": "6nxJaB1_y33P"
      },
      "execution_count": null,
      "outputs": []
    },
    {
      "cell_type": "code",
      "source": [
        "#run the models on the dataset\n",
        " \n",
        "from numpy import mean, std\n",
        "results, names = list(), list()\n",
        "for name, model in models.items():\n",
        "\tscores = evaluate_model(model, X, y)\n",
        "\tresults.append(scores)\n",
        "\tnames.append(name)\n",
        "\tprint('>%s %.3f (%.3f)' % (name, mean(scores), std(scores)))"
      ],
      "metadata": {
        "colab": {
          "base_uri": "https://localhost:8080/"
        },
        "id": "IxlLKm5jy44B",
        "outputId": "14168caf-25b0-49d5-d7fa-f10068f66478"
      },
      "execution_count": null,
      "outputs": [
        {
          "output_type": "stream",
          "name": "stdout",
          "text": [
            ">bagg_dt 0.961 (0.000)\n",
            ">bagg_log 0.788 (0.000)\n",
            ">bagg_rfc 0.960 (0.000)\n"
          ]
        }
      ]
    },
    {
      "cell_type": "markdown",
      "source": [
        "**Question 1 of C**"
      ],
      "metadata": {
        "id": "LX-JafO7vyFG"
      }
    },
    {
      "cell_type": "code",
      "source": [
        "flight=pd.read_csv(\"/content/Airline Satisfaction.csv\").iloc[:,2:]\n",
        "flight.dropna()\n",
        "flight[\"Arrival Delay in Minutes\"].fillna(flight[\"Arrival Delay in Minutes\"].median(),inplace=True)\n",
        "\n",
        "flight[\"Customer Type\"]=flight[\"Customer Type\"].map({\"Loyal Customer\":1,\"disloyal Customer\":0})\n",
        "flight[\"Gender\"]=flight[\"Gender\"].map({\"Male\":1,\"Female\":0})\n",
        "flight[\"Type of Travel\"]=flight[\"Type of Travel\"].map({\"Business travel\":1,\"Personal Travel\":0})\n",
        "flight[\"Class\"]=flight[\"Class\"].map({\"Business\":2,\"Eco\":0,\"Eco Plus\":1})\n",
        "flight[\"satisfaction\"]=flight[\"satisfaction\"].map({\"neutral or dissatisfied\":0,\"satisfied\":1})"
      ],
      "metadata": {
        "id": "84wKZbOpwKF5"
      },
      "execution_count": null,
      "outputs": []
    },
    {
      "cell_type": "code",
      "source": [
        "flight[\"satisfaction\"].value_counts()"
      ],
      "metadata": {
        "colab": {
          "base_uri": "https://localhost:8080/"
        },
        "id": "Kuo6AqddDSi1",
        "outputId": "d5ea7d8d-75d3-4f20-b030-ecdfc237845f"
      },
      "execution_count": null,
      "outputs": [
        {
          "output_type": "execute_result",
          "data": {
            "text/plain": [
              "0    58879\n",
              "1    45025\n",
              "Name: satisfaction, dtype: int64"
            ]
          },
          "metadata": {},
          "execution_count": 42
        }
      ]
    },
    {
      "cell_type": "code",
      "source": [
        "X=flight.drop('satisfaction',axis=1)\n",
        "X\n",
        "y=flight[\"satisfaction\"]\n",
        "y"
      ],
      "metadata": {
        "colab": {
          "base_uri": "https://localhost:8080/"
        },
        "id": "sD0IRpWswLwK",
        "outputId": "2d31d068-fa2c-4ae5-b519-3f039f131c73"
      },
      "execution_count": null,
      "outputs": [
        {
          "output_type": "execute_result",
          "data": {
            "text/plain": [
              "0         0\n",
              "1         0\n",
              "2         1\n",
              "3         0\n",
              "4         1\n",
              "         ..\n",
              "103899    0\n",
              "103900    1\n",
              "103901    0\n",
              "103902    0\n",
              "103903    0\n",
              "Name: satisfaction, Length: 103904, dtype: int64"
            ]
          },
          "metadata": {},
          "execution_count": 51
        }
      ]
    },
    {
      "cell_type": "code",
      "source": [
        "#Eiter Normalize the Data first Or Standardize data from below code.\n",
        "for j in ['Age', 'Flight Distance','Departure Delay in Minutes', 'Arrival Delay in Minutes']:\n",
        "            X[j]=norm.fit_transform(X[[j]])"
      ],
      "metadata": {
        "id": "u6c_jnq-wNaW"
      },
      "execution_count": null,
      "outputs": []
    },
    {
      "cell_type": "code",
      "source": [
        "# Either Standardization the data first or Normalize data from above code\n",
        "for j in ['Age', 'Flight Distance','Departure Delay in Minutes', 'Arrival Delay in Minutes']:\n",
        "            X[j]=scaler.fit_transform(X[[j]])"
      ],
      "metadata": {
        "id": "ItbYxTtcwPIl"
      },
      "execution_count": null,
      "outputs": []
    },
    {
      "cell_type": "code",
      "source": [
        "clf1=DecisionTreeClassifier()\n",
        "rfc=RandomForestClassifier(n_estimators=11,n_jobs=-1)"
      ],
      "metadata": {
        "id": "2r8tEDMawQkd"
      },
      "execution_count": null,
      "outputs": []
    },
    {
      "cell_type": "code",
      "source": [
        "\n",
        "#Ensemble Size\n",
        "# evalute the bagging method based on DT for different numbers of bag size\n",
        " \n",
        "num_est = np.arange(10,100,10)\n",
        "bg_clf_cv_mean = []\n",
        "bg_clf_cv_std = []\n",
        "for i in num_est:    \n",
        "    bg_clf = BaggingClassifier(base_estimator=clf1, n_estimators=i, max_samples=0.8, max_features=0.8)\n",
        "    scores = cross_val_score(bg_clf, X, y, cv=3, scoring='accuracy')\n",
        "    bg_clf_cv_mean.append(scores.mean())\n",
        "    bg_clf_cv_std.append(scores.std())\n",
        "bg_clf_cv_mean"
      ],
      "metadata": {
        "colab": {
          "base_uri": "https://localhost:8080/"
        },
        "id": "XWT2ndl4wVic",
        "outputId": "1d1c2cfe-48b8-4313-d79d-ce98a2442fb3"
      },
      "execution_count": null,
      "outputs": [
        {
          "output_type": "execute_result",
          "data": {
            "text/plain": [
              "[0.957797592842821,\n",
              " 0.9591834858477887,\n",
              " 0.9605886272046164,\n",
              " 0.9612912059416173,\n",
              " 0.9615799287185746,\n",
              " 0.962253622700964,\n",
              " 0.9623787461581693,\n",
              " 0.962349873074615,\n",
              " 0.9622536265913163]"
            ]
          },
          "metadata": {},
          "execution_count": 54
        }
      ]
    },
    {
      "cell_type": "code",
      "source": [
        "plt.figure()\n",
        "plt.errorbar(num_est, bg_clf_cv_mean, yerr=bg_clf_cv_std,c='blue', fmt='-o', capsize=5)\n",
        "plt.ylabel('Accuracy'); plt.xlabel('Ensemble Size'); plt.title('Bagging Tree Ensemble of Decision Tree');\n",
        "plt.show()"
      ],
      "metadata": {
        "colab": {
          "base_uri": "https://localhost:8080/",
          "height": 295
        },
        "id": "pLysLG8cwW21",
        "outputId": "e628e3f7-d812-4918-aadd-101e11826121"
      },
      "execution_count": null,
      "outputs": [
        {
          "output_type": "display_data",
          "data": {
            "text/plain": [
              "<Figure size 432x288 with 1 Axes>"
            ],
            "image/png": "[encoded data removed]"
          },
          "metadata": {
            "needs_background": "light"
          }
        }
      ]
    },
    {
      "cell_type": "code",
      "source": [
        "\n",
        "#Ensemble Size\n",
        "# evalute the bagging method based on RandomForest for different numbers of bag size\n",
        " \n",
        "num_est = np.arange(10,100,10)\n",
        "bg_clf_cv_mean = []\n",
        "bg_clf_cv_std = []\n",
        "for i in num_est:    \n",
        "    bg_clf = BaggingClassifier(base_estimator=rfc, n_estimators=i, max_samples=0.8, max_features=0.8)\n",
        "    scores = cross_val_score(bg_clf, X, y, cv=3, scoring='accuracy')\n",
        "    bg_clf_cv_mean.append(scores.mean())\n",
        "    bg_clf_cv_std.append(scores.std())\n",
        "bg_clf_cv_mean"
      ],
      "metadata": {
        "id": "zPDh7YyTwYLM",
        "outputId": "c35e1378-2003-4f3b-9393-6c60cc5ee2cb",
        "colab": {
          "base_uri": "https://localhost:8080/"
        }
      },
      "execution_count": null,
      "outputs": [
        {
          "output_type": "execute_result",
          "data": {
            "text/plain": [
              "[0.9549391798015173,\n",
              " 0.9566330450468317,\n",
              " 0.9576051046002231,\n",
              " 0.9582306888182551,\n",
              " 0.9577109719248638,\n",
              " 0.957249013425403,\n",
              " 0.9576724821682019,\n",
              " 0.9574511202862848,\n",
              " 0.957759099473689]"
            ]
          },
          "metadata": {},
          "execution_count": 57
        }
      ]
    },
    {
      "cell_type": "code",
      "source": [
        "plt.figure()\n",
        "plt.errorbar(num_est, bg_clf_cv_mean, yerr=bg_clf_cv_std,c='blue', fmt='-o', capsize=5)\n",
        "plt.ylabel('Accuracy'); plt.xlabel('Ensemble Size'); plt.title('Bagging Tree Ensemble with Random Forest');\n",
        "plt.show()"
      ],
      "metadata": {
        "id": "iv166kxcwZl5",
        "outputId": "24d2e379-15d9-40ee-cf54-fc39f404dd0a",
        "colab": {
          "base_uri": "https://localhost:8080/",
          "height": 295
        }
      },
      "execution_count": null,
      "outputs": [
        {
          "output_type": "display_data",
          "data": {
            "text/plain": [
              "<Figure size 432x288 with 1 Axes>"
            ],
            "image/png": "[encoded data removed]"
          },
          "metadata": {
            "needs_background": "light"
          }
        }
      ]
    },
    {
      "cell_type": "markdown",
      "source": [
        "From the above plot, we can define the importance of Standard Deviation.\n",
        "\n",
        "The standard deviation of the accuracies from the different iterations of cross-validation can be used to get a sense of how stable the model's performance is. If the standard deviation is large, it means that the model's performance is variable, and not consistent across different training and test sets. This can be an indication of overfitting, or of a model that is not generalizing well to new data. On the other hand, if the standard deviation is small, it means that the model's performance is consistent across different training and test sets, and the model is likely to generalize well to new data."
      ],
      "metadata": {
        "id": "5cH4PpUuBvHW"
      }
    },
    {
      "cell_type": "code",
      "source": [
        "\n",
        "#Ensemble Size\n",
        "# evalute the bagging method based on Logistic Regression for different numbers of bag size\n",
        " \n",
        "num_est = np.arange(10,100,10)\n",
        "bg_clf_cv_mean = []\n",
        "bg_clf_cv_std = []\n",
        "for i in num_est:    \n",
        "    bg_clf = BaggingClassifier(base_estimator=log, n_estimators=i, max_samples=0.8, max_features=0.8)\n",
        "    scores = cross_val_score(bg_clf, X, y, cv=3, scoring='accuracy')\n",
        "    bg_clf_cv_mean.append(scores.mean())\n",
        "    bg_clf_cv_std.append(scores.std())\n",
        "bg_clf_cv_mean"
      ],
      "metadata": {
        "colab": {
          "base_uri": "https://localhost:8080/"
        },
        "id": "lpHfjbdYKz6F",
        "outputId": "6c1083e3-bd77-485d-b731-53b0ac61ffe1"
      },
      "execution_count": null,
      "outputs": [
        {
          "output_type": "execute_result",
          "data": {
            "text/plain": [
              "[0.871891384852808,\n",
              " 0.871660395182491,\n",
              " 0.8726709472713675,\n",
              " 0.8730944235169886,\n",
              " 0.8725554574380907,\n",
              " 0.8729981873153356,\n",
              " 0.8733831512958276,\n",
              " 0.873065551822846,\n",
              " 0.8731521627370399]"
            ]
          },
          "metadata": {},
          "execution_count": 60
        }
      ]
    },
    {
      "cell_type": "code",
      "source": [
        "plt.figure()\n",
        "plt.errorbar(num_est, bg_clf_cv_mean, yerr=bg_clf_cv_std,c='blue', fmt='-o', capsize=5)\n",
        "plt.ylabel('Accuracy'); plt.xlabel('Ensemble Size'); plt.title('Bagging Tree Ensemble with Logistic Regression');\n",
        "plt.show()"
      ],
      "metadata": {
        "colab": {
          "base_uri": "https://localhost:8080/",
          "height": 295
        },
        "id": "3QetfVKVK5VH",
        "outputId": "902272de-c1bf-4645-8577-d9d7cbb05a94"
      },
      "execution_count": null,
      "outputs": [
        {
          "output_type": "display_data",
          "data": {
            "text/plain": [
              "<Figure size 432x288 with 1 Axes>"
            ],
            "image/png": "[encoded data removed]"
          },
          "metadata": {
            "needs_background": "light"
          }
        }
      ]
    },
    {
      "cell_type": "markdown",
      "source": [
        "**ADaBOOSTING**"
      ],
      "metadata": {
        "id": "Z9M4Tk5cAxZj"
      }
    },
    {
      "cell_type": "markdown",
      "source": [
        "**Question 1**"
      ],
      "metadata": {
        "id": "-FQGdx9xCgnW"
      }
    },
    {
      "cell_type": "code",
      "source": [
        "#Ensemble Size\n",
        "num_est = np.arange(2,20,2)\n",
        "bg_clf_cv_mean = []\n",
        "bg_clf_cv_std = []\n",
        "for n_est in num_est:\n",
        "    ada_clf = AdaBoostClassifier(n_estimators=n_est)\n",
        "    scores = cross_val_score(ada_clf, X, y, cv=3, scoring='accuracy')\n",
        "    bg_clf_cv_mean.append(scores.mean())\n",
        "    bg_clf_cv_std.append(scores.std())"
      ],
      "metadata": {
        "id": "IuHWkxCUk8WM"
      },
      "execution_count": null,
      "outputs": []
    },
    {
      "cell_type": "code",
      "source": [
        "plt.figure()\n",
        "plt.errorbar(num_est, bg_clf_cv_mean, yerr=bg_clf_cv_std,c='blue', fmt='-o', capsize=5)\n",
        "plt.ylabel('Accuracy'); plt.xlabel('Ensemble Size'); plt.title('Boosting Tree Ensemble with Base Estimator(Decision Tree)');\n",
        "plt.show()"
      ],
      "metadata": {
        "colab": {
          "base_uri": "https://localhost:8080/",
          "height": 295
        },
        "id": "Pyendym-lZEY",
        "outputId": "d9a6e685-2c52-479a-f9f0-eade7607a18d"
      },
      "execution_count": null,
      "outputs": [
        {
          "output_type": "display_data",
          "data": {
            "text/plain": [
              "<Figure size 432x288 with 1 Axes>"
            ],
            "image/png": "[encoded data removed]"
          },
          "metadata": {
            "needs_background": "light"
          }
        }
      ]
    },
    {
      "cell_type": "markdown",
      "source": [
        "From the above plot, we can define the importance of Standard Deviation.\n",
        "\n",
        "The standard deviation of the accuracies from the different iterations of cross-validation can be used to get a sense of how stable the model's performance is. If the standard deviation is large, it means that the model's performance is variable, and not consistent across different training and test sets. This can be an indication of overfitting, or of a model that is not generalizing well to new data. On the other hand, if the standard deviation is small, it means that the model's performance is consistent across different training and test sets, and the model is likely to generalize well to new data."
      ],
      "metadata": {
        "id": "P6XrPBcGCK1Z"
      }
    },
    {
      "cell_type": "code",
      "source": [
        "#Ensemble Size\n",
        "num_est = np.arange(2,20,2)\n",
        "bg_clf_cv_mean = []\n",
        "bg_clf_cv_std = []\n",
        "for n_est in num_est:\n",
        "    ada_clf = AdaBoostClassifier(base_estimator=log,n_estimators=n_est)\n",
        "    scores = cross_val_score(ada_clf, X, y, cv=3, scoring='accuracy')\n",
        "    bg_clf_cv_mean.append(scores.mean())\n",
        "    bg_clf_cv_std.append(scores.std())"
      ],
      "metadata": {
        "id": "F5P_Xq_elkLb"
      },
      "execution_count": null,
      "outputs": []
    },
    {
      "cell_type": "code",
      "source": [
        "plt.figure()\n",
        "plt.errorbar(num_est, bg_clf_cv_mean, yerr=bg_clf_cv_std,c='blue', fmt='-o', capsize=5)\n",
        "plt.ylabel('Accuracy'); plt.xlabel('Ensemble Size'); plt.title('Boosting Tree Ensemble with Logistic Regression');\n",
        "plt.show()"
      ],
      "metadata": {
        "colab": {
          "base_uri": "https://localhost:8080/",
          "height": 295
        },
        "id": "R3_vhhAKlrw_",
        "outputId": "9f325e78-60e5-4e14-d53a-44bfed7dbced"
      },
      "execution_count": null,
      "outputs": [
        {
          "output_type": "display_data",
          "data": {
            "text/plain": [
              "<Figure size 432x288 with 1 Axes>"
            ],
            "image/png": "[encoded data removed]"
          },
          "metadata": {
            "needs_background": "light"
          }
        }
      ]
    },
    {
      "cell_type": "code",
      "source": [
        "#Ensemble Size\n",
        "num_est = np.arange(2,20,2)\n",
        "bg_clf_cv_mean = []\n",
        "bg_clf_cv_std = []\n",
        "for n_est in num_est:\n",
        "    ada_clf = AdaBoostClassifier(base_estimator=rfc,n_estimators=n_est)\n",
        "    scores = cross_val_score(ada_clf, X, y, cv=3, scoring='accuracy')\n",
        "    bg_clf_cv_mean.append(scores.mean())\n",
        "    bg_clf_cv_std.append(scores.std())"
      ],
      "metadata": {
        "id": "rx2ZrlColxlB"
      },
      "execution_count": null,
      "outputs": []
    },
    {
      "cell_type": "code",
      "source": [
        "plt.figure()\n",
        "plt.errorbar(num_est, bg_clf_cv_mean, yerr=bg_clf_cv_std,c='blue', fmt='-o', capsize=5)\n",
        "plt.ylabel('Accuracy'); plt.xlabel('Ensemble Size'); plt.title('Boosting Tree Ensemble with Random Forest Classifier');\n",
        "plt.show()"
      ],
      "metadata": {
        "colab": {
          "base_uri": "https://localhost:8080/",
          "height": 295
        },
        "id": "adQtRRFBmStX",
        "outputId": "62c82f1b-7e5b-4fd1-b5c7-506871f6944d"
      },
      "execution_count": null,
      "outputs": [
        {
          "output_type": "display_data",
          "data": {
            "text/plain": [
              "<Figure size 432x288 with 1 Axes>"
            ],
            "image/png": "[encoded data removed]"
          },
          "metadata": {
            "needs_background": "light"
          }
        }
      ]
    },
    {
      "cell_type": "code",
      "source": [
        "def get_models():\n",
        "  models = dict()\n",
        "  models['dt'] = DecisionTreeClassifier(criterion='entropy', max_depth=1)\n",
        "  models['adaboost'] = AdaBoostClassifier(base_estimator=clf, n_estimators=10)\n",
        "  return models"
      ],
      "metadata": {
        "id": "2sB4kuzZb89h"
      },
      "execution_count": null,
      "outputs": []
    },
    {
      "cell_type": "code",
      "source": [
        "# apply mc runs to validate the result\n",
        "import numpy as np\n",
        "\n",
        "def evaluate_model(model, X, y):\n",
        "  mc=100\n",
        "  acc = [] ### Blank vector\n",
        "  for i in range(mc):\n",
        "    X_train,X_test,y_train,y_test=train_test_split(X,y,test_size=0.1)# split dataset\n",
        "    dt = model.fit(X_train,y_train) # fit the model\n",
        "    YPred = dt.predict(X_test) # predict\n",
        "    a = accuracy_score(y_test,YPred) # compute accuracy\n",
        "    acc.append(a) # append accuracy\n",
        "    return np.mean(acc)"
      ],
      "metadata": {
        "id": "O_7tkRHxcFeH"
      },
      "execution_count": null,
      "outputs": []
    },
    {
      "cell_type": "code",
      "source": [
        "min(bg_clf_cv_std)"
      ],
      "metadata": {
        "colab": {
          "base_uri": "https://localhost:8080/"
        },
        "id": "ovm5gjXAmz4g",
        "outputId": "90a67495-a6f5-4a62-ea70-1288a97128d2"
      },
      "execution_count": null,
      "outputs": [
        {
          "output_type": "execute_result",
          "data": {
            "text/plain": [
              "0.0007583889622311461"
            ]
          },
          "metadata": {},
          "execution_count": 78
        }
      ]
    },
    {
      "cell_type": "code",
      "source": [
        "bg_clf_cv_std"
      ],
      "metadata": {
        "colab": {
          "base_uri": "https://localhost:8080/"
        },
        "id": "SXAhMm0qoq8Z",
        "outputId": "f6608df3-af3d-4a8a-dbdc-d420fead0230"
      },
      "execution_count": null,
      "outputs": [
        {
          "output_type": "execute_result",
          "data": {
            "text/plain": [
              "[0.0012190999910739238,\n",
              " 0.0007583889622311461,\n",
              " 0.0009228782757561411,\n",
              " 0.001176804074059774,\n",
              " 0.0014398356646590762,\n",
              " 0.0009046058921662427,\n",
              " 0.0012265635475185636,\n",
              " 0.00104560511400947,\n",
              " 0.0017484544295053336]"
            ]
          },
          "metadata": {},
          "execution_count": 79
        }
      ]
    },
    {
      "cell_type": "markdown",
      "source": [
        "**STACKING**"
      ],
      "metadata": {
        "id": "oe5rg2wXZktA"
      }
    },
    {
      "cell_type": "code",
      "source": [
        "flight=pd.read_csv(\"/content/Airline Satisfaction.csv\").iloc[:,2:]\n",
        "flight.dropna()\n",
        "flight[\"Arrival Delay in Minutes\"].fillna(flight[\"Arrival Delay in Minutes\"].median(),inplace=True)\n",
        "\n",
        "flight[\"Customer Type\"]=flight[\"Customer Type\"].map({\"Loyal Customer\":1,\"disloyal Customer\":0})\n",
        "flight[\"Gender\"]=flight[\"Gender\"].map({\"Male\":1,\"Female\":0})\n",
        "flight[\"Type of Travel\"]=flight[\"Type of Travel\"].map({\"Business travel\":1,\"Personal Travel\":0})\n",
        "flight[\"Class\"]=flight[\"Class\"].map({\"Business\":2,\"Eco\":0,\"Eco Plus\":1})\n",
        "flight[\"satisfaction\"]=flight[\"satisfaction\"].map({\"neutral or dissatisfied\":0,\"satisfied\":1})"
      ],
      "metadata": {
        "id": "F8HKqsdblkWf"
      },
      "execution_count": null,
      "outputs": []
    },
    {
      "cell_type": "code",
      "source": [
        "X=flight.drop(\"satisfaction\",axis=1)\n",
        "X\n",
        "y=flight[\"satisfaction\"]"
      ],
      "metadata": {
        "id": "CcqnsWA9lou4"
      },
      "execution_count": null,
      "outputs": []
    },
    {
      "cell_type": "code",
      "source": [
        "X_train, X_test, y_train, y_test = train_test_split(X, y, test_size=0.3, random_state=42)"
      ],
      "metadata": {
        "id": "Fr5AgoDymMBI"
      },
      "execution_count": null,
      "outputs": []
    },
    {
      "cell_type": "code",
      "source": [
        "estimators=[\n",
        "    (\"rf\",RandomForestClassifier(n_estimators=10,random_state=42)),\n",
        "    (\"knn\",KNeighborsClassifier(n_neighbors=10)),\n",
        "    (\"DTree\",DecisionTreeClassifier())\n",
        "]"
      ],
      "metadata": {
        "id": "P8nlLyifZm9M"
      },
      "execution_count": null,
      "outputs": []
    },
    {
      "cell_type": "code",
      "source": [
        "clf=StackingClassifier(estimators=estimators,\n",
        "                       final_estimator=LogisticRegression(),cv=10)"
      ],
      "metadata": {
        "id": "mdzPHpVRoWji"
      },
      "execution_count": null,
      "outputs": []
    },
    {
      "cell_type": "code",
      "source": [
        "clf.fit(X_train,y_train)"
      ],
      "metadata": {
        "colab": {
          "base_uri": "https://localhost:8080/"
        },
        "id": "qXToBs5yyMau",
        "outputId": "18d6166d-81e9-4c13-d8f9-8a2ceb118c86"
      },
      "execution_count": null,
      "outputs": [
        {
          "output_type": "execute_result",
          "data": {
            "text/plain": [
              "StackingClassifier(cv=10,\n",
              "                   estimators=[('rf',\n",
              "                                RandomForestClassifier(n_estimators=10,\n",
              "                                                       random_state=42)),\n",
              "                               ('knn', KNeighborsClassifier(n_neighbors=10)),\n",
              "                               ('DTree', DecisionTreeClassifier())],\n",
              "                   final_estimator=LogisticRegression())"
            ]
          },
          "metadata": {},
          "execution_count": 28
        }
      ]
    },
    {
      "cell_type": "code",
      "source": [
        "y_pred=clf.predict(X_test)"
      ],
      "metadata": {
        "id": "5RW8uXAmyORo"
      },
      "execution_count": null,
      "outputs": []
    },
    {
      "cell_type": "code",
      "source": [
        "accuracy_score(y_test,y_pred)"
      ],
      "metadata": {
        "colab": {
          "base_uri": "https://localhost:8080/"
        },
        "id": "uA3AW0CMyUzj",
        "outputId": "f3bbfa87-575a-4aa7-c6c8-a49e0a973686"
      },
      "execution_count": null,
      "outputs": [
        {
          "output_type": "execute_result",
          "data": {
            "text/plain": [
              "0.9568523033491595"
            ]
          },
          "metadata": {},
          "execution_count": 30
        }
      ]
    },
    {
      "cell_type": "markdown",
      "source": [
        "**Question 1 of D**"
      ],
      "metadata": {
        "id": "UrrCgNIkaSnw"
      }
    },
    {
      "cell_type": "markdown",
      "source": [
        "Select the best classifier and explain the advantages"
      ],
      "metadata": {
        "id": "ssDNeuZeabls"
      }
    },
    {
      "cell_type": "code",
      "source": [
        "# get a list of models to evaluate\n",
        "def get_models():\n",
        "  models = dict() \n",
        "  models['bagg_dt'] = BaggingClassifier(base_estimator=DecisionTreeClassifier(criterion='entropy'),n_estimators=10)\n",
        "  models['bagg_log'] = BaggingClassifier(base_estimator=LogisticRegression(), n_estimators=10) # 10 bags\n",
        "  models['bagg_rfc'] = BaggingClassifier(base_estimator=RandomForestClassifier(n_estimators=11,n_jobs=-1), n_estimators=10) # 10 bags  \n",
        "  return models"
      ],
      "metadata": {
        "id": "B8-NmKBHsS1P"
      },
      "execution_count": null,
      "outputs": []
    },
    {
      "cell_type": "code",
      "source": [
        "models=get_models()\n",
        "models.items()"
      ],
      "metadata": {
        "colab": {
          "base_uri": "https://localhost:8080/"
        },
        "id": "tdWYMDkNsSg7",
        "outputId": "116f0f61-20a0-4a31-976e-30d7217f35d0"
      },
      "execution_count": null,
      "outputs": [
        {
          "output_type": "execute_result",
          "data": {
            "text/plain": [
              "dict_items([('bagg_dt', BaggingClassifier(base_estimator=DecisionTreeClassifier(criterion='entropy'))), ('bagg_log', BaggingClassifier(base_estimator=LogisticRegression())), ('bagg_rfc', BaggingClassifier(base_estimator=RandomForestClassifier(n_estimators=11,\n",
              "                                                        n_jobs=-1)))])"
            ]
          },
          "metadata": {},
          "execution_count": 94
        }
      ]
    },
    {
      "cell_type": "code",
      "source": [
        "# create the function to evaluate the models\n",
        "\n",
        "def evaluate_model(model, X, y):\n",
        "  acc = []\n",
        "  for j in range(10):\n",
        "    X_train,X_test,y_train,y_test = train_test_split(X,y,test_size=0.3, random_state = j)\n",
        "    model.fit(X_train, y_train)\n",
        "    y_pred = model.predict(X_test)\n",
        "    accuracy = accuracy_score(y_test,y_pred)\n",
        "    acc.append(accuracy)\n",
        "    scores=np.mean(acc) \n",
        "    return scores"
      ],
      "metadata": {
        "id": "c68fxag1saMs"
      },
      "execution_count": null,
      "outputs": []
    },
    {
      "cell_type": "code",
      "source": [
        "#run the models on the dataset\n",
        " \n",
        "from numpy import mean, std\n",
        "results, names = list(), list()\n",
        "for name, model in models.items():\n",
        "\tscores = evaluate_model(model, X, y)\n",
        "\tresults.append(scores)\n",
        "\tnames.append(name)\n",
        "\tprint('>%s %.3f (%.3f)' % (name, mean(scores), std(scores)))"
      ],
      "metadata": {
        "colab": {
          "base_uri": "https://localhost:8080/"
        },
        "id": "9-sRHdtVsgNG",
        "outputId": "15797d9b-1ae9-41ae-cdc7-23311cd32937"
      },
      "execution_count": null,
      "outputs": [
        {
          "output_type": "stream",
          "name": "stdout",
          "text": [
            ">bagg_dt 0.961 (0.000)\n",
            ">bagg_log 0.794 (0.000)\n",
            ">bagg_rfc 0.960 (0.000)\n"
          ]
        }
      ]
    },
    {
      "cell_type": "markdown",
      "source": [
        "#**Choosing best models from Boosting**"
      ],
      "metadata": {
        "id": "klw4ndOt3pkT"
      }
    },
    {
      "cell_type": "code",
      "source": [
        "# get a list of models to evaluate\n",
        "def get_models():\n",
        "  models = dict() \n",
        "  models['boost_dt'] = AdaBoostClassifier(base_estimator=DecisionTreeClassifier(criterion='entropy'), n_estimators=10) # 10 steps\n",
        "  models['boost_log'] = AdaBoostClassifier(base_estimator=LogisticRegression(), n_estimators=10) # 10 steps\n",
        "  models['boost_rfc'] = AdaBoostClassifier(base_estimator=RandomForestClassifier(n_estimators=11,n_jobs=-1), n_estimators=10) # 10 steps\n",
        "  return models"
      ],
      "metadata": {
        "id": "KHLengHds80c"
      },
      "execution_count": null,
      "outputs": []
    },
    {
      "cell_type": "code",
      "source": [
        "models=get_models()\n",
        "models.items()"
      ],
      "metadata": {
        "colab": {
          "base_uri": "https://localhost:8080/"
        },
        "id": "bWDkWWoQs8_j",
        "outputId": "6caf512b-d3e1-4498-d8be-d1312f82d61e"
      },
      "execution_count": null,
      "outputs": [
        {
          "output_type": "execute_result",
          "data": {
            "text/plain": [
              "dict_items([('boost_dt', AdaBoostClassifier(base_estimator=DecisionTreeClassifier(criterion='entropy'),\n",
              "                   n_estimators=10)), ('boost_log', AdaBoostClassifier(base_estimator=LogisticRegression(), n_estimators=10)), ('boost_rfc', AdaBoostClassifier(base_estimator=RandomForestClassifier(n_estimators=11,\n",
              "                                                         n_jobs=-1),\n",
              "                   n_estimators=10))])"
            ]
          },
          "metadata": {},
          "execution_count": 106
        }
      ]
    },
    {
      "cell_type": "code",
      "source": [
        "#run the models on the dataset\n",
        "results, names = list(), list()\n",
        "for name, model in models.items():\n",
        "\tscores = evaluate_model(model, X, y)\n",
        "\tresults.append(scores)\n",
        "\tnames.append(name)\n",
        "\tprint('>%s %.3f (%.3f)' % (name, mean(scores), std(scores)))"
      ],
      "metadata": {
        "colab": {
          "base_uri": "https://localhost:8080/"
        },
        "id": "M3RLbnVNttjo",
        "outputId": "e4375b1a-ac99-4f07-a894-f2b036486465"
      },
      "execution_count": null,
      "outputs": [
        {
          "output_type": "stream",
          "name": "stdout",
          "text": [
            ">boost_dt 0.949 (0.000)\n",
            ">boost_log 0.848 (0.000)\n",
            ">boost_rfc 0.957 (0.000)\n"
          ]
        }
      ]
    },
    {
      "cell_type": "markdown",
      "source": [
        "From the above exercises of Bagging, Boosting and Stacking I am able to find Boosting as the most appropriate Machine Learning Algorithm technique, fortunately from the graphs and above execution of codes, it's clearly visible that Decision Tree is working perfectly fine with Adaboost classifier."
      ],
      "metadata": {
        "id": "8tVv3BPCac9q"
      }
    },
    {
      "cell_type": "markdown",
      "source": [
        "#**REGRESSION**"
      ],
      "metadata": {
        "id": "hA0FlwoKKFSU"
      }
    },
    {
      "cell_type": "markdown",
      "source": [
        "**Question 2**"
      ],
      "metadata": {
        "id": "uHxSIDK-b139"
      }
    },
    {
      "cell_type": "code",
      "source": [
        "import pandas as pd\n",
        "import numpy as np\n",
        "data=pd.read_csv(\"/content/kc_house_data.csv\").iloc[:,1:]\n",
        "data.head()"
      ],
      "metadata": {
        "id": "FNJ9Y1p0ziOT",
        "colab": {
          "base_uri": "https://localhost:8080/",
          "height": 270
        },
        "outputId": "3b9703fe-7acf-421e-9be5-725899352416"
      },
      "execution_count": null,
      "outputs": [
        {
          "output_type": "execute_result",
          "data": {
            "text/plain": [
              "              date   price  bedrooms  bathrooms  sqft_living  sqft_lot  \\\n",
              "0  20141013T000000  221900         3       1.00         1180      5650   \n",
              "1  20141209T000000  538000         3       2.25         2570      7242   \n",
              "2  20150225T000000  180000         2       1.00          770     10000   \n",
              "3  20141209T000000  604000         4       3.00         1960      5000   \n",
              "4  20150218T000000  510000         3       2.00         1680      8080   \n",
              "\n",
              "   floors  waterfront  view  condition  grade  sqft_above  sqft_basement  \\\n",
              "0     1.0           0     0          3      7      1180.0              0   \n",
              "1     2.0           0     0          3      7      2170.0            400   \n",
              "2     1.0           0     0          3      6       770.0              0   \n",
              "3     1.0           0     0          5      7      1050.0            910   \n",
              "4     1.0           0     0          3      8      1680.0              0   \n",
              "\n",
              "   yr_built  yr_renovated  zipcode      lat     long  sqft_living15  \\\n",
              "0      1955             0    98178  47.5112 -122.257           1340   \n",
              "1      1951          1991    98125  47.7210 -122.319           1690   \n",
              "2      1933             0    98028  47.7379 -122.233           2720   \n",
              "3      1965             0    98136  47.5208 -122.393           1360   \n",
              "4      1987             0    98074  47.6168 -122.045           1800   \n",
              "\n",
              "   sqft_lot15  \n",
              "0        5650  \n",
              "1        7639  \n",
              "2        8062  \n",
              "3        5000  \n",
              "4        7503  "
            ],
            "text/html": [
              "\n",
              "  <div id=\"df-f6cadc59-3955-4e6f-b6bc-51e8d457f803\">\n",
              "    <div class=\"colab-df-container\">\n",
              "      <div>\n",
              "<style scoped>\n",
              "    .dataframe tbody tr th:only-of-type {\n",
              "        vertical-align: middle;\n",
              "    }\n",
              "\n",
              "    .dataframe tbody tr th {\n",
              "        vertical-align: top;\n",
              "    }\n",
              "\n",
              "    .dataframe thead th {\n",
              "        text-align: right;\n",
              "    }\n",
              "</style>\n",
              "<table border=\"1\" class=\"dataframe\">\n",
              "  <thead>\n",
              "    <tr style=\"text-align: right;\">\n",
              "      <th></th>\n",
              "      <th>date</th>\n",
              "      <th>price</th>\n",
              "      <th>bedrooms</th>\n",
              "      <th>bathrooms</th>\n",
              "      <th>sqft_living</th>\n",
              "      <th>sqft_lot</th>\n",
              "      <th>floors</th>\n",
              "      <th>waterfront</th>\n",
              "      <th>view</th>\n",
              "      <th>condition</th>\n",
              "      <th>grade</th>\n",
              "      <th>sqft_above</th>\n",
              "      <th>sqft_basement</th>\n",
              "      <th>yr_built</th>\n",
              "      <th>yr_renovated</th>\n",
              "      <th>zipcode</th>\n",
              "      <th>lat</th>\n",
              "      <th>long</th>\n",
              "      <th>sqft_living15</th>\n",
              "      <th>sqft_lot15</th>\n",
              "    </tr>\n",
              "  </thead>\n",
              "  <tbody>\n",
              "    <tr>\n",
              "      <th>0</th>\n",
              "      <td>20141013T000000</td>\n",
              "      <td>221900</td>\n",
              "      <td>3</td>\n",
              "      <td>1.00</td>\n",
              "      <td>1180</td>\n",
              "      <td>5650</td>\n",
              "      <td>1.0</td>\n",
              "      <td>0</td>\n",
              "      <td>0</td>\n",
              "      <td>3</td>\n",
              "      <td>7</td>\n",
              "      <td>1180.0</td>\n",
              "      <td>0</td>\n",
              "      <td>1955</td>\n",
              "      <td>0</td>\n",
              "      <td>98178</td>\n",
              "      <td>47.5112</td>\n",
              "      <td>-122.257</td>\n",
              "      <td>1340</td>\n",
              "      <td>5650</td>\n",
              "    </tr>\n",
              "    <tr>\n",
              "      <th>1</th>\n",
              "      <td>20141209T000000</td>\n",
              "      <td>538000</td>\n",
              "      <td>3</td>\n",
              "      <td>2.25</td>\n",
              "      <td>2570</td>\n",
              "      <td>7242</td>\n",
              "      <td>2.0</td>\n",
              "      <td>0</td>\n",
              "      <td>0</td>\n",
              "      <td>3</td>\n",
              "      <td>7</td>\n",
              "      <td>2170.0</td>\n",
              "      <td>400</td>\n",
              "      <td>1951</td>\n",
              "      <td>1991</td>\n",
              "      <td>98125</td>\n",
              "      <td>47.7210</td>\n",
              "      <td>-122.319</td>\n",
              "      <td>1690</td>\n",
              "      <td>7639</td>\n",
              "    </tr>\n",
              "    <tr>\n",
              "      <th>2</th>\n",
              "      <td>20150225T000000</td>\n",
              "      <td>180000</td>\n",
              "      <td>2</td>\n",
              "      <td>1.00</td>\n",
              "      <td>770</td>\n",
              "      <td>10000</td>\n",
              "      <td>1.0</td>\n",
              "      <td>0</td>\n",
              "      <td>0</td>\n",
              "      <td>3</td>\n",
              "      <td>6</td>\n",
              "      <td>770.0</td>\n",
              "      <td>0</td>\n",
              "      <td>1933</td>\n",
              "      <td>0</td>\n",
              "      <td>98028</td>\n",
              "      <td>47.7379</td>\n",
              "      <td>-122.233</td>\n",
              "      <td>2720</td>\n",
              "      <td>8062</td>\n",
              "    </tr>\n",
              "    <tr>\n",
              "      <th>3</th>\n",
              "      <td>20141209T000000</td>\n",
              "      <td>604000</td>\n",
              "      <td>4</td>\n",
              "      <td>3.00</td>\n",
              "      <td>1960</td>\n",
              "      <td>5000</td>\n",
              "      <td>1.0</td>\n",
              "      <td>0</td>\n",
              "      <td>0</td>\n",
              "      <td>5</td>\n",
              "      <td>7</td>\n",
              "      <td>1050.0</td>\n",
              "      <td>910</td>\n",
              "      <td>1965</td>\n",
              "      <td>0</td>\n",
              "      <td>98136</td>\n",
              "      <td>47.5208</td>\n",
              "      <td>-122.393</td>\n",
              "      <td>1360</td>\n",
              "      <td>5000</td>\n",
              "    </tr>\n",
              "    <tr>\n",
              "      <th>4</th>\n",
              "      <td>20150218T000000</td>\n",
              "      <td>510000</td>\n",
              "      <td>3</td>\n",
              "      <td>2.00</td>\n",
              "      <td>1680</td>\n",
              "      <td>8080</td>\n",
              "      <td>1.0</td>\n",
              "      <td>0</td>\n",
              "      <td>0</td>\n",
              "      <td>3</td>\n",
              "      <td>8</td>\n",
              "      <td>1680.0</td>\n",
              "      <td>0</td>\n",
              "      <td>1987</td>\n",
              "      <td>0</td>\n",
              "      <td>98074</td>\n",
              "      <td>47.6168</td>\n",
              "      <td>-122.045</td>\n",
              "      <td>1800</td>\n",
              "      <td>7503</td>\n",
              "    </tr>\n",
              "  </tbody>\n",
              "</table>\n",
              "</div>\n",
              "      <button class=\"colab-df-convert\" onclick=\"convertToInteractive('df-f6cadc59-3955-4e6f-b6bc-51e8d457f803')\"\n",
              "              title=\"Convert this dataframe to an interactive table.\"\n",
              "              style=\"display:none;\">\n",
              "        \n",
              "  <svg xmlns=\"http://www.w3.org/2000/svg\" height=\"24px\"viewBox=\"0 0 24 24\"\n",
              "       width=\"24px\">\n",
              "    <path d=\"M0 0h24v24H0V0z\" fill=\"none\"/>\n",
              "    <path d=\"M18.56 5.44l.94 2.06.94-2.06 2.06-.94-2.06-.94-.94-2.06-.94 2.06-2.06.94zm-11 1L8.5 8.5l.94-2.06 2.06-.94-2.06-.94L8.5 2.5l-.94 2.06-2.06.94zm10 10l.94 2.06.94-2.06 2.06-.94-2.06-.94-.94-2.06-.94 2.06-2.06.94z\"/><path d=\"M17.41 7.96l-1.37-1.37c-.4-.4-.92-.59-1.43-.59-.52 0-1.04.2-1.43.59L10.3 9.45l-7.72 7.72c-.78.78-.78 2.05 0 2.83L4 21.41c.39.39.9.59 1.41.59.51 0 1.02-.2 1.41-.59l7.78-7.78 2.81-2.81c.8-.78.8-2.07 0-2.86zM5.41 20L4 18.59l7.72-7.72 1.47 1.35L5.41 20z\"/>\n",
              "  </svg>\n",
              "      </button>\n",
              "      \n",
              "  <style>\n",
              "    .colab-df-container {\n",
              "      display:flex;\n",
              "      flex-wrap:wrap;\n",
              "      gap: 12px;\n",
              "    }\n",
              "\n",
              "    .colab-df-convert {\n",
              "      background-color: #E8F0FE;\n",
              "      border: none;\n",
              "      border-radius: 50%;\n",
              "      cursor: pointer;\n",
              "      display: none;\n",
              "      fill: #1967D2;\n",
              "      height: 32px;\n",
              "      padding: 0 0 0 0;\n",
              "      width: 32px;\n",
              "    }\n",
              "\n",
              "    .colab-df-convert:hover {\n",
              "      background-color: #E2EBFA;\n",
              "      box-shadow: 0px 1px 2px rgba(60, 64, 67, 0.3), 0px 1px 3px 1px rgba(60, 64, 67, 0.15);\n",
              "      fill: #174EA6;\n",
              "    }\n",
              "\n",
              "    [theme=dark] .colab-df-convert {\n",
              "      background-color: #3B4455;\n",
              "      fill: #D2E3FC;\n",
              "    }\n",
              "\n",
              "    [theme=dark] .colab-df-convert:hover {\n",
              "      background-color: #434B5C;\n",
              "      box-shadow: 0px 1px 3px 1px rgba(0, 0, 0, 0.15);\n",
              "      filter: drop-shadow(0px 1px 2px rgba(0, 0, 0, 0.3));\n",
              "      fill: #FFFFFF;\n",
              "    }\n",
              "  </style>\n",
              "\n",
              "      <script>\n",
              "        const buttonEl =\n",
              "          document.querySelector('#df-f6cadc59-3955-4e6f-b6bc-51e8d457f803 button.colab-df-convert');\n",
              "        buttonEl.style.display =\n",
              "          google.colab.kernel.accessAllowed ? 'block' : 'none';\n",
              "\n",
              "        async function convertToInteractive(key) {\n",
              "          const element = document.querySelector('#df-f6cadc59-3955-4e6f-b6bc-51e8d457f803');\n",
              "          const dataTable =\n",
              "            await google.colab.kernel.invokeFunction('convertToInteractive',\n",
              "                                                     [key], {});\n",
              "          if (!dataTable) return;\n",
              "\n",
              "          const docLinkHtml = 'Like what you see? Visit the ' +\n",
              "            '<a target=\"_blank\" href=https://colab.research.google.com/notebooks/data_table.ipynb>data table notebook</a>'\n",
              "            + ' to learn more about interactive tables.';\n",
              "          element.innerHTML = '';\n",
              "          dataTable['output_type'] = 'display_data';\n",
              "          await google.colab.output.renderOutput(dataTable, element);\n",
              "          const docLink = document.createElement('div');\n",
              "          docLink.innerHTML = docLinkHtml;\n",
              "          element.appendChild(docLink);\n",
              "        }\n",
              "      </script>\n",
              "    </div>\n",
              "  </div>\n",
              "  "
            ]
          },
          "metadata": {},
          "execution_count": 3
        }
      ]
    },
    {
      "cell_type": "code",
      "source": [
        "data.drop(columns=[\"lat\",\"long\"],inplace=True)"
      ],
      "metadata": {
        "id": "iAlQEbIFp05H"
      },
      "execution_count": null,
      "outputs": []
    },
    {
      "cell_type": "code",
      "source": [
        "data[\"date\"]=pd.to_datetime(data[\"date\"])\n",
        "data.head()"
      ],
      "metadata": {
        "colab": {
          "base_uri": "https://localhost:8080/",
          "height": 357
        },
        "id": "aHPAaPmBjMBK",
        "outputId": "37d468b8-1537-4ee0-868c-a6d23c8d185b"
      },
      "execution_count": null,
      "outputs": [
        {
          "output_type": "execute_result",
          "data": {
            "text/plain": [
              "        date   price  bedrooms  bathrooms  sqft_living  sqft_lot  floors  \\\n",
              "0 2014-10-13  221900         3       1.00         1180      5650     1.0   \n",
              "1 2014-12-09  538000         3       2.25         2570      7242     2.0   \n",
              "2 2015-02-25  180000         2       1.00          770     10000     1.0   \n",
              "3 2014-12-09  604000         4       3.00         1960      5000     1.0   \n",
              "4 2015-02-18  510000         3       2.00         1680      8080     1.0   \n",
              "\n",
              "   waterfront  view  condition  grade  sqft_above  sqft_basement  yr_built  \\\n",
              "0           0     0          3      7      1180.0              0      1955   \n",
              "1           0     0          3      7      2170.0            400      1951   \n",
              "2           0     0          3      6       770.0              0      1933   \n",
              "3           0     0          5      7      1050.0            910      1965   \n",
              "4           0     0          3      8      1680.0              0      1987   \n",
              "\n",
              "   yr_renovated  zipcode  sqft_living15  sqft_lot15  \n",
              "0             0    98178           1340        5650  \n",
              "1          1991    98125           1690        7639  \n",
              "2             0    98028           2720        8062  \n",
              "3             0    98136           1360        5000  \n",
              "4             0    98074           1800        7503  "
            ],
            "text/html": [
              "\n",
              "  <div id=\"df-e79b1a73-dc55-48e2-bbc9-f20876a36aab\">\n",
              "    <div class=\"colab-df-container\">\n",
              "      <div>\n",
              "<style scoped>\n",
              "    .dataframe tbody tr th:only-of-type {\n",
              "        vertical-align: middle;\n",
              "    }\n",
              "\n",
              "    .dataframe tbody tr th {\n",
              "        vertical-align: top;\n",
              "    }\n",
              "\n",
              "    .dataframe thead th {\n",
              "        text-align: right;\n",
              "    }\n",
              "</style>\n",
              "<table border=\"1\" class=\"dataframe\">\n",
              "  <thead>\n",
              "    <tr style=\"text-align: right;\">\n",
              "      <th></th>\n",
              "      <th>date</th>\n",
              "      <th>price</th>\n",
              "      <th>bedrooms</th>\n",
              "      <th>bathrooms</th>\n",
              "      <th>sqft_living</th>\n",
              "      <th>sqft_lot</th>\n",
              "      <th>floors</th>\n",
              "      <th>waterfront</th>\n",
              "      <th>view</th>\n",
              "      <th>condition</th>\n",
              "      <th>grade</th>\n",
              "      <th>sqft_above</th>\n",
              "      <th>sqft_basement</th>\n",
              "      <th>yr_built</th>\n",
              "      <th>yr_renovated</th>\n",
              "      <th>zipcode</th>\n",
              "      <th>sqft_living15</th>\n",
              "      <th>sqft_lot15</th>\n",
              "    </tr>\n",
              "  </thead>\n",
              "  <tbody>\n",
              "    <tr>\n",
              "      <th>0</th>\n",
              "      <td>2014-10-13</td>\n",
              "      <td>221900</td>\n",
              "      <td>3</td>\n",
              "      <td>1.00</td>\n",
              "      <td>1180</td>\n",
              "      <td>5650</td>\n",
              "      <td>1.0</td>\n",
              "      <td>0</td>\n",
              "      <td>0</td>\n",
              "      <td>3</td>\n",
              "      <td>7</td>\n",
              "      <td>1180.0</td>\n",
              "      <td>0</td>\n",
              "      <td>1955</td>\n",
              "      <td>0</td>\n",
              "      <td>98178</td>\n",
              "      <td>1340</td>\n",
              "      <td>5650</td>\n",
              "    </tr>\n",
              "    <tr>\n",
              "      <th>1</th>\n",
              "      <td>2014-12-09</td>\n",
              "      <td>538000</td>\n",
              "      <td>3</td>\n",
              "      <td>2.25</td>\n",
              "      <td>2570</td>\n",
              "      <td>7242</td>\n",
              "      <td>2.0</td>\n",
              "      <td>0</td>\n",
              "      <td>0</td>\n",
              "      <td>3</td>\n",
              "      <td>7</td>\n",
              "      <td>2170.0</td>\n",
              "      <td>400</td>\n",
              "      <td>1951</td>\n",
              "      <td>1991</td>\n",
              "      <td>98125</td>\n",
              "      <td>1690</td>\n",
              "      <td>7639</td>\n",
              "    </tr>\n",
              "    <tr>\n",
              "      <th>2</th>\n",
              "      <td>2015-02-25</td>\n",
              "      <td>180000</td>\n",
              "      <td>2</td>\n",
              "      <td>1.00</td>\n",
              "      <td>770</td>\n",
              "      <td>10000</td>\n",
              "      <td>1.0</td>\n",
              "      <td>0</td>\n",
              "      <td>0</td>\n",
              "      <td>3</td>\n",
              "      <td>6</td>\n",
              "      <td>770.0</td>\n",
              "      <td>0</td>\n",
              "      <td>1933</td>\n",
              "      <td>0</td>\n",
              "      <td>98028</td>\n",
              "      <td>2720</td>\n",
              "      <td>8062</td>\n",
              "    </tr>\n",
              "    <tr>\n",
              "      <th>3</th>\n",
              "      <td>2014-12-09</td>\n",
              "      <td>604000</td>\n",
              "      <td>4</td>\n",
              "      <td>3.00</td>\n",
              "      <td>1960</td>\n",
              "      <td>5000</td>\n",
              "      <td>1.0</td>\n",
              "      <td>0</td>\n",
              "      <td>0</td>\n",
              "      <td>5</td>\n",
              "      <td>7</td>\n",
              "      <td>1050.0</td>\n",
              "      <td>910</td>\n",
              "      <td>1965</td>\n",
              "      <td>0</td>\n",
              "      <td>98136</td>\n",
              "      <td>1360</td>\n",
              "      <td>5000</td>\n",
              "    </tr>\n",
              "    <tr>\n",
              "      <th>4</th>\n",
              "      <td>2015-02-18</td>\n",
              "      <td>510000</td>\n",
              "      <td>3</td>\n",
              "      <td>2.00</td>\n",
              "      <td>1680</td>\n",
              "      <td>8080</td>\n",
              "      <td>1.0</td>\n",
              "      <td>0</td>\n",
              "      <td>0</td>\n",
              "      <td>3</td>\n",
              "      <td>8</td>\n",
              "      <td>1680.0</td>\n",
              "      <td>0</td>\n",
              "      <td>1987</td>\n",
              "      <td>0</td>\n",
              "      <td>98074</td>\n",
              "      <td>1800</td>\n",
              "      <td>7503</td>\n",
              "    </tr>\n",
              "  </tbody>\n",
              "</table>\n",
              "</div>\n",
              "      <button class=\"colab-df-convert\" onclick=\"convertToInteractive('df-e79b1a73-dc55-48e2-bbc9-f20876a36aab')\"\n",
              "              title=\"Convert this dataframe to an interactive table.\"\n",
              "              style=\"display:none;\">\n",
              "        \n",
              "  <svg xmlns=\"http://www.w3.org/2000/svg\" height=\"24px\"viewBox=\"0 0 24 24\"\n",
              "       width=\"24px\">\n",
              "    <path d=\"M0 0h24v24H0V0z\" fill=\"none\"/>\n",
              "    <path d=\"M18.56 5.44l.94 2.06.94-2.06 2.06-.94-2.06-.94-.94-2.06-.94 2.06-2.06.94zm-11 1L8.5 8.5l.94-2.06 2.06-.94-2.06-.94L8.5 2.5l-.94 2.06-2.06.94zm10 10l.94 2.06.94-2.06 2.06-.94-2.06-.94-.94-2.06-.94 2.06-2.06.94z\"/><path d=\"M17.41 7.96l-1.37-1.37c-.4-.4-.92-.59-1.43-.59-.52 0-1.04.2-1.43.59L10.3 9.45l-7.72 7.72c-.78.78-.78 2.05 0 2.83L4 21.41c.39.39.9.59 1.41.59.51 0 1.02-.2 1.41-.59l7.78-7.78 2.81-2.81c.8-.78.8-2.07 0-2.86zM5.41 20L4 18.59l7.72-7.72 1.47 1.35L5.41 20z\"/>\n",
              "  </svg>\n",
              "      </button>\n",
              "      \n",
              "  <style>\n",
              "    .colab-df-container {\n",
              "      display:flex;\n",
              "      flex-wrap:wrap;\n",
              "      gap: 12px;\n",
              "    }\n",
              "\n",
              "    .colab-df-convert {\n",
              "      background-color: #E8F0FE;\n",
              "      border: none;\n",
              "      border-radius: 50%;\n",
              "      cursor: pointer;\n",
              "      display: none;\n",
              "      fill: #1967D2;\n",
              "      height: 32px;\n",
              "      padding: 0 0 0 0;\n",
              "      width: 32px;\n",
              "    }\n",
              "\n",
              "    .colab-df-convert:hover {\n",
              "      background-color: #E2EBFA;\n",
              "      box-shadow: 0px 1px 2px rgba(60, 64, 67, 0.3), 0px 1px 3px 1px rgba(60, 64, 67, 0.15);\n",
              "      fill: #174EA6;\n",
              "    }\n",
              "\n",
              "    [theme=dark] .colab-df-convert {\n",
              "      background-color: #3B4455;\n",
              "      fill: #D2E3FC;\n",
              "    }\n",
              "\n",
              "    [theme=dark] .colab-df-convert:hover {\n",
              "      background-color: #434B5C;\n",
              "      box-shadow: 0px 1px 3px 1px rgba(0, 0, 0, 0.15);\n",
              "      filter: drop-shadow(0px 1px 2px rgba(0, 0, 0, 0.3));\n",
              "      fill: #FFFFFF;\n",
              "    }\n",
              "  </style>\n",
              "\n",
              "      <script>\n",
              "        const buttonEl =\n",
              "          document.querySelector('#df-e79b1a73-dc55-48e2-bbc9-f20876a36aab button.colab-df-convert');\n",
              "        buttonEl.style.display =\n",
              "          google.colab.kernel.accessAllowed ? 'block' : 'none';\n",
              "\n",
              "        async function convertToInteractive(key) {\n",
              "          const element = document.querySelector('#df-e79b1a73-dc55-48e2-bbc9-f20876a36aab');\n",
              "          const dataTable =\n",
              "            await google.colab.kernel.invokeFunction('convertToInteractive',\n",
              "                                                     [key], {});\n",
              "          if (!dataTable) return;\n",
              "\n",
              "          const docLinkHtml = 'Like what you see? Visit the ' +\n",
              "            '<a target=\"_blank\" href=https://colab.research.google.com/notebooks/data_table.ipynb>data table notebook</a>'\n",
              "            + ' to learn more about interactive tables.';\n",
              "          element.innerHTML = '';\n",
              "          dataTable['output_type'] = 'display_data';\n",
              "          await google.colab.output.renderOutput(dataTable, element);\n",
              "          const docLink = document.createElement('div');\n",
              "          docLink.innerHTML = docLinkHtml;\n",
              "          element.appendChild(docLink);\n",
              "        }\n",
              "      </script>\n",
              "    </div>\n",
              "  </div>\n",
              "  "
            ]
          },
          "metadata": {},
          "execution_count": 5
        }
      ]
    },
    {
      "cell_type": "code",
      "source": [
        "data.info()"
      ],
      "metadata": {
        "colab": {
          "base_uri": "https://localhost:8080/"
        },
        "id": "KfPkNEX5jctH",
        "outputId": "d30944bb-0838-4e3b-bfa3-ad025cd7a178"
      },
      "execution_count": null,
      "outputs": [
        {
          "output_type": "stream",
          "name": "stdout",
          "text": [
            "<class 'pandas.core.frame.DataFrame'>\n",
            "RangeIndex: 21613 entries, 0 to 21612\n",
            "Data columns (total 18 columns):\n",
            " #   Column         Non-Null Count  Dtype         \n",
            "---  ------         --------------  -----         \n",
            " 0   date           21613 non-null  datetime64[ns]\n",
            " 1   price          21613 non-null  int64         \n",
            " 2   bedrooms       21613 non-null  int64         \n",
            " 3   bathrooms      21613 non-null  float64       \n",
            " 4   sqft_living    21613 non-null  int64         \n",
            " 5   sqft_lot       21613 non-null  int64         \n",
            " 6   floors         21613 non-null  float64       \n",
            " 7   waterfront     21613 non-null  int64         \n",
            " 8   view           21613 non-null  int64         \n",
            " 9   condition      21613 non-null  int64         \n",
            " 10  grade          21613 non-null  int64         \n",
            " 11  sqft_above     21611 non-null  float64       \n",
            " 12  sqft_basement  21613 non-null  int64         \n",
            " 13  yr_built       21613 non-null  int64         \n",
            " 14  yr_renovated   21613 non-null  int64         \n",
            " 15  zipcode        21613 non-null  int64         \n",
            " 16  sqft_living15  21613 non-null  int64         \n",
            " 17  sqft_lot15     21613 non-null  int64         \n",
            "dtypes: datetime64[ns](1), float64(3), int64(14)\n",
            "memory usage: 3.0 MB\n"
          ]
        }
      ]
    },
    {
      "cell_type": "code",
      "source": [
        "data.isnull().sum()"
      ],
      "metadata": {
        "colab": {
          "base_uri": "https://localhost:8080/"
        },
        "id": "LBxaw7Oejr1p",
        "outputId": "c54fbb05-b7be-4b54-f2e5-4e2fd767e817"
      },
      "execution_count": null,
      "outputs": [
        {
          "output_type": "execute_result",
          "data": {
            "text/plain": [
              "date             0\n",
              "price            0\n",
              "bedrooms         0\n",
              "bathrooms        0\n",
              "sqft_living      0\n",
              "sqft_lot         0\n",
              "floors           0\n",
              "waterfront       0\n",
              "view             0\n",
              "condition        0\n",
              "grade            0\n",
              "sqft_above       2\n",
              "sqft_basement    0\n",
              "yr_built         0\n",
              "yr_renovated     0\n",
              "zipcode          0\n",
              "sqft_living15    0\n",
              "sqft_lot15       0\n",
              "dtype: int64"
            ]
          },
          "metadata": {},
          "execution_count": 7
        }
      ]
    },
    {
      "cell_type": "code",
      "source": [
        "data[\"sqft_above\"].fillna(data[\"sqft_above\"].median(),inplace=True)"
      ],
      "metadata": {
        "id": "FV-pKRlVj0ng"
      },
      "execution_count": null,
      "outputs": []
    },
    {
      "cell_type": "code",
      "source": [
        "data.head()\n",
        "n_data=data.iloc[:,1:]"
      ],
      "metadata": {
        "id": "81iJab20j8p2"
      },
      "execution_count": null,
      "outputs": []
    },
    {
      "cell_type": "code",
      "source": [
        "#Outlier detection\n",
        "plt.figure(figsize=(15,15))\n",
        "plt.suptitle(\"Outliers Analysis\", fontsize=20,fontweight=\"bold\", alpha=0.8)\n",
        "for i in range(0,len(n_data.columns)):\n",
        "  plt.subplot(7,3,i+1)\n",
        "  sns.boxplot(n_data[n_data.columns[i]])\n",
        "  plt.tight_layout()"
      ],
      "metadata": {
        "colab": {
          "base_uri": "https://localhost:8080/",
          "height": 964
        },
        "id": "nvG5Koz-kqi0",
        "outputId": "54f7b923-d8e0-4b73-f65a-d38b772170f0"
      },
      "execution_count": null,
      "outputs": [
        {
          "output_type": "display_data",
          "data": {
            "text/plain": [
              "<Figure size 1080x1080 with 17 Axes>"
            ],
            "image/png": "[encoded data removed]"
          },
          "metadata": {
            "needs_background": "light"
          }
        }
      ]
    },
    {
      "cell_type": "code",
      "source": [
        "#Normal Distribution\n",
        "plt.figure(figsize=(15,15))\n",
        "plt.suptitle(\"Normal Distribution\", fontsize=20,fontweight=\"bold\", alpha=0.8)\n",
        "for i in range(0,len(n_data.columns)):\n",
        "  plt.subplot(7,3,i+1)\n",
        "  sns.distplot(n_data[n_data.columns[i]])\n",
        "  plt.tight_layout()"
      ],
      "metadata": {
        "colab": {
          "base_uri": "https://localhost:8080/",
          "height": 964
        },
        "id": "EHajzgBWnPi-",
        "outputId": "311b8a11-f5d9-4b1a-9c55-63e6aa08aaa8"
      },
      "execution_count": null,
      "outputs": [
        {
          "output_type": "display_data",
          "data": {
            "text/plain": [
              "<Figure size 1080x1080 with 17 Axes>"
            ],
            "image/png": "[encoded data removed]"
          },
          "metadata": {
            "needs_background": "light"
          }
        }
      ]
    },
    {
      "cell_type": "code",
      "source": [
        "data.head()"
      ],
      "metadata": {
        "colab": {
          "base_uri": "https://localhost:8080/",
          "height": 357
        },
        "id": "p0vv2ESNlSnP",
        "outputId": "1f694393-c737-40b3-ed1f-2100b5a84b8d"
      },
      "execution_count": null,
      "outputs": [
        {
          "output_type": "execute_result",
          "data": {
            "text/plain": [
              "        date   price  bedrooms  bathrooms  sqft_living  sqft_lot  floors  \\\n",
              "0 2014-10-13  221900         3       1.00         1180      5650     1.0   \n",
              "1 2014-12-09  538000         3       2.25         2570      7242     2.0   \n",
              "2 2015-02-25  180000         2       1.00          770     10000     1.0   \n",
              "3 2014-12-09  604000         4       3.00         1960      5000     1.0   \n",
              "4 2015-02-18  510000         3       2.00         1680      8080     1.0   \n",
              "\n",
              "   waterfront  view  condition  grade  sqft_above  sqft_basement  yr_built  \\\n",
              "0           0     0          3      7      1180.0              0      1955   \n",
              "1           0     0          3      7      2170.0            400      1951   \n",
              "2           0     0          3      6       770.0              0      1933   \n",
              "3           0     0          5      7      1050.0            910      1965   \n",
              "4           0     0          3      8      1680.0              0      1987   \n",
              "\n",
              "   yr_renovated  zipcode  sqft_living15  sqft_lot15  \n",
              "0             0    98178           1340        5650  \n",
              "1          1991    98125           1690        7639  \n",
              "2             0    98028           2720        8062  \n",
              "3             0    98136           1360        5000  \n",
              "4             0    98074           1800        7503  "
            ],
            "text/html": [
              "\n",
              "  <div id=\"df-6fa27839-44f9-47b7-ac3d-0bdc3e29cd2e\">\n",
              "    <div class=\"colab-df-container\">\n",
              "      <div>\n",
              "<style scoped>\n",
              "    .dataframe tbody tr th:only-of-type {\n",
              "        vertical-align: middle;\n",
              "    }\n",
              "\n",
              "    .dataframe tbody tr th {\n",
              "        vertical-align: top;\n",
              "    }\n",
              "\n",
              "    .dataframe thead th {\n",
              "        text-align: right;\n",
              "    }\n",
              "</style>\n",
              "<table border=\"1\" class=\"dataframe\">\n",
              "  <thead>\n",
              "    <tr style=\"text-align: right;\">\n",
              "      <th></th>\n",
              "      <th>date</th>\n",
              "      <th>price</th>\n",
              "      <th>bedrooms</th>\n",
              "      <th>bathrooms</th>\n",
              "      <th>sqft_living</th>\n",
              "      <th>sqft_lot</th>\n",
              "      <th>floors</th>\n",
              "      <th>waterfront</th>\n",
              "      <th>view</th>\n",
              "      <th>condition</th>\n",
              "      <th>grade</th>\n",
              "      <th>sqft_above</th>\n",
              "      <th>sqft_basement</th>\n",
              "      <th>yr_built</th>\n",
              "      <th>yr_renovated</th>\n",
              "      <th>zipcode</th>\n",
              "      <th>sqft_living15</th>\n",
              "      <th>sqft_lot15</th>\n",
              "    </tr>\n",
              "  </thead>\n",
              "  <tbody>\n",
              "    <tr>\n",
              "      <th>0</th>\n",
              "      <td>2014-10-13</td>\n",
              "      <td>221900</td>\n",
              "      <td>3</td>\n",
              "      <td>1.00</td>\n",
              "      <td>1180</td>\n",
              "      <td>5650</td>\n",
              "      <td>1.0</td>\n",
              "      <td>0</td>\n",
              "      <td>0</td>\n",
              "      <td>3</td>\n",
              "      <td>7</td>\n",
              "      <td>1180.0</td>\n",
              "      <td>0</td>\n",
              "      <td>1955</td>\n",
              "      <td>0</td>\n",
              "      <td>98178</td>\n",
              "      <td>1340</td>\n",
              "      <td>5650</td>\n",
              "    </tr>\n",
              "    <tr>\n",
              "      <th>1</th>\n",
              "      <td>2014-12-09</td>\n",
              "      <td>538000</td>\n",
              "      <td>3</td>\n",
              "      <td>2.25</td>\n",
              "      <td>2570</td>\n",
              "      <td>7242</td>\n",
              "      <td>2.0</td>\n",
              "      <td>0</td>\n",
              "      <td>0</td>\n",
              "      <td>3</td>\n",
              "      <td>7</td>\n",
              "      <td>2170.0</td>\n",
              "      <td>400</td>\n",
              "      <td>1951</td>\n",
              "      <td>1991</td>\n",
              "      <td>98125</td>\n",
              "      <td>1690</td>\n",
              "      <td>7639</td>\n",
              "    </tr>\n",
              "    <tr>\n",
              "      <th>2</th>\n",
              "      <td>2015-02-25</td>\n",
              "      <td>180000</td>\n",
              "      <td>2</td>\n",
              "      <td>1.00</td>\n",
              "      <td>770</td>\n",
              "      <td>10000</td>\n",
              "      <td>1.0</td>\n",
              "      <td>0</td>\n",
              "      <td>0</td>\n",
              "      <td>3</td>\n",
              "      <td>6</td>\n",
              "      <td>770.0</td>\n",
              "      <td>0</td>\n",
              "      <td>1933</td>\n",
              "      <td>0</td>\n",
              "      <td>98028</td>\n",
              "      <td>2720</td>\n",
              "      <td>8062</td>\n",
              "    </tr>\n",
              "    <tr>\n",
              "      <th>3</th>\n",
              "      <td>2014-12-09</td>\n",
              "      <td>604000</td>\n",
              "      <td>4</td>\n",
              "      <td>3.00</td>\n",
              "      <td>1960</td>\n",
              "      <td>5000</td>\n",
              "      <td>1.0</td>\n",
              "      <td>0</td>\n",
              "      <td>0</td>\n",
              "      <td>5</td>\n",
              "      <td>7</td>\n",
              "      <td>1050.0</td>\n",
              "      <td>910</td>\n",
              "      <td>1965</td>\n",
              "      <td>0</td>\n",
              "      <td>98136</td>\n",
              "      <td>1360</td>\n",
              "      <td>5000</td>\n",
              "    </tr>\n",
              "    <tr>\n",
              "      <th>4</th>\n",
              "      <td>2015-02-18</td>\n",
              "      <td>510000</td>\n",
              "      <td>3</td>\n",
              "      <td>2.00</td>\n",
              "      <td>1680</td>\n",
              "      <td>8080</td>\n",
              "      <td>1.0</td>\n",
              "      <td>0</td>\n",
              "      <td>0</td>\n",
              "      <td>3</td>\n",
              "      <td>8</td>\n",
              "      <td>1680.0</td>\n",
              "      <td>0</td>\n",
              "      <td>1987</td>\n",
              "      <td>0</td>\n",
              "      <td>98074</td>\n",
              "      <td>1800</td>\n",
              "      <td>7503</td>\n",
              "    </tr>\n",
              "  </tbody>\n",
              "</table>\n",
              "</div>\n",
              "      <button class=\"colab-df-convert\" onclick=\"convertToInteractive('df-6fa27839-44f9-47b7-ac3d-0bdc3e29cd2e')\"\n",
              "              title=\"Convert this dataframe to an interactive table.\"\n",
              "              style=\"display:none;\">\n",
              "        \n",
              "  <svg xmlns=\"http://www.w3.org/2000/svg\" height=\"24px\"viewBox=\"0 0 24 24\"\n",
              "       width=\"24px\">\n",
              "    <path d=\"M0 0h24v24H0V0z\" fill=\"none\"/>\n",
              "    <path d=\"M18.56 5.44l.94 2.06.94-2.06 2.06-.94-2.06-.94-.94-2.06-.94 2.06-2.06.94zm-11 1L8.5 8.5l.94-2.06 2.06-.94-2.06-.94L8.5 2.5l-.94 2.06-2.06.94zm10 10l.94 2.06.94-2.06 2.06-.94-2.06-.94-.94-2.06-.94 2.06-2.06.94z\"/><path d=\"M17.41 7.96l-1.37-1.37c-.4-.4-.92-.59-1.43-.59-.52 0-1.04.2-1.43.59L10.3 9.45l-7.72 7.72c-.78.78-.78 2.05 0 2.83L4 21.41c.39.39.9.59 1.41.59.51 0 1.02-.2 1.41-.59l7.78-7.78 2.81-2.81c.8-.78.8-2.07 0-2.86zM5.41 20L4 18.59l7.72-7.72 1.47 1.35L5.41 20z\"/>\n",
              "  </svg>\n",
              "      </button>\n",
              "      \n",
              "  <style>\n",
              "    .colab-df-container {\n",
              "      display:flex;\n",
              "      flex-wrap:wrap;\n",
              "      gap: 12px;\n",
              "    }\n",
              "\n",
              "    .colab-df-convert {\n",
              "      background-color: #E8F0FE;\n",
              "      border: none;\n",
              "      border-radius: 50%;\n",
              "      cursor: pointer;\n",
              "      display: none;\n",
              "      fill: #1967D2;\n",
              "      height: 32px;\n",
              "      padding: 0 0 0 0;\n",
              "      width: 32px;\n",
              "    }\n",
              "\n",
              "    .colab-df-convert:hover {\n",
              "      background-color: #E2EBFA;\n",
              "      box-shadow: 0px 1px 2px rgba(60, 64, 67, 0.3), 0px 1px 3px 1px rgba(60, 64, 67, 0.15);\n",
              "      fill: #174EA6;\n",
              "    }\n",
              "\n",
              "    [theme=dark] .colab-df-convert {\n",
              "      background-color: #3B4455;\n",
              "      fill: #D2E3FC;\n",
              "    }\n",
              "\n",
              "    [theme=dark] .colab-df-convert:hover {\n",
              "      background-color: #434B5C;\n",
              "      box-shadow: 0px 1px 3px 1px rgba(0, 0, 0, 0.15);\n",
              "      filter: drop-shadow(0px 1px 2px rgba(0, 0, 0, 0.3));\n",
              "      fill: #FFFFFF;\n",
              "    }\n",
              "  </style>\n",
              "\n",
              "      <script>\n",
              "        const buttonEl =\n",
              "          document.querySelector('#df-6fa27839-44f9-47b7-ac3d-0bdc3e29cd2e button.colab-df-convert');\n",
              "        buttonEl.style.display =\n",
              "          google.colab.kernel.accessAllowed ? 'block' : 'none';\n",
              "\n",
              "        async function convertToInteractive(key) {\n",
              "          const element = document.querySelector('#df-6fa27839-44f9-47b7-ac3d-0bdc3e29cd2e');\n",
              "          const dataTable =\n",
              "            await google.colab.kernel.invokeFunction('convertToInteractive',\n",
              "                                                     [key], {});\n",
              "          if (!dataTable) return;\n",
              "\n",
              "          const docLinkHtml = 'Like what you see? Visit the ' +\n",
              "            '<a target=\"_blank\" href=https://colab.research.google.com/notebooks/data_table.ipynb>data table notebook</a>'\n",
              "            + ' to learn more about interactive tables.';\n",
              "          element.innerHTML = '';\n",
              "          dataTable['output_type'] = 'display_data';\n",
              "          await google.colab.output.renderOutput(dataTable, element);\n",
              "          const docLink = document.createElement('div');\n",
              "          docLink.innerHTML = docLinkHtml;\n",
              "          element.appendChild(docLink);\n",
              "        }\n",
              "      </script>\n",
              "    </div>\n",
              "  </div>\n",
              "  "
            ]
          },
          "metadata": {},
          "execution_count": 12
        }
      ]
    },
    {
      "cell_type": "code",
      "source": [
        "#sns.distplot(data[\"sqft_basement\"])\n",
        "data[\"Propert_age\"]=data[\"date\"].dt.year-data[\"yr_built\"]\n",
        "data[\"Renovate_age\"]=data[\"date\"].dt.year-data[\"yr_renovated\"]"
      ],
      "metadata": {
        "id": "GnOJ2nQ7pD-G"
      },
      "execution_count": null,
      "outputs": []
    },
    {
      "cell_type": "code",
      "source": [
        "data[\"Renovate_age\"]=data[\"date\"].dt.year-data[data[\"yr_renovated\"]>0][\"yr_renovated\"]\n",
        "data[data[\"yr_renovated\"]>0][\"yr_renovated\"]"
      ],
      "metadata": {
        "colab": {
          "base_uri": "https://localhost:8080/"
        },
        "id": "1JvY_KH1qSun",
        "outputId": "be8b74ba-d82a-4e50-9de1-1fd5c3e0518c"
      },
      "execution_count": null,
      "outputs": [
        {
          "output_type": "execute_result",
          "data": {
            "text/plain": [
              "1        1991\n",
              "35       2002\n",
              "95       1991\n",
              "103      2010\n",
              "115      1999\n",
              "         ... \n",
              "19622    1960\n",
              "20057    2006\n",
              "20444    2009\n",
              "20447    2014\n",
              "20962    2007\n",
              "Name: yr_renovated, Length: 914, dtype: int64"
            ]
          },
          "metadata": {},
          "execution_count": 14
        }
      ]
    },
    {
      "cell_type": "code",
      "source": [
        "data['Renovate_age'].fillna(0,inplace=True)\n",
        "data[data[\"Renovate_age\"]>0][\"Renovate_age\"]"
      ],
      "metadata": {
        "colab": {
          "base_uri": "https://localhost:8080/"
        },
        "id": "EDRQAW9lrjF-",
        "outputId": "2a649d58-3026-48ab-a6b5-0322e8bc3246"
      },
      "execution_count": null,
      "outputs": [
        {
          "output_type": "execute_result",
          "data": {
            "text/plain": [
              "1        23.0\n",
              "35       12.0\n",
              "95       23.0\n",
              "103       4.0\n",
              "115      15.0\n",
              "         ... \n",
              "19622    55.0\n",
              "20057     8.0\n",
              "20444     6.0\n",
              "20447     1.0\n",
              "20962     8.0\n",
              "Name: Renovate_age, Length: 822, dtype: float64"
            ]
          },
          "metadata": {},
          "execution_count": 15
        }
      ]
    },
    {
      "cell_type": "code",
      "source": [
        "data.head()\n",
        "data[\"Day\"]=data[\"date\"].dt.day\n",
        "data[\"Month\"]=data[\"date\"].dt.month\n",
        "data[\"year\"]=data[\"date\"].dt.year"
      ],
      "metadata": {
        "id": "fYvERQLExRFS"
      },
      "execution_count": null,
      "outputs": []
    },
    {
      "cell_type": "code",
      "source": [
        "data.columns"
      ],
      "metadata": {
        "colab": {
          "base_uri": "https://localhost:8080/"
        },
        "id": "zIaxlYJd07ep",
        "outputId": "7ae42259-36c7-4ce3-f072-96db036aa63e"
      },
      "execution_count": null,
      "outputs": [
        {
          "output_type": "execute_result",
          "data": {
            "text/plain": [
              "Index(['date', 'price', 'bedrooms', 'bathrooms', 'sqft_living', 'sqft_lot',\n",
              "       'floors', 'waterfront', 'view', 'condition', 'grade', 'sqft_above',\n",
              "       'sqft_basement', 'yr_built', 'yr_renovated', 'zipcode', 'sqft_living15',\n",
              "       'sqft_lot15', 'Propert_age', 'Renovate_age', 'Day', 'Month', 'year'],\n",
              "      dtype='object')"
            ]
          },
          "metadata": {},
          "execution_count": 17
        }
      ]
    },
    {
      "cell_type": "code",
      "source": [
        "data.drop(columns=[\"date\",\"yr_built\",\"yr_renovated\"],inplace=True)"
      ],
      "metadata": {
        "id": "CjaJGw8l1Aol"
      },
      "execution_count": null,
      "outputs": []
    },
    {
      "cell_type": "code",
      "source": [
        "data.head()"
      ],
      "metadata": {
        "colab": {
          "base_uri": "https://localhost:8080/",
          "height": 270
        },
        "id": "SpMS7-NU1J8i",
        "outputId": "823d0e0d-2f14-483b-9cd1-d764776550b6"
      },
      "execution_count": null,
      "outputs": [
        {
          "output_type": "execute_result",
          "data": {
            "text/plain": [
              "    price  bedrooms  bathrooms  sqft_living  sqft_lot  floors  waterfront  \\\n",
              "0  221900         3       1.00         1180      5650     1.0           0   \n",
              "1  538000         3       2.25         2570      7242     2.0           0   \n",
              "2  180000         2       1.00          770     10000     1.0           0   \n",
              "3  604000         4       3.00         1960      5000     1.0           0   \n",
              "4  510000         3       2.00         1680      8080     1.0           0   \n",
              "\n",
              "   view  condition  grade  sqft_above  sqft_basement  zipcode  sqft_living15  \\\n",
              "0     0          3      7      1180.0              0    98178           1340   \n",
              "1     0          3      7      2170.0            400    98125           1690   \n",
              "2     0          3      6       770.0              0    98028           2720   \n",
              "3     0          5      7      1050.0            910    98136           1360   \n",
              "4     0          3      8      1680.0              0    98074           1800   \n",
              "\n",
              "   sqft_lot15  Propert_age  Renovate_age  Day  Month  year  \n",
              "0        5650           59           0.0   13     10  2014  \n",
              "1        7639           63          23.0    9     12  2014  \n",
              "2        8062           82           0.0   25      2  2015  \n",
              "3        5000           49           0.0    9     12  2014  \n",
              "4        7503           28           0.0   18      2  2015  "
            ],
            "text/html": [
              "\n",
              "  <div id=\"df-db659737-1c60-4cd1-965e-6d96cc0d7a05\">\n",
              "    <div class=\"colab-df-container\">\n",
              "      <div>\n",
              "<style scoped>\n",
              "    .dataframe tbody tr th:only-of-type {\n",
              "        vertical-align: middle;\n",
              "    }\n",
              "\n",
              "    .dataframe tbody tr th {\n",
              "        vertical-align: top;\n",
              "    }\n",
              "\n",
              "    .dataframe thead th {\n",
              "        text-align: right;\n",
              "    }\n",
              "</style>\n",
              "<table border=\"1\" class=\"dataframe\">\n",
              "  <thead>\n",
              "    <tr style=\"text-align: right;\">\n",
              "      <th></th>\n",
              "      <th>price</th>\n",
              "      <th>bedrooms</th>\n",
              "      <th>bathrooms</th>\n",
              "      <th>sqft_living</th>\n",
              "      <th>sqft_lot</th>\n",
              "      <th>floors</th>\n",
              "      <th>waterfront</th>\n",
              "      <th>view</th>\n",
              "      <th>condition</th>\n",
              "      <th>grade</th>\n",
              "      <th>sqft_above</th>\n",
              "      <th>sqft_basement</th>\n",
              "      <th>zipcode</th>\n",
              "      <th>sqft_living15</th>\n",
              "      <th>sqft_lot15</th>\n",
              "      <th>Propert_age</th>\n",
              "      <th>Renovate_age</th>\n",
              "      <th>Day</th>\n",
              "      <th>Month</th>\n",
              "      <th>year</th>\n",
              "    </tr>\n",
              "  </thead>\n",
              "  <tbody>\n",
              "    <tr>\n",
              "      <th>0</th>\n",
              "      <td>221900</td>\n",
              "      <td>3</td>\n",
              "      <td>1.00</td>\n",
              "      <td>1180</td>\n",
              "      <td>5650</td>\n",
              "      <td>1.0</td>\n",
              "      <td>0</td>\n",
              "      <td>0</td>\n",
              "      <td>3</td>\n",
              "      <td>7</td>\n",
              "      <td>1180.0</td>\n",
              "      <td>0</td>\n",
              "      <td>98178</td>\n",
              "      <td>1340</td>\n",
              "      <td>5650</td>\n",
              "      <td>59</td>\n",
              "      <td>0.0</td>\n",
              "      <td>13</td>\n",
              "      <td>10</td>\n",
              "      <td>2014</td>\n",
              "    </tr>\n",
              "    <tr>\n",
              "      <th>1</th>\n",
              "      <td>538000</td>\n",
              "      <td>3</td>\n",
              "      <td>2.25</td>\n",
              "      <td>2570</td>\n",
              "      <td>7242</td>\n",
              "      <td>2.0</td>\n",
              "      <td>0</td>\n",
              "      <td>0</td>\n",
              "      <td>3</td>\n",
              "      <td>7</td>\n",
              "      <td>2170.0</td>\n",
              "      <td>400</td>\n",
              "      <td>98125</td>\n",
              "      <td>1690</td>\n",
              "      <td>7639</td>\n",
              "      <td>63</td>\n",
              "      <td>23.0</td>\n",
              "      <td>9</td>\n",
              "      <td>12</td>\n",
              "      <td>2014</td>\n",
              "    </tr>\n",
              "    <tr>\n",
              "      <th>2</th>\n",
              "      <td>180000</td>\n",
              "      <td>2</td>\n",
              "      <td>1.00</td>\n",
              "      <td>770</td>\n",
              "      <td>10000</td>\n",
              "      <td>1.0</td>\n",
              "      <td>0</td>\n",
              "      <td>0</td>\n",
              "      <td>3</td>\n",
              "      <td>6</td>\n",
              "      <td>770.0</td>\n",
              "      <td>0</td>\n",
              "      <td>98028</td>\n",
              "      <td>2720</td>\n",
              "      <td>8062</td>\n",
              "      <td>82</td>\n",
              "      <td>0.0</td>\n",
              "      <td>25</td>\n",
              "      <td>2</td>\n",
              "      <td>2015</td>\n",
              "    </tr>\n",
              "    <tr>\n",
              "      <th>3</th>\n",
              "      <td>604000</td>\n",
              "      <td>4</td>\n",
              "      <td>3.00</td>\n",
              "      <td>1960</td>\n",
              "      <td>5000</td>\n",
              "      <td>1.0</td>\n",
              "      <td>0</td>\n",
              "      <td>0</td>\n",
              "      <td>5</td>\n",
              "      <td>7</td>\n",
              "      <td>1050.0</td>\n",
              "      <td>910</td>\n",
              "      <td>98136</td>\n",
              "      <td>1360</td>\n",
              "      <td>5000</td>\n",
              "      <td>49</td>\n",
              "      <td>0.0</td>\n",
              "      <td>9</td>\n",
              "      <td>12</td>\n",
              "      <td>2014</td>\n",
              "    </tr>\n",
              "    <tr>\n",
              "      <th>4</th>\n",
              "      <td>510000</td>\n",
              "      <td>3</td>\n",
              "      <td>2.00</td>\n",
              "      <td>1680</td>\n",
              "      <td>8080</td>\n",
              "      <td>1.0</td>\n",
              "      <td>0</td>\n",
              "      <td>0</td>\n",
              "      <td>3</td>\n",
              "      <td>8</td>\n",
              "      <td>1680.0</td>\n",
              "      <td>0</td>\n",
              "      <td>98074</td>\n",
              "      <td>1800</td>\n",
              "      <td>7503</td>\n",
              "      <td>28</td>\n",
              "      <td>0.0</td>\n",
              "      <td>18</td>\n",
              "      <td>2</td>\n",
              "      <td>2015</td>\n",
              "    </tr>\n",
              "  </tbody>\n",
              "</table>\n",
              "</div>\n",
              "      <button class=\"colab-df-convert\" onclick=\"convertToInteractive('df-db659737-1c60-4cd1-965e-6d96cc0d7a05')\"\n",
              "              title=\"Convert this dataframe to an interactive table.\"\n",
              "              style=\"display:none;\">\n",
              "        \n",
              "  <svg xmlns=\"http://www.w3.org/2000/svg\" height=\"24px\"viewBox=\"0 0 24 24\"\n",
              "       width=\"24px\">\n",
              "    <path d=\"M0 0h24v24H0V0z\" fill=\"none\"/>\n",
              "    <path d=\"M18.56 5.44l.94 2.06.94-2.06 2.06-.94-2.06-.94-.94-2.06-.94 2.06-2.06.94zm-11 1L8.5 8.5l.94-2.06 2.06-.94-2.06-.94L8.5 2.5l-.94 2.06-2.06.94zm10 10l.94 2.06.94-2.06 2.06-.94-2.06-.94-.94-2.06-.94 2.06-2.06.94z\"/><path d=\"M17.41 7.96l-1.37-1.37c-.4-.4-.92-.59-1.43-.59-.52 0-1.04.2-1.43.59L10.3 9.45l-7.72 7.72c-.78.78-.78 2.05 0 2.83L4 21.41c.39.39.9.59 1.41.59.51 0 1.02-.2 1.41-.59l7.78-7.78 2.81-2.81c.8-.78.8-2.07 0-2.86zM5.41 20L4 18.59l7.72-7.72 1.47 1.35L5.41 20z\"/>\n",
              "  </svg>\n",
              "      </button>\n",
              "      \n",
              "  <style>\n",
              "    .colab-df-container {\n",
              "      display:flex;\n",
              "      flex-wrap:wrap;\n",
              "      gap: 12px;\n",
              "    }\n",
              "\n",
              "    .colab-df-convert {\n",
              "      background-color: #E8F0FE;\n",
              "      border: none;\n",
              "      border-radius: 50%;\n",
              "      cursor: pointer;\n",
              "      display: none;\n",
              "      fill: #1967D2;\n",
              "      height: 32px;\n",
              "      padding: 0 0 0 0;\n",
              "      width: 32px;\n",
              "    }\n",
              "\n",
              "    .colab-df-convert:hover {\n",
              "      background-color: #E2EBFA;\n",
              "      box-shadow: 0px 1px 2px rgba(60, 64, 67, 0.3), 0px 1px 3px 1px rgba(60, 64, 67, 0.15);\n",
              "      fill: #174EA6;\n",
              "    }\n",
              "\n",
              "    [theme=dark] .colab-df-convert {\n",
              "      background-color: #3B4455;\n",
              "      fill: #D2E3FC;\n",
              "    }\n",
              "\n",
              "    [theme=dark] .colab-df-convert:hover {\n",
              "      background-color: #434B5C;\n",
              "      box-shadow: 0px 1px 3px 1px rgba(0, 0, 0, 0.15);\n",
              "      filter: drop-shadow(0px 1px 2px rgba(0, 0, 0, 0.3));\n",
              "      fill: #FFFFFF;\n",
              "    }\n",
              "  </style>\n",
              "\n",
              "      <script>\n",
              "        const buttonEl =\n",
              "          document.querySelector('#df-db659737-1c60-4cd1-965e-6d96cc0d7a05 button.colab-df-convert');\n",
              "        buttonEl.style.display =\n",
              "          google.colab.kernel.accessAllowed ? 'block' : 'none';\n",
              "\n",
              "        async function convertToInteractive(key) {\n",
              "          const element = document.querySelector('#df-db659737-1c60-4cd1-965e-6d96cc0d7a05');\n",
              "          const dataTable =\n",
              "            await google.colab.kernel.invokeFunction('convertToInteractive',\n",
              "                                                     [key], {});\n",
              "          if (!dataTable) return;\n",
              "\n",
              "          const docLinkHtml = 'Like what you see? Visit the ' +\n",
              "            '<a target=\"_blank\" href=https://colab.research.google.com/notebooks/data_table.ipynb>data table notebook</a>'\n",
              "            + ' to learn more about interactive tables.';\n",
              "          element.innerHTML = '';\n",
              "          dataTable['output_type'] = 'display_data';\n",
              "          await google.colab.output.renderOutput(dataTable, element);\n",
              "          const docLink = document.createElement('div');\n",
              "          docLink.innerHTML = docLinkHtml;\n",
              "          element.appendChild(docLink);\n",
              "        }\n",
              "      </script>\n",
              "    </div>\n",
              "  </div>\n",
              "  "
            ]
          },
          "metadata": {},
          "execution_count": 19
        }
      ]
    },
    {
      "cell_type": "code",
      "source": [
        "#Splitting the Data\n",
        "from sklearn.preprocessing import StandardScaler\n",
        "from sklearn.model_selection import train_test_split\n",
        "scaler=StandardScaler()\n",
        "X=data.drop(\"price\",axis=1)\n",
        "X\n",
        "y=data[\"price\"]\n",
        "y"
      ],
      "metadata": {
        "colab": {
          "base_uri": "https://localhost:8080/"
        },
        "id": "mN9rzn0h1R8J",
        "outputId": "b184ddda-7857-46f4-b974-7295d6852a92"
      },
      "execution_count": null,
      "outputs": [
        {
          "output_type": "execute_result",
          "data": {
            "text/plain": [
              "0        221900\n",
              "1        538000\n",
              "2        180000\n",
              "3        604000\n",
              "4        510000\n",
              "          ...  \n",
              "21608    360000\n",
              "21609    400000\n",
              "21610    402101\n",
              "21611    400000\n",
              "21612    325000\n",
              "Name: price, Length: 21613, dtype: int64"
            ]
          },
          "metadata": {},
          "execution_count": 20
        }
      ]
    },
    {
      "cell_type": "code",
      "source": [
        "X_train, X_test, y_train, y_test = train_test_split(X, y, test_size=0.3, random_state=42)"
      ],
      "metadata": {
        "id": "GBCJR4ZB1dZV"
      },
      "execution_count": null,
      "outputs": []
    },
    {
      "cell_type": "code",
      "source": [
        "X_train.head()"
      ],
      "metadata": {
        "colab": {
          "base_uri": "https://localhost:8080/",
          "height": 270
        },
        "id": "CdRluh-j1w3k",
        "outputId": "0ab724fa-da2c-4f28-ca40-fc12e2c133f0"
      },
      "execution_count": null,
      "outputs": [
        {
          "output_type": "execute_result",
          "data": {
            "text/plain": [
              "       bedrooms  bathrooms  sqft_living  sqft_lot  floors  waterfront  view  \\\n",
              "167           4       2.50         2680      4499     2.0           0     0   \n",
              "12412         4       1.75         2340      5080     1.0           0     0   \n",
              "7691          4       2.25         2190      9020     2.0           0     0   \n",
              "12460         2       1.75         2260    280962     2.0           0     2   \n",
              "9099          4       1.75         2110    265716     1.0           0     0   \n",
              "\n",
              "       condition  grade  sqft_above  sqft_basement  zipcode  sqft_living15  \\\n",
              "167            3      9      2680.0              0    98006           2920   \n",
              "12412          5      7      1170.0           1170    98115           1270   \n",
              "7691           3      8      2190.0              0    98032           2170   \n",
              "12460          3      9      1890.0            370    98014           2860   \n",
              "9099           4      8      2110.0              0    98053           2110   \n",
              "\n",
              "       sqft_lot15  Propert_age  Renovate_age  Day  Month  year  \n",
              "167          4500           16           0.0   24      3  2015  \n",
              "12412        3270           90           0.0    1     10  2014  \n",
              "7691         8400           36           0.0   12      8  2014  \n",
              "12460      219542            9           0.0   23      6  2014  \n",
              "9099       110597           35           0.0   26      6  2014  "
            ],
            "text/html": [
              "\n",
              "  <div id=\"df-4d13a65a-8832-48fb-a24f-1d39015e5ce1\">\n",
              "    <div class=\"colab-df-container\">\n",
              "      <div>\n",
              "<style scoped>\n",
              "    .dataframe tbody tr th:only-of-type {\n",
              "        vertical-align: middle;\n",
              "    }\n",
              "\n",
              "    .dataframe tbody tr th {\n",
              "        vertical-align: top;\n",
              "    }\n",
              "\n",
              "    .dataframe thead th {\n",
              "        text-align: right;\n",
              "    }\n",
              "</style>\n",
              "<table border=\"1\" class=\"dataframe\">\n",
              "  <thead>\n",
              "    <tr style=\"text-align: right;\">\n",
              "      <th></th>\n",
              "      <th>bedrooms</th>\n",
              "      <th>bathrooms</th>\n",
              "      <th>sqft_living</th>\n",
              "      <th>sqft_lot</th>\n",
              "      <th>floors</th>\n",
              "      <th>waterfront</th>\n",
              "      <th>view</th>\n",
              "      <th>condition</th>\n",
              "      <th>grade</th>\n",
              "      <th>sqft_above</th>\n",
              "      <th>sqft_basement</th>\n",
              "      <th>zipcode</th>\n",
              "      <th>sqft_living15</th>\n",
              "      <th>sqft_lot15</th>\n",
              "      <th>Propert_age</th>\n",
              "      <th>Renovate_age</th>\n",
              "      <th>Day</th>\n",
              "      <th>Month</th>\n",
              "      <th>year</th>\n",
              "    </tr>\n",
              "  </thead>\n",
              "  <tbody>\n",
              "    <tr>\n",
              "      <th>167</th>\n",
              "      <td>4</td>\n",
              "      <td>2.50</td>\n",
              "      <td>2680</td>\n",
              "      <td>4499</td>\n",
              "      <td>2.0</td>\n",
              "      <td>0</td>\n",
              "      <td>0</td>\n",
              "      <td>3</td>\n",
              "      <td>9</td>\n",
              "      <td>2680.0</td>\n",
              "      <td>0</td>\n",
              "      <td>98006</td>\n",
              "      <td>2920</td>\n",
              "      <td>4500</td>\n",
              "      <td>16</td>\n",
              "      <td>0.0</td>\n",
              "      <td>24</td>\n",
              "      <td>3</td>\n",
              "      <td>2015</td>\n",
              "    </tr>\n",
              "    <tr>\n",
              "      <th>12412</th>\n",
              "      <td>4</td>\n",
              "      <td>1.75</td>\n",
              "      <td>2340</td>\n",
              "      <td>5080</td>\n",
              "      <td>1.0</td>\n",
              "      <td>0</td>\n",
              "      <td>0</td>\n",
              "      <td>5</td>\n",
              "      <td>7</td>\n",
              "      <td>1170.0</td>\n",
              "      <td>1170</td>\n",
              "      <td>98115</td>\n",
              "      <td>1270</td>\n",
              "      <td>3270</td>\n",
              "      <td>90</td>\n",
              "      <td>0.0</td>\n",
              "      <td>1</td>\n",
              "      <td>10</td>\n",
              "      <td>2014</td>\n",
              "    </tr>\n",
              "    <tr>\n",
              "      <th>7691</th>\n",
              "      <td>4</td>\n",
              "      <td>2.25</td>\n",
              "      <td>2190</td>\n",
              "      <td>9020</td>\n",
              "      <td>2.0</td>\n",
              "      <td>0</td>\n",
              "      <td>0</td>\n",
              "      <td>3</td>\n",
              "      <td>8</td>\n",
              "      <td>2190.0</td>\n",
              "      <td>0</td>\n",
              "      <td>98032</td>\n",
              "      <td>2170</td>\n",
              "      <td>8400</td>\n",
              "      <td>36</td>\n",
              "      <td>0.0</td>\n",
              "      <td>12</td>\n",
              "      <td>8</td>\n",
              "      <td>2014</td>\n",
              "    </tr>\n",
              "    <tr>\n",
              "      <th>12460</th>\n",
              "      <td>2</td>\n",
              "      <td>1.75</td>\n",
              "      <td>2260</td>\n",
              "      <td>280962</td>\n",
              "      <td>2.0</td>\n",
              "      <td>0</td>\n",
              "      <td>2</td>\n",
              "      <td>3</td>\n",
              "      <td>9</td>\n",
              "      <td>1890.0</td>\n",
              "      <td>370</td>\n",
              "      <td>98014</td>\n",
              "      <td>2860</td>\n",
              "      <td>219542</td>\n",
              "      <td>9</td>\n",
              "      <td>0.0</td>\n",
              "      <td>23</td>\n",
              "      <td>6</td>\n",
              "      <td>2014</td>\n",
              "    </tr>\n",
              "    <tr>\n",
              "      <th>9099</th>\n",
              "      <td>4</td>\n",
              "      <td>1.75</td>\n",
              "      <td>2110</td>\n",
              "      <td>265716</td>\n",
              "      <td>1.0</td>\n",
              "      <td>0</td>\n",
              "      <td>0</td>\n",
              "      <td>4</td>\n",
              "      <td>8</td>\n",
              "      <td>2110.0</td>\n",
              "      <td>0</td>\n",
              "      <td>98053</td>\n",
              "      <td>2110</td>\n",
              "      <td>110597</td>\n",
              "      <td>35</td>\n",
              "      <td>0.0</td>\n",
              "      <td>26</td>\n",
              "      <td>6</td>\n",
              "      <td>2014</td>\n",
              "    </tr>\n",
              "  </tbody>\n",
              "</table>\n",
              "</div>\n",
              "      <button class=\"colab-df-convert\" onclick=\"convertToInteractive('df-4d13a65a-8832-48fb-a24f-1d39015e5ce1')\"\n",
              "              title=\"Convert this dataframe to an interactive table.\"\n",
              "              style=\"display:none;\">\n",
              "        \n",
              "  <svg xmlns=\"http://www.w3.org/2000/svg\" height=\"24px\"viewBox=\"0 0 24 24\"\n",
              "       width=\"24px\">\n",
              "    <path d=\"M0 0h24v24H0V0z\" fill=\"none\"/>\n",
              "    <path d=\"M18.56 5.44l.94 2.06.94-2.06 2.06-.94-2.06-.94-.94-2.06-.94 2.06-2.06.94zm-11 1L8.5 8.5l.94-2.06 2.06-.94-2.06-.94L8.5 2.5l-.94 2.06-2.06.94zm10 10l.94 2.06.94-2.06 2.06-.94-2.06-.94-.94-2.06-.94 2.06-2.06.94z\"/><path d=\"M17.41 7.96l-1.37-1.37c-.4-.4-.92-.59-1.43-.59-.52 0-1.04.2-1.43.59L10.3 9.45l-7.72 7.72c-.78.78-.78 2.05 0 2.83L4 21.41c.39.39.9.59 1.41.59.51 0 1.02-.2 1.41-.59l7.78-7.78 2.81-2.81c.8-.78.8-2.07 0-2.86zM5.41 20L4 18.59l7.72-7.72 1.47 1.35L5.41 20z\"/>\n",
              "  </svg>\n",
              "      </button>\n",
              "      \n",
              "  <style>\n",
              "    .colab-df-container {\n",
              "      display:flex;\n",
              "      flex-wrap:wrap;\n",
              "      gap: 12px;\n",
              "    }\n",
              "\n",
              "    .colab-df-convert {\n",
              "      background-color: #E8F0FE;\n",
              "      border: none;\n",
              "      border-radius: 50%;\n",
              "      cursor: pointer;\n",
              "      display: none;\n",
              "      fill: #1967D2;\n",
              "      height: 32px;\n",
              "      padding: 0 0 0 0;\n",
              "      width: 32px;\n",
              "    }\n",
              "\n",
              "    .colab-df-convert:hover {\n",
              "      background-color: #E2EBFA;\n",
              "      box-shadow: 0px 1px 2px rgba(60, 64, 67, 0.3), 0px 1px 3px 1px rgba(60, 64, 67, 0.15);\n",
              "      fill: #174EA6;\n",
              "    }\n",
              "\n",
              "    [theme=dark] .colab-df-convert {\n",
              "      background-color: #3B4455;\n",
              "      fill: #D2E3FC;\n",
              "    }\n",
              "\n",
              "    [theme=dark] .colab-df-convert:hover {\n",
              "      background-color: #434B5C;\n",
              "      box-shadow: 0px 1px 3px 1px rgba(0, 0, 0, 0.15);\n",
              "      filter: drop-shadow(0px 1px 2px rgba(0, 0, 0, 0.3));\n",
              "      fill: #FFFFFF;\n",
              "    }\n",
              "  </style>\n",
              "\n",
              "      <script>\n",
              "        const buttonEl =\n",
              "          document.querySelector('#df-4d13a65a-8832-48fb-a24f-1d39015e5ce1 button.colab-df-convert');\n",
              "        buttonEl.style.display =\n",
              "          google.colab.kernel.accessAllowed ? 'block' : 'none';\n",
              "\n",
              "        async function convertToInteractive(key) {\n",
              "          const element = document.querySelector('#df-4d13a65a-8832-48fb-a24f-1d39015e5ce1');\n",
              "          const dataTable =\n",
              "            await google.colab.kernel.invokeFunction('convertToInteractive',\n",
              "                                                     [key], {});\n",
              "          if (!dataTable) return;\n",
              "\n",
              "          const docLinkHtml = 'Like what you see? Visit the ' +\n",
              "            '<a target=\"_blank\" href=https://colab.research.google.com/notebooks/data_table.ipynb>data table notebook</a>'\n",
              "            + ' to learn more about interactive tables.';\n",
              "          element.innerHTML = '';\n",
              "          dataTable['output_type'] = 'display_data';\n",
              "          await google.colab.output.renderOutput(dataTable, element);\n",
              "          const docLink = document.createElement('div');\n",
              "          docLink.innerHTML = docLinkHtml;\n",
              "          element.appendChild(docLink);\n",
              "        }\n",
              "      </script>\n",
              "    </div>\n",
              "  </div>\n",
              "  "
            ]
          },
          "metadata": {},
          "execution_count": 22
        }
      ]
    },
    {
      "cell_type": "code",
      "source": [
        "#Data Transformation\n",
        "for i in ['bathrooms', 'sqft_living', 'sqft_lot', 'sqft_above', 'sqft_basement', 'zipcode', 'sqft_living15', 'sqft_lot15', 'Propert_age', 'Renovate_age', 'Day', 'Month', 'year']:\n",
        "  X_train[i]=scaler.fit_transform(X_train[[i]])\n",
        "\n",
        "for i in ['bathrooms', 'sqft_living', 'sqft_lot', 'sqft_above', 'sqft_basement', 'zipcode', 'sqft_living15', 'sqft_lot15', 'Propert_age', 'Renovate_age', 'Day', 'Month', 'year']:\n",
        "  X_test[i]=scaler.fit_transform(X_test[[i]])"
      ],
      "metadata": {
        "id": "x21jKiCo1tJj"
      },
      "execution_count": null,
      "outputs": []
    },
    {
      "cell_type": "markdown",
      "source": [
        "#**Linear Regression**"
      ],
      "metadata": {
        "id": "J_u01k4W2c-g"
      }
    },
    {
      "cell_type": "code",
      "source": [
        "from sklearn.linear_model import LinearRegression\n",
        "from sklearn.tree import DecisionTreeRegressor\n",
        "from sklearn.ensemble import RandomForestRegressor\n",
        "rfr=RandomForestRegressor(n_estimators=11,n_jobs=-1)\n",
        "dtree=DecisionTreeRegressor()\n",
        "from sklearn.metrics import r2_score, mean_absolute_error, mean_squared_error\n",
        "lr=LinearRegression()\n",
        "\n",
        "def adjustedr2(r2,n):\n",
        "  n=X_train.shape[0]\n",
        "  k=X_train.shape[1]\n",
        "  return 1-((1-r2)*(n-1)/(n-k-1))"
      ],
      "metadata": {
        "id": "V0MkZ_r_2MH3"
      },
      "execution_count": null,
      "outputs": []
    },
    {
      "cell_type": "markdown",
      "source": [
        "**Linear Regression**"
      ],
      "metadata": {
        "id": "hA-YfcQ-CE3e"
      }
    },
    {
      "cell_type": "code",
      "source": [
        "lr_model=lr.fit(X_train,y_train)\n",
        "lr_pred=lr_model.predict(X_test)\n",
        "lr_pred\n",
        "print(\"Mean Absolute Error value: \",mean_absolute_error(y_test,lr_pred))\n",
        "print(\"Mean Squared Error Value: \",mean_squared_error(y_test,lr_pred))\n",
        "print(\"Accuracy of Linear Regression: \",lr_model.score(X_train,y_train))\n",
        "r2=r2_score(y_test,lr_pred)\n",
        "print(\"Value of r2 is: \",r2)\n",
        "print(\"Value of Adjusted R2: \",adjustedr2(r2,X_train))"
      ],
      "metadata": {
        "colab": {
          "base_uri": "https://localhost:8080/"
        },
        "id": "_feuEze75VIs",
        "outputId": "c85e8799-3e61-44c0-aab3-d4fda6dfc7d2"
      },
      "execution_count": null,
      "outputs": [
        {
          "output_type": "stream",
          "name": "stdout",
          "text": [
            "Mean Absolute Error value:  143772.9845752059\n",
            "Mean Squared Error Value:  50051305923.8758\n",
            "Accuracy of Linear Regression:  0.6550842893552831\n",
            "Value of r2 is:  0.6533039523044158\n",
            "Value of Adjusted R2:  0.6528679721001525\n"
          ]
        }
      ]
    },
    {
      "cell_type": "markdown",
      "source": [
        "**Decision Tree Regressor**"
      ],
      "metadata": {
        "id": "u_AnSrteB6vF"
      }
    },
    {
      "cell_type": "code",
      "source": [
        "dtree_model=dtree.fit(X_train,y_train)\n",
        "dtree_pred=dtree_model.predict(X_test)\n",
        "dtree_pred\n",
        "print(\"Mean Absolute Error value: \",mean_absolute_error(y_test,dtree_pred))\n",
        "print(\"Mean Squared Error Value: \",mean_squared_error(y_test,dtree_pred))\n",
        "print(\"Accuracy of Linear Regression: \",dtree_model.score(X_train,y_train))\n",
        "r2=r2_score(y_test,dtree_pred)\n",
        "print(\"Value of r2 is: \",r2)\n",
        "print(\"Value of Adjusted R2: \",adjustedr2(r2,X_train))"
      ],
      "metadata": {
        "colab": {
          "base_uri": "https://localhost:8080/"
        },
        "id": "6mS2SldE7FWg",
        "outputId": "7f3b22b4-58d7-44e3-8a5d-c744348d5689"
      },
      "execution_count": null,
      "outputs": [
        {
          "output_type": "stream",
          "name": "stdout",
          "text": [
            "Mean Absolute Error value:  145504.15669339913\n",
            "Mean Squared Error Value:  66721831970.40006\n",
            "Accuracy of Linear Regression:  1.0\n",
            "Value of r2 is:  0.5378303320530964\n",
            "Value of Adjusted R2:  0.5372491404658972\n"
          ]
        }
      ]
    },
    {
      "cell_type": "markdown",
      "source": [
        "**Random Forest Regressor**"
      ],
      "metadata": {
        "id": "lNS1fqTWB9rm"
      }
    },
    {
      "cell_type": "code",
      "source": [
        "rfr_model=rfr.fit(X_train,y_train)\n",
        "rfr_pred=rfr_model.predict(X_test)\n",
        "rfr_pred\n",
        "print(\"Mean Absolute Error value: \",mean_absolute_error(y_test,rfr_pred))\n",
        "print(\"Mean Squared Error Value: \",mean_squared_error(y_test,rfr_pred))\n",
        "print(\"Root Mean Squared Error Value: \",np.sqrt(mean_squared_error(y_test,rfr_pred)))\n",
        "print(\"Accuracy of Linear Regression: \",rfr_model.score(X_train,y_train))\n",
        "r2=r2_score(y_test,rfr_pred)\n",
        "print(\"Value of r2 is: \",r2)\n",
        "print(\"Value of Adjusted R2: \",adjustedr2(r2,X_train))"
      ],
      "metadata": {
        "colab": {
          "base_uri": "https://localhost:8080/"
        },
        "id": "5xjigwwk8mWm",
        "outputId": "80337c60-d044-4868-a8ac-e29729f74019"
      },
      "execution_count": null,
      "outputs": [
        {
          "output_type": "stream",
          "name": "stdout",
          "text": [
            "Mean Absolute Error value:  112277.68322023442\n",
            "Mean Squared Error Value:  42792812194.495926\n",
            "Root Mean Squared Error Value:  206864.23614171668\n",
            "Accuracy of Linear Regression:  0.9629349865567783\n",
            "Value of r2 is:  0.7035821826472279\n",
            "Value of Adjusted R2:  0.7032094287568511\n"
          ]
        }
      ]
    },
    {
      "cell_type": "markdown",
      "source": [
        "#**Bagging Regressor**"
      ],
      "metadata": {
        "id": "FYaNL-i2J_K-"
      }
    },
    {
      "cell_type": "code",
      "source": [
        "from sklearn.ensemble import BaggingRegressor"
      ],
      "metadata": {
        "id": "Vk2KvsdZKm0L"
      },
      "execution_count": null,
      "outputs": []
    },
    {
      "cell_type": "code",
      "source": [
        "#bagging learnin 1\n",
        "baggingreg1 = BaggingRegressor(base_estimator=lr, n_estimators=10, max_samples=0.8, max_features=0.8)\n",
        "# bagging learner 2\n",
        "baggingreg2 = BaggingRegressor(base_estimator=dtree, n_estimators=10, max_samples=0.8, max_features=0.8)\n",
        "#bagging learning 3\n",
        "baggingreg3 = BaggingRegressor(base_estimator=rfr, n_estimators=10, max_samples=0.8, max_features=0.8)\n"
      ],
      "metadata": {
        "id": "VvXcakFs2IEb"
      },
      "execution_count": null,
      "outputs": []
    },
    {
      "cell_type": "code",
      "source": [
        "import warnings\n",
        "warnings.filterwarnings(\"ignore\")\n",
        "\n",
        "label = [ 'Bagging linreg', 'Bagging dtree', 'Bagging RFC']\n",
        "clf_list = [baggingreg1, baggingreg2, baggingreg3]\n",
        " \n",
        "\n",
        "for clf, label  in zip(clf_list, label ):        \n",
        "    scores = cross_val_score(clf, X, y, cv=3, scoring='neg_root_mean_squared_error')\n",
        "    print (\"-rmse:  \",(round(scores.mean(),4), round(scores.std(),3), label))"
      ],
      "metadata": {
        "colab": {
          "base_uri": "https://localhost:8080/"
        },
        "id": "p2I95D_CK1es",
        "outputId": "6917006b-1158-4cd1-e513-37b565819629"
      },
      "execution_count": null,
      "outputs": [
        {
          "output_type": "stream",
          "name": "stdout",
          "text": [
            "-rmse:   (-218761.8767, 982.254, 'Bagging linreg')\n",
            "-rmse:   (-174869.0006, 7428.791, 'Bagging dtree')\n",
            "-rmse:   (-167895.7318, 2658.686, 'Bagging RFC')\n"
          ]
        }
      ]
    },
    {
      "cell_type": "markdown",
      "source": [
        "#**Boosting Regressor**"
      ],
      "metadata": {
        "id": "_En_geUsoHIM"
      }
    },
    {
      "cell_type": "code",
      "source": [
        "from sklearn.ensemble import AdaBoostRegressor"
      ],
      "metadata": {
        "id": "JqomB_m0LAvy"
      },
      "execution_count": null,
      "outputs": []
    },
    {
      "cell_type": "code",
      "source": [
        "# get a list of models to evaluate\n",
        "boost_dtr = AdaBoostRegressor(base_estimator=DecisionTreeRegressor(), n_estimators=10) # 10 steps\n",
        "boost_lr = AdaBoostRegressor(base_estimator=LinearRegression(), n_estimators=10) # 10 steps\n",
        "boost_rfr = AdaBoostRegressor(base_estimator=RandomForestRegressor(n_estimators=10,n_jobs=-1), n_estimators=10) # 10 steps"
      ],
      "metadata": {
        "id": "TxNRKG4nLu_p"
      },
      "execution_count": null,
      "outputs": []
    },
    {
      "cell_type": "code",
      "source": [
        "label=[\"Boosting Dtree\", \"Boosting LR\", \"Boosting RFR\"]\n",
        "clf_list=[boost_dtr,boost_lr,boost_rfr]\n",
        "\n",
        "for clf,label in zip(clf_list,label):\n",
        "  scores=cross_val_score(clf,X,y,cv=3,scoring='neg_root_mean_squared_error')\n",
        "  print (\"-mse:  \",(round(scores.mean(),2), \"-rmse\" ,round(scores.std(),3), label))"
      ],
      "metadata": {
        "colab": {
          "base_uri": "https://localhost:8080/"
        },
        "id": "eaC8EBnGL5aQ",
        "outputId": "4b888559-a044-480f-a0f3-8212433b0c49"
      },
      "execution_count": null,
      "outputs": [
        {
          "output_type": "stream",
          "name": "stdout",
          "text": [
            "-mse:   (-177965.79, '-rmse', 4637.518, 'Boosting Dtree')\n",
            "-mse:   (-300922.3, '-rmse', 17278.721, 'Boosting LR')\n",
            "-mse:   (-161837.37, '-rmse', 6640.639, 'Boosting RFR')\n"
          ]
        }
      ]
    },
    {
      "cell_type": "markdown",
      "source": [
        "#**Stacking Regressor**"
      ],
      "metadata": {
        "id": "6glPmM4ESVql"
      }
    },
    {
      "cell_type": "code",
      "source": [
        "from sklearn.ensemble import StackingRegressor"
      ],
      "metadata": {
        "id": "K8wyG78DTNee"
      },
      "execution_count": null,
      "outputs": []
    },
    {
      "cell_type": "code",
      "source": [
        "estimators=[\n",
        "    (\"rfr\",RandomForestRegressor(n_estimators=10)),\n",
        "    (\"LR\",LinearRegression()),\n",
        "    (\"DTree\",DecisionTreeRegressor())\n",
        "]"
      ],
      "metadata": {
        "id": "9v8DXkzeDrJs"
      },
      "execution_count": null,
      "outputs": []
    },
    {
      "cell_type": "code",
      "source": [
        "clf=StackingRegressor(estimators=estimators,\n",
        "                       final_estimator=LinearRegression(),cv=10)"
      ],
      "metadata": {
        "id": "Ro8AaRPGSl4u"
      },
      "execution_count": null,
      "outputs": []
    },
    {
      "cell_type": "code",
      "source": [
        "clf.fit(X_train,y_train)"
      ],
      "metadata": {
        "colab": {
          "base_uri": "https://localhost:8080/"
        },
        "id": "zattRnPwTQo0",
        "outputId": "7f42b1c9-da26-482b-96a9-0e693cac87b2"
      },
      "execution_count": null,
      "outputs": [
        {
          "output_type": "execute_result",
          "data": {
            "text/plain": [
              "StackingRegressor(cv=10,\n",
              "                  estimators=[('rfr', RandomForestRegressor(n_estimators=10)),\n",
              "                              ('LR', LinearRegression()),\n",
              "                              ('DTree', DecisionTreeRegressor())],\n",
              "                  final_estimator=LinearRegression())"
            ]
          },
          "metadata": {},
          "execution_count": 34
        }
      ]
    },
    {
      "cell_type": "code",
      "source": [
        "stack_pred=clf.predict(X_test)"
      ],
      "metadata": {
        "id": "yjoQxZ0JTSrD"
      },
      "execution_count": null,
      "outputs": []
    },
    {
      "cell_type": "code",
      "source": [
        "r2=r2_score(y_test,stack_pred)\n",
        "print(\"r2 score \",r2)\n",
        "print(\"Adjusted_R2_score\", adjustedr2(r2,X_train))"
      ],
      "metadata": {
        "colab": {
          "base_uri": "https://localhost:8080/"
        },
        "id": "E9nfnW1JTXxF",
        "outputId": "abfb89be-d653-47b7-a0b7-1958d1502742"
      },
      "execution_count": null,
      "outputs": [
        {
          "output_type": "stream",
          "name": "stdout",
          "text": [
            "r2 score  0.7349242617015771\n",
            "Adjusted_R2_score 0.7345909213727884\n"
          ]
        }
      ]
    },
    {
      "cell_type": "markdown",
      "source": [
        "#**Principal Component Analysis**"
      ],
      "metadata": {
        "id": "vHUgYoWgUBtc"
      }
    },
    {
      "cell_type": "code",
      "source": [
        "import pandas as pd\n",
        "import numpy as np\n",
        "data=pd.read_csv(\"/content/nfl2008_fga.csv\")\n",
        "data.head()"
      ],
      "metadata": {
        "colab": {
          "base_uri": "https://localhost:8080/",
          "height": 300
        },
        "id": "P1HdhtuNUEu2",
        "outputId": "0134067c-ed50-411b-9a5e-f33848c8bdaf"
      },
      "execution_count": 2,
      "outputs": [
        {
          "output_type": "execute_result",
          "data": {
            "text/plain": [
              "   GameDate AwayTeam HomeTeam  qtr  min  sec kickteam  def  down  togo  ...  \\\n",
              "0  20081130      IND      CLE    1   47    2      IND  CLE   4.0  11.0  ...   \n",
              "1  20081005      IND      HOU    1   54   47      IND  HOU   4.0   3.0  ...   \n",
              "2  20081228      TEN      IND    1   45   20      IND  TEN   4.0   3.0  ...   \n",
              "3  20081012      BAL      IND    1   45   42      IND  BAL   4.0   1.0  ...   \n",
              "4  20080907      CHI      IND    1   50   56      IND  CHI   4.0  21.0  ...   \n",
              "\n",
              "   distance  homekick kickdiff  timerem  offscore  defscore  season  GOOD  \\\n",
              "0        30         0       -3     2822         0         3    2008     1   \n",
              "1        46         0        0     3287         0         0    2008     1   \n",
              "2        28         1        7     2720         7         0    2008     1   \n",
              "3        37         1       14     2742        14         0    2008     1   \n",
              "4        39         1        0     3056         0         0    2008     1   \n",
              "\n",
              "   Missed  Blocked  \n",
              "0       0        0  \n",
              "1       0        0  \n",
              "2       0        0  \n",
              "3       0        0  \n",
              "4       0        0  \n",
              "\n",
              "[5 rows x 23 columns]"
            ],
            "text/html": [
              "\n",
              "  <div id=\"df-b6f62194-d673-4a0d-9453-dc97f63694cb\">\n",
              "    <div class=\"colab-df-container\">\n",
              "      <div>\n",
              "<style scoped>\n",
              "    .dataframe tbody tr th:only-of-type {\n",
              "        vertical-align: middle;\n",
              "    }\n",
              "\n",
              "    .dataframe tbody tr th {\n",
              "        vertical-align: top;\n",
              "    }\n",
              "\n",
              "    .dataframe thead th {\n",
              "        text-align: right;\n",
              "    }\n",
              "</style>\n",
              "<table border=\"1\" class=\"dataframe\">\n",
              "  <thead>\n",
              "    <tr style=\"text-align: right;\">\n",
              "      <th></th>\n",
              "      <th>GameDate</th>\n",
              "      <th>AwayTeam</th>\n",
              "      <th>HomeTeam</th>\n",
              "      <th>qtr</th>\n",
              "      <th>min</th>\n",
              "      <th>sec</th>\n",
              "      <th>kickteam</th>\n",
              "      <th>def</th>\n",
              "      <th>down</th>\n",
              "      <th>togo</th>\n",
              "      <th>...</th>\n",
              "      <th>distance</th>\n",
              "      <th>homekick</th>\n",
              "      <th>kickdiff</th>\n",
              "      <th>timerem</th>\n",
              "      <th>offscore</th>\n",
              "      <th>defscore</th>\n",
              "      <th>season</th>\n",
              "      <th>GOOD</th>\n",
              "      <th>Missed</th>\n",
              "      <th>Blocked</th>\n",
              "    </tr>\n",
              "  </thead>\n",
              "  <tbody>\n",
              "    <tr>\n",
              "      <th>0</th>\n",
              "      <td>20081130</td>\n",
              "      <td>IND</td>\n",
              "      <td>CLE</td>\n",
              "      <td>1</td>\n",
              "      <td>47</td>\n",
              "      <td>2</td>\n",
              "      <td>IND</td>\n",
              "      <td>CLE</td>\n",
              "      <td>4.0</td>\n",
              "      <td>11.0</td>\n",
              "      <td>...</td>\n",
              "      <td>30</td>\n",
              "      <td>0</td>\n",
              "      <td>-3</td>\n",
              "      <td>2822</td>\n",
              "      <td>0</td>\n",
              "      <td>3</td>\n",
              "      <td>2008</td>\n",
              "      <td>1</td>\n",
              "      <td>0</td>\n",
              "      <td>0</td>\n",
              "    </tr>\n",
              "    <tr>\n",
              "      <th>1</th>\n",
              "      <td>20081005</td>\n",
              "      <td>IND</td>\n",
              "      <td>HOU</td>\n",
              "      <td>1</td>\n",
              "      <td>54</td>\n",
              "      <td>47</td>\n",
              "      <td>IND</td>\n",
              "      <td>HOU</td>\n",
              "      <td>4.0</td>\n",
              "      <td>3.0</td>\n",
              "      <td>...</td>\n",
              "      <td>46</td>\n",
              "      <td>0</td>\n",
              "      <td>0</td>\n",
              "      <td>3287</td>\n",
              "      <td>0</td>\n",
              "      <td>0</td>\n",
              "      <td>2008</td>\n",
              "      <td>1</td>\n",
              "      <td>0</td>\n",
              "      <td>0</td>\n",
              "    </tr>\n",
              "    <tr>\n",
              "      <th>2</th>\n",
              "      <td>20081228</td>\n",
              "      <td>TEN</td>\n",
              "      <td>IND</td>\n",
              "      <td>1</td>\n",
              "      <td>45</td>\n",
              "      <td>20</td>\n",
              "      <td>IND</td>\n",
              "      <td>TEN</td>\n",
              "      <td>4.0</td>\n",
              "      <td>3.0</td>\n",
              "      <td>...</td>\n",
              "      <td>28</td>\n",
              "      <td>1</td>\n",
              "      <td>7</td>\n",
              "      <td>2720</td>\n",
              "      <td>7</td>\n",
              "      <td>0</td>\n",
              "      <td>2008</td>\n",
              "      <td>1</td>\n",
              "      <td>0</td>\n",
              "      <td>0</td>\n",
              "    </tr>\n",
              "    <tr>\n",
              "      <th>3</th>\n",
              "      <td>20081012</td>\n",
              "      <td>BAL</td>\n",
              "      <td>IND</td>\n",
              "      <td>1</td>\n",
              "      <td>45</td>\n",
              "      <td>42</td>\n",
              "      <td>IND</td>\n",
              "      <td>BAL</td>\n",
              "      <td>4.0</td>\n",
              "      <td>1.0</td>\n",
              "      <td>...</td>\n",
              "      <td>37</td>\n",
              "      <td>1</td>\n",
              "      <td>14</td>\n",
              "      <td>2742</td>\n",
              "      <td>14</td>\n",
              "      <td>0</td>\n",
              "      <td>2008</td>\n",
              "      <td>1</td>\n",
              "      <td>0</td>\n",
              "      <td>0</td>\n",
              "    </tr>\n",
              "    <tr>\n",
              "      <th>4</th>\n",
              "      <td>20080907</td>\n",
              "      <td>CHI</td>\n",
              "      <td>IND</td>\n",
              "      <td>1</td>\n",
              "      <td>50</td>\n",
              "      <td>56</td>\n",
              "      <td>IND</td>\n",
              "      <td>CHI</td>\n",
              "      <td>4.0</td>\n",
              "      <td>21.0</td>\n",
              "      <td>...</td>\n",
              "      <td>39</td>\n",
              "      <td>1</td>\n",
              "      <td>0</td>\n",
              "      <td>3056</td>\n",
              "      <td>0</td>\n",
              "      <td>0</td>\n",
              "      <td>2008</td>\n",
              "      <td>1</td>\n",
              "      <td>0</td>\n",
              "      <td>0</td>\n",
              "    </tr>\n",
              "  </tbody>\n",
              "</table>\n",
              "<p>5 rows × 23 columns</p>\n",
              "</div>\n",
              "      <button class=\"colab-df-convert\" onclick=\"convertToInteractive('df-b6f62194-d673-4a0d-9453-dc97f63694cb')\"\n",
              "              title=\"Convert this dataframe to an interactive table.\"\n",
              "              style=\"display:none;\">\n",
              "        \n",
              "  <svg xmlns=\"http://www.w3.org/2000/svg\" height=\"24px\"viewBox=\"0 0 24 24\"\n",
              "       width=\"24px\">\n",
              "    <path d=\"M0 0h24v24H0V0z\" fill=\"none\"/>\n",
              "    <path d=\"M18.56 5.44l.94 2.06.94-2.06 2.06-.94-2.06-.94-.94-2.06-.94 2.06-2.06.94zm-11 1L8.5 8.5l.94-2.06 2.06-.94-2.06-.94L8.5 2.5l-.94 2.06-2.06.94zm10 10l.94 2.06.94-2.06 2.06-.94-2.06-.94-.94-2.06-.94 2.06-2.06.94z\"/><path d=\"M17.41 7.96l-1.37-1.37c-.4-.4-.92-.59-1.43-.59-.52 0-1.04.2-1.43.59L10.3 9.45l-7.72 7.72c-.78.78-.78 2.05 0 2.83L4 21.41c.39.39.9.59 1.41.59.51 0 1.02-.2 1.41-.59l7.78-7.78 2.81-2.81c.8-.78.8-2.07 0-2.86zM5.41 20L4 18.59l7.72-7.72 1.47 1.35L5.41 20z\"/>\n",
              "  </svg>\n",
              "      </button>\n",
              "      \n",
              "  <style>\n",
              "    .colab-df-container {\n",
              "      display:flex;\n",
              "      flex-wrap:wrap;\n",
              "      gap: 12px;\n",
              "    }\n",
              "\n",
              "    .colab-df-convert {\n",
              "      background-color: #E8F0FE;\n",
              "      border: none;\n",
              "      border-radius: 50%;\n",
              "      cursor: pointer;\n",
              "      display: none;\n",
              "      fill: #1967D2;\n",
              "      height: 32px;\n",
              "      padding: 0 0 0 0;\n",
              "      width: 32px;\n",
              "    }\n",
              "\n",
              "    .colab-df-convert:hover {\n",
              "      background-color: #E2EBFA;\n",
              "      box-shadow: 0px 1px 2px rgba(60, 64, 67, 0.3), 0px 1px 3px 1px rgba(60, 64, 67, 0.15);\n",
              "      fill: #174EA6;\n",
              "    }\n",
              "\n",
              "    [theme=dark] .colab-df-convert {\n",
              "      background-color: #3B4455;\n",
              "      fill: #D2E3FC;\n",
              "    }\n",
              "\n",
              "    [theme=dark] .colab-df-convert:hover {\n",
              "      background-color: #434B5C;\n",
              "      box-shadow: 0px 1px 3px 1px rgba(0, 0, 0, 0.15);\n",
              "      filter: drop-shadow(0px 1px 2px rgba(0, 0, 0, 0.3));\n",
              "      fill: #FFFFFF;\n",
              "    }\n",
              "  </style>\n",
              "\n",
              "      <script>\n",
              "        const buttonEl =\n",
              "          document.querySelector('#df-b6f62194-d673-4a0d-9453-dc97f63694cb button.colab-df-convert');\n",
              "        buttonEl.style.display =\n",
              "          google.colab.kernel.accessAllowed ? 'block' : 'none';\n",
              "\n",
              "        async function convertToInteractive(key) {\n",
              "          const element = document.querySelector('#df-b6f62194-d673-4a0d-9453-dc97f63694cb');\n",
              "          const dataTable =\n",
              "            await google.colab.kernel.invokeFunction('convertToInteractive',\n",
              "                                                     [key], {});\n",
              "          if (!dataTable) return;\n",
              "\n",
              "          const docLinkHtml = 'Like what you see? Visit the ' +\n",
              "            '<a target=\"_blank\" href=https://colab.research.google.com/notebooks/data_table.ipynb>data table notebook</a>'\n",
              "            + ' to learn more about interactive tables.';\n",
              "          element.innerHTML = '';\n",
              "          dataTable['output_type'] = 'display_data';\n",
              "          await google.colab.output.renderOutput(dataTable, element);\n",
              "          const docLink = document.createElement('div');\n",
              "          docLink.innerHTML = docLinkHtml;\n",
              "          element.appendChild(docLink);\n",
              "        }\n",
              "      </script>\n",
              "    </div>\n",
              "  </div>\n",
              "  "
            ]
          },
          "metadata": {},
          "execution_count": 2
        }
      ]
    },
    {
      "cell_type": "code",
      "source": [
        "data.fillna(data.median(),inplace=True)"
      ],
      "metadata": {
        "id": "mDpnds-0wgpd"
      },
      "execution_count": 3,
      "outputs": []
    },
    {
      "cell_type": "code",
      "source": [
        "data.isnull().sum()"
      ],
      "metadata": {
        "colab": {
          "base_uri": "https://localhost:8080/"
        },
        "id": "9Wx2lrr2wlgI",
        "outputId": "73abdb4b-4a44-4206-fbf1-ff2b8dcf63c9"
      },
      "execution_count": 4,
      "outputs": [
        {
          "output_type": "execute_result",
          "data": {
            "text/plain": [
              "GameDate    0\n",
              "AwayTeam    0\n",
              "HomeTeam    0\n",
              "qtr         0\n",
              "min         0\n",
              "sec         0\n",
              "kickteam    0\n",
              "def         0\n",
              "down        0\n",
              "togo        0\n",
              "kicker      0\n",
              "ydline      0\n",
              "name        0\n",
              "distance    0\n",
              "homekick    0\n",
              "kickdiff    0\n",
              "timerem     0\n",
              "offscore    0\n",
              "defscore    0\n",
              "season      0\n",
              "GOOD        0\n",
              "Missed      0\n",
              "Blocked     0\n",
              "dtype: int64"
            ]
          },
          "metadata": {},
          "execution_count": 4
        }
      ]
    },
    {
      "cell_type": "code",
      "source": [
        "data.head()"
      ],
      "metadata": {
        "colab": {
          "base_uri": "https://localhost:8080/",
          "height": 300
        },
        "id": "rWt27ccIyAJI",
        "outputId": "d0904526-b4f5-44e8-e24d-53090e50dc4b"
      },
      "execution_count": 5,
      "outputs": [
        {
          "output_type": "execute_result",
          "data": {
            "text/plain": [
              "   GameDate AwayTeam HomeTeam  qtr  min  sec kickteam  def  down  togo  ...  \\\n",
              "0  20081130      IND      CLE    1   47    2      IND  CLE   4.0  11.0  ...   \n",
              "1  20081005      IND      HOU    1   54   47      IND  HOU   4.0   3.0  ...   \n",
              "2  20081228      TEN      IND    1   45   20      IND  TEN   4.0   3.0  ...   \n",
              "3  20081012      BAL      IND    1   45   42      IND  BAL   4.0   1.0  ...   \n",
              "4  20080907      CHI      IND    1   50   56      IND  CHI   4.0  21.0  ...   \n",
              "\n",
              "   distance  homekick kickdiff  timerem  offscore  defscore  season  GOOD  \\\n",
              "0        30         0       -3     2822         0         3    2008     1   \n",
              "1        46         0        0     3287         0         0    2008     1   \n",
              "2        28         1        7     2720         7         0    2008     1   \n",
              "3        37         1       14     2742        14         0    2008     1   \n",
              "4        39         1        0     3056         0         0    2008     1   \n",
              "\n",
              "   Missed  Blocked  \n",
              "0       0        0  \n",
              "1       0        0  \n",
              "2       0        0  \n",
              "3       0        0  \n",
              "4       0        0  \n",
              "\n",
              "[5 rows x 23 columns]"
            ],
            "text/html": [
              "\n",
              "  <div id=\"df-7410bd4a-e81f-4d8f-af6d-2a4c51edc2ab\">\n",
              "    <div class=\"colab-df-container\">\n",
              "      <div>\n",
              "<style scoped>\n",
              "    .dataframe tbody tr th:only-of-type {\n",
              "        vertical-align: middle;\n",
              "    }\n",
              "\n",
              "    .dataframe tbody tr th {\n",
              "        vertical-align: top;\n",
              "    }\n",
              "\n",
              "    .dataframe thead th {\n",
              "        text-align: right;\n",
              "    }\n",
              "</style>\n",
              "<table border=\"1\" class=\"dataframe\">\n",
              "  <thead>\n",
              "    <tr style=\"text-align: right;\">\n",
              "      <th></th>\n",
              "      <th>GameDate</th>\n",
              "      <th>AwayTeam</th>\n",
              "      <th>HomeTeam</th>\n",
              "      <th>qtr</th>\n",
              "      <th>min</th>\n",
              "      <th>sec</th>\n",
              "      <th>kickteam</th>\n",
              "      <th>def</th>\n",
              "      <th>down</th>\n",
              "      <th>togo</th>\n",
              "      <th>...</th>\n",
              "      <th>distance</th>\n",
              "      <th>homekick</th>\n",
              "      <th>kickdiff</th>\n",
              "      <th>timerem</th>\n",
              "      <th>offscore</th>\n",
              "      <th>defscore</th>\n",
              "      <th>season</th>\n",
              "      <th>GOOD</th>\n",
              "      <th>Missed</th>\n",
              "      <th>Blocked</th>\n",
              "    </tr>\n",
              "  </thead>\n",
              "  <tbody>\n",
              "    <tr>\n",
              "      <th>0</th>\n",
              "      <td>20081130</td>\n",
              "      <td>IND</td>\n",
              "      <td>CLE</td>\n",
              "      <td>1</td>\n",
              "      <td>47</td>\n",
              "      <td>2</td>\n",
              "      <td>IND</td>\n",
              "      <td>CLE</td>\n",
              "      <td>4.0</td>\n",
              "      <td>11.0</td>\n",
              "      <td>...</td>\n",
              "      <td>30</td>\n",
              "      <td>0</td>\n",
              "      <td>-3</td>\n",
              "      <td>2822</td>\n",
              "      <td>0</td>\n",
              "      <td>3</td>\n",
              "      <td>2008</td>\n",
              "      <td>1</td>\n",
              "      <td>0</td>\n",
              "      <td>0</td>\n",
              "    </tr>\n",
              "    <tr>\n",
              "      <th>1</th>\n",
              "      <td>20081005</td>\n",
              "      <td>IND</td>\n",
              "      <td>HOU</td>\n",
              "      <td>1</td>\n",
              "      <td>54</td>\n",
              "      <td>47</td>\n",
              "      <td>IND</td>\n",
              "      <td>HOU</td>\n",
              "      <td>4.0</td>\n",
              "      <td>3.0</td>\n",
              "      <td>...</td>\n",
              "      <td>46</td>\n",
              "      <td>0</td>\n",
              "      <td>0</td>\n",
              "      <td>3287</td>\n",
              "      <td>0</td>\n",
              "      <td>0</td>\n",
              "      <td>2008</td>\n",
              "      <td>1</td>\n",
              "      <td>0</td>\n",
              "      <td>0</td>\n",
              "    </tr>\n",
              "    <tr>\n",
              "      <th>2</th>\n",
              "      <td>20081228</td>\n",
              "      <td>TEN</td>\n",
              "      <td>IND</td>\n",
              "      <td>1</td>\n",
              "      <td>45</td>\n",
              "      <td>20</td>\n",
              "      <td>IND</td>\n",
              "      <td>TEN</td>\n",
              "      <td>4.0</td>\n",
              "      <td>3.0</td>\n",
              "      <td>...</td>\n",
              "      <td>28</td>\n",
              "      <td>1</td>\n",
              "      <td>7</td>\n",
              "      <td>2720</td>\n",
              "      <td>7</td>\n",
              "      <td>0</td>\n",
              "      <td>2008</td>\n",
              "      <td>1</td>\n",
              "      <td>0</td>\n",
              "      <td>0</td>\n",
              "    </tr>\n",
              "    <tr>\n",
              "      <th>3</th>\n",
              "      <td>20081012</td>\n",
              "      <td>BAL</td>\n",
              "      <td>IND</td>\n",
              "      <td>1</td>\n",
              "      <td>45</td>\n",
              "      <td>42</td>\n",
              "      <td>IND</td>\n",
              "      <td>BAL</td>\n",
              "      <td>4.0</td>\n",
              "      <td>1.0</td>\n",
              "      <td>...</td>\n",
              "      <td>37</td>\n",
              "      <td>1</td>\n",
              "      <td>14</td>\n",
              "      <td>2742</td>\n",
              "      <td>14</td>\n",
              "      <td>0</td>\n",
              "      <td>2008</td>\n",
              "      <td>1</td>\n",
              "      <td>0</td>\n",
              "      <td>0</td>\n",
              "    </tr>\n",
              "    <tr>\n",
              "      <th>4</th>\n",
              "      <td>20080907</td>\n",
              "      <td>CHI</td>\n",
              "      <td>IND</td>\n",
              "      <td>1</td>\n",
              "      <td>50</td>\n",
              "      <td>56</td>\n",
              "      <td>IND</td>\n",
              "      <td>CHI</td>\n",
              "      <td>4.0</td>\n",
              "      <td>21.0</td>\n",
              "      <td>...</td>\n",
              "      <td>39</td>\n",
              "      <td>1</td>\n",
              "      <td>0</td>\n",
              "      <td>3056</td>\n",
              "      <td>0</td>\n",
              "      <td>0</td>\n",
              "      <td>2008</td>\n",
              "      <td>1</td>\n",
              "      <td>0</td>\n",
              "      <td>0</td>\n",
              "    </tr>\n",
              "  </tbody>\n",
              "</table>\n",
              "<p>5 rows × 23 columns</p>\n",
              "</div>\n",
              "      <button class=\"colab-df-convert\" onclick=\"convertToInteractive('df-7410bd4a-e81f-4d8f-af6d-2a4c51edc2ab')\"\n",
              "              title=\"Convert this dataframe to an interactive table.\"\n",
              "              style=\"display:none;\">\n",
              "        \n",
              "  <svg xmlns=\"http://www.w3.org/2000/svg\" height=\"24px\"viewBox=\"0 0 24 24\"\n",
              "       width=\"24px\">\n",
              "    <path d=\"M0 0h24v24H0V0z\" fill=\"none\"/>\n",
              "    <path d=\"M18.56 5.44l.94 2.06.94-2.06 2.06-.94-2.06-.94-.94-2.06-.94 2.06-2.06.94zm-11 1L8.5 8.5l.94-2.06 2.06-.94-2.06-.94L8.5 2.5l-.94 2.06-2.06.94zm10 10l.94 2.06.94-2.06 2.06-.94-2.06-.94-.94-2.06-.94 2.06-2.06.94z\"/><path d=\"M17.41 7.96l-1.37-1.37c-.4-.4-.92-.59-1.43-.59-.52 0-1.04.2-1.43.59L10.3 9.45l-7.72 7.72c-.78.78-.78 2.05 0 2.83L4 21.41c.39.39.9.59 1.41.59.51 0 1.02-.2 1.41-.59l7.78-7.78 2.81-2.81c.8-.78.8-2.07 0-2.86zM5.41 20L4 18.59l7.72-7.72 1.47 1.35L5.41 20z\"/>\n",
              "  </svg>\n",
              "      </button>\n",
              "      \n",
              "  <style>\n",
              "    .colab-df-container {\n",
              "      display:flex;\n",
              "      flex-wrap:wrap;\n",
              "      gap: 12px;\n",
              "    }\n",
              "\n",
              "    .colab-df-convert {\n",
              "      background-color: #E8F0FE;\n",
              "      border: none;\n",
              "      border-radius: 50%;\n",
              "      cursor: pointer;\n",
              "      display: none;\n",
              "      fill: #1967D2;\n",
              "      height: 32px;\n",
              "      padding: 0 0 0 0;\n",
              "      width: 32px;\n",
              "    }\n",
              "\n",
              "    .colab-df-convert:hover {\n",
              "      background-color: #E2EBFA;\n",
              "      box-shadow: 0px 1px 2px rgba(60, 64, 67, 0.3), 0px 1px 3px 1px rgba(60, 64, 67, 0.15);\n",
              "      fill: #174EA6;\n",
              "    }\n",
              "\n",
              "    [theme=dark] .colab-df-convert {\n",
              "      background-color: #3B4455;\n",
              "      fill: #D2E3FC;\n",
              "    }\n",
              "\n",
              "    [theme=dark] .colab-df-convert:hover {\n",
              "      background-color: #434B5C;\n",
              "      box-shadow: 0px 1px 3px 1px rgba(0, 0, 0, 0.15);\n",
              "      filter: drop-shadow(0px 1px 2px rgba(0, 0, 0, 0.3));\n",
              "      fill: #FFFFFF;\n",
              "    }\n",
              "  </style>\n",
              "\n",
              "      <script>\n",
              "        const buttonEl =\n",
              "          document.querySelector('#df-7410bd4a-e81f-4d8f-af6d-2a4c51edc2ab button.colab-df-convert');\n",
              "        buttonEl.style.display =\n",
              "          google.colab.kernel.accessAllowed ? 'block' : 'none';\n",
              "\n",
              "        async function convertToInteractive(key) {\n",
              "          const element = document.querySelector('#df-7410bd4a-e81f-4d8f-af6d-2a4c51edc2ab');\n",
              "          const dataTable =\n",
              "            await google.colab.kernel.invokeFunction('convertToInteractive',\n",
              "                                                     [key], {});\n",
              "          if (!dataTable) return;\n",
              "\n",
              "          const docLinkHtml = 'Like what you see? Visit the ' +\n",
              "            '<a target=\"_blank\" href=https://colab.research.google.com/notebooks/data_table.ipynb>data table notebook</a>'\n",
              "            + ' to learn more about interactive tables.';\n",
              "          element.innerHTML = '';\n",
              "          dataTable['output_type'] = 'display_data';\n",
              "          await google.colab.output.renderOutput(dataTable, element);\n",
              "          const docLink = document.createElement('div');\n",
              "          docLink.innerHTML = docLinkHtml;\n",
              "          element.appendChild(docLink);\n",
              "        }\n",
              "      </script>\n",
              "    </div>\n",
              "  </div>\n",
              "  "
            ]
          },
          "metadata": {},
          "execution_count": 5
        }
      ]
    },
    {
      "cell_type": "code",
      "source": [
        "x1=pd.concat([pd.DataFrame(data.dtypes.values,columns=[\"Dtypes\"]),pd.DataFrame(data.dtypes.index,columns=[\"Names\"])],axis=1)\n",
        "x1[x1[\"Dtypes\"]==object][\"Names\"].values"
      ],
      "metadata": {
        "colab": {
          "base_uri": "https://localhost:8080/"
        },
        "id": "z44eKqLvyFmT",
        "outputId": "5d905c4f-56c4-4fed-9c42-bedfafc8f17d"
      },
      "execution_count": 6,
      "outputs": [
        {
          "output_type": "execute_result",
          "data": {
            "text/plain": [
              "array(['AwayTeam', 'HomeTeam', 'kickteam', 'def', 'name'], dtype=object)"
            ]
          },
          "metadata": {},
          "execution_count": 6
        }
      ]
    },
    {
      "cell_type": "code",
      "source": [
        "from sklearn.preprocessing import LabelEncoder\n",
        "le=LabelEncoder()"
      ],
      "metadata": {
        "id": "fJ9Ezkvgy8Yu"
      },
      "execution_count": 7,
      "outputs": []
    },
    {
      "cell_type": "code",
      "source": [
        "for i in ['AwayTeam', 'HomeTeam', 'kickteam', 'def', 'name']:\n",
        "  data[i]=le.fit_transform(data[i])"
      ],
      "metadata": {
        "id": "lb_RQk1TzAfz"
      },
      "execution_count": 8,
      "outputs": []
    },
    {
      "cell_type": "code",
      "source": [
        "data.head()"
      ],
      "metadata": {
        "colab": {
          "base_uri": "https://localhost:8080/",
          "height": 300
        },
        "id": "9V_loVoJzGIq",
        "outputId": "bc8ed5f5-7c8e-428e-836b-8bc898f1d52c"
      },
      "execution_count": 9,
      "outputs": [
        {
          "output_type": "execute_result",
          "data": {
            "text/plain": [
              "   GameDate  AwayTeam  HomeTeam  qtr  min  sec  kickteam  def  down  togo  \\\n",
              "0  20081130        13         7    1   47    2        13    7   4.0  11.0   \n",
              "1  20081005        13        12    1   54   47        13   12   4.0   3.0   \n",
              "2  20081228        30        13    1   45   20        13   30   4.0   3.0   \n",
              "3  20081012         2        13    1   45   42        13    2   4.0   1.0   \n",
              "4  20080907         5        13    1   50   56        13    5   4.0  21.0   \n",
              "\n",
              "   ...  distance  homekick  kickdiff  timerem  offscore  defscore  season  \\\n",
              "0  ...        30         0        -3     2822         0         3    2008   \n",
              "1  ...        46         0         0     3287         0         0    2008   \n",
              "2  ...        28         1         7     2720         7         0    2008   \n",
              "3  ...        37         1        14     2742        14         0    2008   \n",
              "4  ...        39         1         0     3056         0         0    2008   \n",
              "\n",
              "   GOOD  Missed  Blocked  \n",
              "0     1       0        0  \n",
              "1     1       0        0  \n",
              "2     1       0        0  \n",
              "3     1       0        0  \n",
              "4     1       0        0  \n",
              "\n",
              "[5 rows x 23 columns]"
            ],
            "text/html": [
              "\n",
              "  <div id=\"df-653111d3-b9f8-40bd-ab34-56f7b1676d34\">\n",
              "    <div class=\"colab-df-container\">\n",
              "      <div>\n",
              "<style scoped>\n",
              "    .dataframe tbody tr th:only-of-type {\n",
              "        vertical-align: middle;\n",
              "    }\n",
              "\n",
              "    .dataframe tbody tr th {\n",
              "        vertical-align: top;\n",
              "    }\n",
              "\n",
              "    .dataframe thead th {\n",
              "        text-align: right;\n",
              "    }\n",
              "</style>\n",
              "<table border=\"1\" class=\"dataframe\">\n",
              "  <thead>\n",
              "    <tr style=\"text-align: right;\">\n",
              "      <th></th>\n",
              "      <th>GameDate</th>\n",
              "      <th>AwayTeam</th>\n",
              "      <th>HomeTeam</th>\n",
              "      <th>qtr</th>\n",
              "      <th>min</th>\n",
              "      <th>sec</th>\n",
              "      <th>kickteam</th>\n",
              "      <th>def</th>\n",
              "      <th>down</th>\n",
              "      <th>togo</th>\n",
              "      <th>...</th>\n",
              "      <th>distance</th>\n",
              "      <th>homekick</th>\n",
              "      <th>kickdiff</th>\n",
              "      <th>timerem</th>\n",
              "      <th>offscore</th>\n",
              "      <th>defscore</th>\n",
              "      <th>season</th>\n",
              "      <th>GOOD</th>\n",
              "      <th>Missed</th>\n",
              "      <th>Blocked</th>\n",
              "    </tr>\n",
              "  </thead>\n",
              "  <tbody>\n",
              "    <tr>\n",
              "      <th>0</th>\n",
              "      <td>20081130</td>\n",
              "      <td>13</td>\n",
              "      <td>7</td>\n",
              "      <td>1</td>\n",
              "      <td>47</td>\n",
              "      <td>2</td>\n",
              "      <td>13</td>\n",
              "      <td>7</td>\n",
              "      <td>4.0</td>\n",
              "      <td>11.0</td>\n",
              "      <td>...</td>\n",
              "      <td>30</td>\n",
              "      <td>0</td>\n",
              "      <td>-3</td>\n",
              "      <td>2822</td>\n",
              "      <td>0</td>\n",
              "      <td>3</td>\n",
              "      <td>2008</td>\n",
              "      <td>1</td>\n",
              "      <td>0</td>\n",
              "      <td>0</td>\n",
              "    </tr>\n",
              "    <tr>\n",
              "      <th>1</th>\n",
              "      <td>20081005</td>\n",
              "      <td>13</td>\n",
              "      <td>12</td>\n",
              "      <td>1</td>\n",
              "      <td>54</td>\n",
              "      <td>47</td>\n",
              "      <td>13</td>\n",
              "      <td>12</td>\n",
              "      <td>4.0</td>\n",
              "      <td>3.0</td>\n",
              "      <td>...</td>\n",
              "      <td>46</td>\n",
              "      <td>0</td>\n",
              "      <td>0</td>\n",
              "      <td>3287</td>\n",
              "      <td>0</td>\n",
              "      <td>0</td>\n",
              "      <td>2008</td>\n",
              "      <td>1</td>\n",
              "      <td>0</td>\n",
              "      <td>0</td>\n",
              "    </tr>\n",
              "    <tr>\n",
              "      <th>2</th>\n",
              "      <td>20081228</td>\n",
              "      <td>30</td>\n",
              "      <td>13</td>\n",
              "      <td>1</td>\n",
              "      <td>45</td>\n",
              "      <td>20</td>\n",
              "      <td>13</td>\n",
              "      <td>30</td>\n",
              "      <td>4.0</td>\n",
              "      <td>3.0</td>\n",
              "      <td>...</td>\n",
              "      <td>28</td>\n",
              "      <td>1</td>\n",
              "      <td>7</td>\n",
              "      <td>2720</td>\n",
              "      <td>7</td>\n",
              "      <td>0</td>\n",
              "      <td>2008</td>\n",
              "      <td>1</td>\n",
              "      <td>0</td>\n",
              "      <td>0</td>\n",
              "    </tr>\n",
              "    <tr>\n",
              "      <th>3</th>\n",
              "      <td>20081012</td>\n",
              "      <td>2</td>\n",
              "      <td>13</td>\n",
              "      <td>1</td>\n",
              "      <td>45</td>\n",
              "      <td>42</td>\n",
              "      <td>13</td>\n",
              "      <td>2</td>\n",
              "      <td>4.0</td>\n",
              "      <td>1.0</td>\n",
              "      <td>...</td>\n",
              "      <td>37</td>\n",
              "      <td>1</td>\n",
              "      <td>14</td>\n",
              "      <td>2742</td>\n",
              "      <td>14</td>\n",
              "      <td>0</td>\n",
              "      <td>2008</td>\n",
              "      <td>1</td>\n",
              "      <td>0</td>\n",
              "      <td>0</td>\n",
              "    </tr>\n",
              "    <tr>\n",
              "      <th>4</th>\n",
              "      <td>20080907</td>\n",
              "      <td>5</td>\n",
              "      <td>13</td>\n",
              "      <td>1</td>\n",
              "      <td>50</td>\n",
              "      <td>56</td>\n",
              "      <td>13</td>\n",
              "      <td>5</td>\n",
              "      <td>4.0</td>\n",
              "      <td>21.0</td>\n",
              "      <td>...</td>\n",
              "      <td>39</td>\n",
              "      <td>1</td>\n",
              "      <td>0</td>\n",
              "      <td>3056</td>\n",
              "      <td>0</td>\n",
              "      <td>0</td>\n",
              "      <td>2008</td>\n",
              "      <td>1</td>\n",
              "      <td>0</td>\n",
              "      <td>0</td>\n",
              "    </tr>\n",
              "  </tbody>\n",
              "</table>\n",
              "<p>5 rows × 23 columns</p>\n",
              "</div>\n",
              "      <button class=\"colab-df-convert\" onclick=\"convertToInteractive('df-653111d3-b9f8-40bd-ab34-56f7b1676d34')\"\n",
              "              title=\"Convert this dataframe to an interactive table.\"\n",
              "              style=\"display:none;\">\n",
              "        \n",
              "  <svg xmlns=\"http://www.w3.org/2000/svg\" height=\"24px\"viewBox=\"0 0 24 24\"\n",
              "       width=\"24px\">\n",
              "    <path d=\"M0 0h24v24H0V0z\" fill=\"none\"/>\n",
              "    <path d=\"M18.56 5.44l.94 2.06.94-2.06 2.06-.94-2.06-.94-.94-2.06-.94 2.06-2.06.94zm-11 1L8.5 8.5l.94-2.06 2.06-.94-2.06-.94L8.5 2.5l-.94 2.06-2.06.94zm10 10l.94 2.06.94-2.06 2.06-.94-2.06-.94-.94-2.06-.94 2.06-2.06.94z\"/><path d=\"M17.41 7.96l-1.37-1.37c-.4-.4-.92-.59-1.43-.59-.52 0-1.04.2-1.43.59L10.3 9.45l-7.72 7.72c-.78.78-.78 2.05 0 2.83L4 21.41c.39.39.9.59 1.41.59.51 0 1.02-.2 1.41-.59l7.78-7.78 2.81-2.81c.8-.78.8-2.07 0-2.86zM5.41 20L4 18.59l7.72-7.72 1.47 1.35L5.41 20z\"/>\n",
              "  </svg>\n",
              "      </button>\n",
              "      \n",
              "  <style>\n",
              "    .colab-df-container {\n",
              "      display:flex;\n",
              "      flex-wrap:wrap;\n",
              "      gap: 12px;\n",
              "    }\n",
              "\n",
              "    .colab-df-convert {\n",
              "      background-color: #E8F0FE;\n",
              "      border: none;\n",
              "      border-radius: 50%;\n",
              "      cursor: pointer;\n",
              "      display: none;\n",
              "      fill: #1967D2;\n",
              "      height: 32px;\n",
              "      padding: 0 0 0 0;\n",
              "      width: 32px;\n",
              "    }\n",
              "\n",
              "    .colab-df-convert:hover {\n",
              "      background-color: #E2EBFA;\n",
              "      box-shadow: 0px 1px 2px rgba(60, 64, 67, 0.3), 0px 1px 3px 1px rgba(60, 64, 67, 0.15);\n",
              "      fill: #174EA6;\n",
              "    }\n",
              "\n",
              "    [theme=dark] .colab-df-convert {\n",
              "      background-color: #3B4455;\n",
              "      fill: #D2E3FC;\n",
              "    }\n",
              "\n",
              "    [theme=dark] .colab-df-convert:hover {\n",
              "      background-color: #434B5C;\n",
              "      box-shadow: 0px 1px 3px 1px rgba(0, 0, 0, 0.15);\n",
              "      filter: drop-shadow(0px 1px 2px rgba(0, 0, 0, 0.3));\n",
              "      fill: #FFFFFF;\n",
              "    }\n",
              "  </style>\n",
              "\n",
              "      <script>\n",
              "        const buttonEl =\n",
              "          document.querySelector('#df-653111d3-b9f8-40bd-ab34-56f7b1676d34 button.colab-df-convert');\n",
              "        buttonEl.style.display =\n",
              "          google.colab.kernel.accessAllowed ? 'block' : 'none';\n",
              "\n",
              "        async function convertToInteractive(key) {\n",
              "          const element = document.querySelector('#df-653111d3-b9f8-40bd-ab34-56f7b1676d34');\n",
              "          const dataTable =\n",
              "            await google.colab.kernel.invokeFunction('convertToInteractive',\n",
              "                                                     [key], {});\n",
              "          if (!dataTable) return;\n",
              "\n",
              "          const docLinkHtml = 'Like what you see? Visit the ' +\n",
              "            '<a target=\"_blank\" href=https://colab.research.google.com/notebooks/data_table.ipynb>data table notebook</a>'\n",
              "            + ' to learn more about interactive tables.';\n",
              "          element.innerHTML = '';\n",
              "          dataTable['output_type'] = 'display_data';\n",
              "          await google.colab.output.renderOutput(dataTable, element);\n",
              "          const docLink = document.createElement('div');\n",
              "          docLink.innerHTML = docLinkHtml;\n",
              "          element.appendChild(docLink);\n",
              "        }\n",
              "      </script>\n",
              "    </div>\n",
              "  </div>\n",
              "  "
            ]
          },
          "metadata": {},
          "execution_count": 9
        }
      ]
    },
    {
      "cell_type": "code",
      "source": [
        "from sklearn.decomposition import PCA\n",
        "pca=PCA(n_components=2)\n",
        "new_data=pca.fit_transform(data)"
      ],
      "metadata": {
        "id": "Z_wdpELxzpYu"
      },
      "execution_count": 10,
      "outputs": []
    },
    {
      "cell_type": "code",
      "source": [
        "new_data"
      ],
      "metadata": {
        "colab": {
          "base_uri": "https://localhost:8080/"
        },
        "id": "0-06gYCLz-Ee",
        "outputId": "44500804-1add-498d-ff2c-a9611660c173"
      },
      "execution_count": 11,
      "outputs": [
        {
          "output_type": "execute_result",
          "data": {
            "text/plain": [
              "array([[ -241.78361809, -1123.748231  ],\n",
              "       [ -355.48328307, -1591.71568108],\n",
              "       [ -146.29587968, -1019.36710355],\n",
              "       ...,\n",
              "       [ -223.22877575,  1907.06504093],\n",
              "       [ -345.68351134,  2584.34253606],\n",
              "       [ -439.21941113,  2440.02797782]])"
            ]
          },
          "metadata": {},
          "execution_count": 11
        }
      ]
    },
    {
      "cell_type": "code",
      "source": [
        "print(\"variance explained by each of the variance: \",np.round(pca.explained_variance_ratio_,2))\n",
        "print(\"Total variance explained by the n_components: \",sum(pca.explained_variance_ratio_))"
      ],
      "metadata": {
        "colab": {
          "base_uri": "https://localhost:8080/"
        },
        "id": "1P-EMdAmDrL0",
        "outputId": "2fe8c774-bf44-4200-bedc-ac0fdaf0a018"
      },
      "execution_count": 12,
      "outputs": [
        {
          "output_type": "stream",
          "name": "stdout",
          "text": [
            "variance explained by each of the variance:  [0.74 0.26]\n",
            "Total variance explained by the n_components:  0.9996617056371983\n"
          ]
        }
      ]
    },
    {
      "cell_type": "markdown",
      "source": [
        "From the above output, it is clearly visible that with just 2 PCA we are getting the combined variance over 90%."
      ],
      "metadata": {
        "id": "rut3me9_9_sG"
      }
    },
    {
      "cell_type": "code",
      "source": [
        "new_data.shape[1]"
      ],
      "metadata": {
        "colab": {
          "base_uri": "https://localhost:8080/"
        },
        "id": "lntvnmp7I8_F",
        "outputId": "80d90b23-dc4b-408b-9588-93954461fc26"
      },
      "execution_count": 13,
      "outputs": [
        {
          "output_type": "execute_result",
          "data": {
            "text/plain": [
              "2"
            ]
          },
          "metadata": {},
          "execution_count": 13
        }
      ]
    },
    {
      "cell_type": "code",
      "source": [
        "pca_ratio={}\n",
        "for index,i in enumerate(range(1,data.shape[1]-1)):\n",
        "  pca=PCA(n_components=i)\n",
        "  new_data=pca.fit_transform(data)\n",
        "  pca_ratio[index]=sum(pca.explained_variance_ratio_)\n"
      ],
      "metadata": {
        "id": "8FwtfBoSLJG-"
      },
      "execution_count": 14,
      "outputs": []
    },
    {
      "cell_type": "code",
      "source": [
        "list(pca_ratio.values())"
      ],
      "metadata": {
        "colab": {
          "base_uri": "https://localhost:8080/"
        },
        "id": "P6JVln8b8XU6",
        "outputId": "fc87badf-d379-4866-ec8a-5c31c1bc2ac5"
      },
      "execution_count": 15,
      "outputs": [
        {
          "output_type": "execute_result",
          "data": {
            "text/plain": [
              "[0.7419831734809367,\n",
              " 0.9996617056371975,\n",
              " 0.9997474855169005,\n",
              " 0.9998161845861471,\n",
              " 0.9998660743001383,\n",
              " 0.9999021577884847,\n",
              " 0.9999333100937007,\n",
              " 0.9999618397914155,\n",
              " 0.9999848493740668,\n",
              " 0.9999953409850469,\n",
              " 0.9999991682177087,\n",
              " 0.9999994806289507,\n",
              " 0.9999997722163898,\n",
              " 0.9999998636839209,\n",
              " 0.9999999249399834,\n",
              " 0.9999999759878789,\n",
              " 0.9999999947848005,\n",
              " 0.9999999999999993,\n",
              " 0.9999999999999998,\n",
              " 0.9999999999999998,\n",
              " 0.9999999999999998]"
            ]
          },
          "metadata": {},
          "execution_count": 15
        }
      ]
    },
    {
      "cell_type": "code",
      "source": [
        "plt.plot(list(pca_ratio.values()));\n",
        "plt.scatter(range(1,data.shape[1]-1),list(pca_ratio.values()))"
      ],
      "metadata": {
        "colab": {
          "base_uri": "https://localhost:8080/",
          "height": 282
        },
        "id": "8aaYDwgG7xnO",
        "outputId": "e888ca47-e3f3-45c2-cbcc-3855be840a0a"
      },
      "execution_count": 20,
      "outputs": [
        {
          "output_type": "execute_result",
          "data": {
            "text/plain": [
              "<matplotlib.collections.PathCollection at 0x7fa6229d5b20>"
            ]
          },
          "metadata": {},
          "execution_count": 20
        },
        {
          "output_type": "display_data",
          "data": {
            "text/plain": [
              "<Figure size 432x288 with 1 Axes>"
            ],
            "image/png": "[encoded data removed]"
          },
          "metadata": {
            "needs_background": "light"
          }
        }
      ]
    },
    {
      "cell_type": "markdown",
      "source": [
        "#**Linear Discriminant Analysis**"
      ],
      "metadata": {
        "id": "0-_wjrdBeG1D"
      }
    },
    {
      "cell_type": "markdown",
      "source": [
        "###**Model the variable \"qtr\" to \"togo\",\"kicker\" and \"ydline\"**"
      ],
      "metadata": {
        "id": "-d1FKwfdiQLz"
      }
    },
    {
      "cell_type": "code",
      "source": [
        "new_data=data.loc[:,['qtr','togo', 'kicker', 'ydline',]].copy()\n",
        "new_data"
      ],
      "metadata": {
        "id": "HlDzB8XtJZmx",
        "outputId": "cb6649f4-b056-4455-9793-1d819554297b",
        "colab": {
          "base_uri": "https://localhost:8080/",
          "height": 424
        }
      },
      "execution_count": 27,
      "outputs": [
        {
          "output_type": "execute_result",
          "data": {
            "text/plain": [
              "      qtr  togo  kicker  ydline\n",
              "0       1  11.0      15      12\n",
              "1       1   3.0      15      28\n",
              "2       1   3.0      15      10\n",
              "3       1   1.0      15      19\n",
              "4       1  21.0      15      21\n",
              "...   ...   ...     ...     ...\n",
              "1034    5   2.0      37      23\n",
              "1035    5  13.0       7      18\n",
              "1036    5  10.0       7      20\n",
              "1037    5   5.0       8      29\n",
              "1038    5  11.0      28      39\n",
              "\n",
              "[1039 rows x 4 columns]"
            ],
            "text/html": [
              "\n",
              "  <div id=\"df-330f6b77-2605-4853-8a73-0acb0e6efd50\">\n",
              "    <div class=\"colab-df-container\">\n",
              "      <div>\n",
              "<style scoped>\n",
              "    .dataframe tbody tr th:only-of-type {\n",
              "        vertical-align: middle;\n",
              "    }\n",
              "\n",
              "    .dataframe tbody tr th {\n",
              "        vertical-align: top;\n",
              "    }\n",
              "\n",
              "    .dataframe thead th {\n",
              "        text-align: right;\n",
              "    }\n",
              "</style>\n",
              "<table border=\"1\" class=\"dataframe\">\n",
              "  <thead>\n",
              "    <tr style=\"text-align: right;\">\n",
              "      <th></th>\n",
              "      <th>qtr</th>\n",
              "      <th>togo</th>\n",
              "      <th>kicker</th>\n",
              "      <th>ydline</th>\n",
              "    </tr>\n",
              "  </thead>\n",
              "  <tbody>\n",
              "    <tr>\n",
              "      <th>0</th>\n",
              "      <td>1</td>\n",
              "      <td>11.0</td>\n",
              "      <td>15</td>\n",
              "      <td>12</td>\n",
              "    </tr>\n",
              "    <tr>\n",
              "      <th>1</th>\n",
              "      <td>1</td>\n",
              "      <td>3.0</td>\n",
              "      <td>15</td>\n",
              "      <td>28</td>\n",
              "    </tr>\n",
              "    <tr>\n",
              "      <th>2</th>\n",
              "      <td>1</td>\n",
              "      <td>3.0</td>\n",
              "      <td>15</td>\n",
              "      <td>10</td>\n",
              "    </tr>\n",
              "    <tr>\n",
              "      <th>3</th>\n",
              "      <td>1</td>\n",
              "      <td>1.0</td>\n",
              "      <td>15</td>\n",
              "      <td>19</td>\n",
              "    </tr>\n",
              "    <tr>\n",
              "      <th>4</th>\n",
              "      <td>1</td>\n",
              "      <td>21.0</td>\n",
              "      <td>15</td>\n",
              "      <td>21</td>\n",
              "    </tr>\n",
              "    <tr>\n",
              "      <th>...</th>\n",
              "      <td>...</td>\n",
              "      <td>...</td>\n",
              "      <td>...</td>\n",
              "      <td>...</td>\n",
              "    </tr>\n",
              "    <tr>\n",
              "      <th>1034</th>\n",
              "      <td>5</td>\n",
              "      <td>2.0</td>\n",
              "      <td>37</td>\n",
              "      <td>23</td>\n",
              "    </tr>\n",
              "    <tr>\n",
              "      <th>1035</th>\n",
              "      <td>5</td>\n",
              "      <td>13.0</td>\n",
              "      <td>7</td>\n",
              "      <td>18</td>\n",
              "    </tr>\n",
              "    <tr>\n",
              "      <th>1036</th>\n",
              "      <td>5</td>\n",
              "      <td>10.0</td>\n",
              "      <td>7</td>\n",
              "      <td>20</td>\n",
              "    </tr>\n",
              "    <tr>\n",
              "      <th>1037</th>\n",
              "      <td>5</td>\n",
              "      <td>5.0</td>\n",
              "      <td>8</td>\n",
              "      <td>29</td>\n",
              "    </tr>\n",
              "    <tr>\n",
              "      <th>1038</th>\n",
              "      <td>5</td>\n",
              "      <td>11.0</td>\n",
              "      <td>28</td>\n",
              "      <td>39</td>\n",
              "    </tr>\n",
              "  </tbody>\n",
              "</table>\n",
              "<p>1039 rows × 4 columns</p>\n",
              "</div>\n",
              "      <button class=\"colab-df-convert\" onclick=\"convertToInteractive('df-330f6b77-2605-4853-8a73-0acb0e6efd50')\"\n",
              "              title=\"Convert this dataframe to an interactive table.\"\n",
              "              style=\"display:none;\">\n",
              "        \n",
              "  <svg xmlns=\"http://www.w3.org/2000/svg\" height=\"24px\"viewBox=\"0 0 24 24\"\n",
              "       width=\"24px\">\n",
              "    <path d=\"M0 0h24v24H0V0z\" fill=\"none\"/>\n",
              "    <path d=\"M18.56 5.44l.94 2.06.94-2.06 2.06-.94-2.06-.94-.94-2.06-.94 2.06-2.06.94zm-11 1L8.5 8.5l.94-2.06 2.06-.94-2.06-.94L8.5 2.5l-.94 2.06-2.06.94zm10 10l.94 2.06.94-2.06 2.06-.94-2.06-.94-.94-2.06-.94 2.06-2.06.94z\"/><path d=\"M17.41 7.96l-1.37-1.37c-.4-.4-.92-.59-1.43-.59-.52 0-1.04.2-1.43.59L10.3 9.45l-7.72 7.72c-.78.78-.78 2.05 0 2.83L4 21.41c.39.39.9.59 1.41.59.51 0 1.02-.2 1.41-.59l7.78-7.78 2.81-2.81c.8-.78.8-2.07 0-2.86zM5.41 20L4 18.59l7.72-7.72 1.47 1.35L5.41 20z\"/>\n",
              "  </svg>\n",
              "      </button>\n",
              "      \n",
              "  <style>\n",
              "    .colab-df-container {\n",
              "      display:flex;\n",
              "      flex-wrap:wrap;\n",
              "      gap: 12px;\n",
              "    }\n",
              "\n",
              "    .colab-df-convert {\n",
              "      background-color: #E8F0FE;\n",
              "      border: none;\n",
              "      border-radius: 50%;\n",
              "      cursor: pointer;\n",
              "      display: none;\n",
              "      fill: #1967D2;\n",
              "      height: 32px;\n",
              "      padding: 0 0 0 0;\n",
              "      width: 32px;\n",
              "    }\n",
              "\n",
              "    .colab-df-convert:hover {\n",
              "      background-color: #E2EBFA;\n",
              "      box-shadow: 0px 1px 2px rgba(60, 64, 67, 0.3), 0px 1px 3px 1px rgba(60, 64, 67, 0.15);\n",
              "      fill: #174EA6;\n",
              "    }\n",
              "\n",
              "    [theme=dark] .colab-df-convert {\n",
              "      background-color: #3B4455;\n",
              "      fill: #D2E3FC;\n",
              "    }\n",
              "\n",
              "    [theme=dark] .colab-df-convert:hover {\n",
              "      background-color: #434B5C;\n",
              "      box-shadow: 0px 1px 3px 1px rgba(0, 0, 0, 0.15);\n",
              "      filter: drop-shadow(0px 1px 2px rgba(0, 0, 0, 0.3));\n",
              "      fill: #FFFFFF;\n",
              "    }\n",
              "  </style>\n",
              "\n",
              "      <script>\n",
              "        const buttonEl =\n",
              "          document.querySelector('#df-330f6b77-2605-4853-8a73-0acb0e6efd50 button.colab-df-convert');\n",
              "        buttonEl.style.display =\n",
              "          google.colab.kernel.accessAllowed ? 'block' : 'none';\n",
              "\n",
              "        async function convertToInteractive(key) {\n",
              "          const element = document.querySelector('#df-330f6b77-2605-4853-8a73-0acb0e6efd50');\n",
              "          const dataTable =\n",
              "            await google.colab.kernel.invokeFunction('convertToInteractive',\n",
              "                                                     [key], {});\n",
              "          if (!dataTable) return;\n",
              "\n",
              "          const docLinkHtml = 'Like what you see? Visit the ' +\n",
              "            '<a target=\"_blank\" href=https://colab.research.google.com/notebooks/data_table.ipynb>data table notebook</a>'\n",
              "            + ' to learn more about interactive tables.';\n",
              "          element.innerHTML = '';\n",
              "          dataTable['output_type'] = 'display_data';\n",
              "          await google.colab.output.renderOutput(dataTable, element);\n",
              "          const docLink = document.createElement('div');\n",
              "          docLink.innerHTML = docLinkHtml;\n",
              "          element.appendChild(docLink);\n",
              "        }\n",
              "      </script>\n",
              "    </div>\n",
              "  </div>\n",
              "  "
            ]
          },
          "metadata": {},
          "execution_count": 27
        }
      ]
    },
    {
      "cell_type": "code",
      "source": [
        "X=new_data.drop(columns=[\"qtr\"])\n",
        "y=new_data[\"qtr\"]"
      ],
      "metadata": {
        "id": "3mvhV7FUjkIb"
      },
      "execution_count": 30,
      "outputs": []
    },
    {
      "cell_type": "code",
      "source": [
        "log_accu=[]\n",
        "dtree_accu=[]\n",
        "rfc_accu=[]\n",
        "for i in range(100):\n",
        "  X_train, X_test, y_train, y_test = train_test_split(X, y, test_size=0.3)\n",
        "  #LogisticRegression\n",
        "  log.fit(X_train,y_train)\n",
        "  log_pred=log.predict(X_test)\n",
        "  log_accu.append(accuracy_score(y_test,log_pred))\n",
        "\n",
        "  #Decision Tree\n",
        "  dtree.fit(X_train,y_train)\n",
        "  dtree_pred=dtree.predict(X_test)\n",
        "  dtree_accu.append(accuracy_score(y_test,dtree_pred))\n",
        "\n",
        "  #Random Forest Classifier\n",
        "  rfc.fit(X_train,y_train)\n",
        "  rfc_pred=rfc.predict(X_test)\n",
        "  rfc_accu.append(accuracy_score(y_test,rfc_pred))\n",
        "\n"
      ],
      "metadata": {
        "id": "6DO0JyHMjr7v"
      },
      "execution_count": 52,
      "outputs": []
    },
    {
      "cell_type": "code",
      "source": [
        "plt.figure(figsize=(15,7))\n",
        "plt.tight_layout()\n",
        "plt.subplot(3,1,1)\n",
        "plt.plot(log_accu,\"green\")\n",
        "plt.title(\"Logistic Regression\")\n",
        "plt.scatter(range(100),log_accu)\n",
        "\n",
        "plt.tight_layout()\n",
        "plt.subplot(3,1,2)\n",
        "plt.plot(dtree_accu,\"red\")\n",
        "plt.title(\"Decision Tree Classifier\")\n",
        "plt.scatter(range(100),dtree_accu)\n",
        "\n",
        "plt.tight_layout()\n",
        "plt.subplot(3,1,3)\n",
        "plt.plot(rfc_accu,\"black\")\n",
        "plt.title(\"Random Forest Classifier\")\n",
        "plt.scatter(range(100),rfc_accu);\n",
        "\n"
      ],
      "metadata": {
        "colab": {
          "base_uri": "https://localhost:8080/",
          "height": 530
        },
        "id": "OcEShUOnkRNh",
        "outputId": "83d46689-86c3-4113-8c89-c5fb56e19d98"
      },
      "execution_count": 56,
      "outputs": [
        {
          "output_type": "display_data",
          "data": {
            "text/plain": [
              "<Figure size 1080x504 with 3 Axes>"
            ],
            "image/png": "[encoded data removed]"
          },
          "metadata": {
            "needs_background": "light"
          }
        }
      ]
    },
    {
      "cell_type": "code",
      "source": [
        "from sklearn.discriminant_analysis import LinearDiscriminantAnalysis as LDA\n",
        "lda=LDA(n_components=1)\n",
        "lda.fit_transform(X,y)\n",
        "print(sum(lda.explained_variance_ratio_))\n",
        "lda.explained_variance_ratio_"
      ],
      "metadata": {
        "colab": {
          "base_uri": "https://localhost:8080/"
        },
        "id": "kEbOYO8aickV",
        "outputId": "56beb720-c378-4c8b-8308-6de6b4447469"
      },
      "execution_count": 72,
      "outputs": [
        {
          "output_type": "stream",
          "name": "stdout",
          "text": [
            "0.6876271339316327\n"
          ]
        },
        {
          "output_type": "execute_result",
          "data": {
            "text/plain": [
              "array([0.68762713])"
            ]
          },
          "metadata": {},
          "execution_count": 72
        }
      ]
    },
    {
      "cell_type": "code",
      "source": [
        "from sklearn.discriminant_analysis import LinearDiscriminantAnalysis as LDA\n",
        "lda=LDA(n_components=2)\n",
        "lda.fit_transform(X,y)\n",
        "print(sum(lda.explained_variance_ratio_))\n",
        "lda.explained_variance_ratio_"
      ],
      "metadata": {
        "colab": {
          "base_uri": "https://localhost:8080/"
        },
        "id": "Mnqyde_poxIC",
        "outputId": "e6bd616f-208e-46ef-fcd2-fd94de80bf98"
      },
      "execution_count": 73,
      "outputs": [
        {
          "output_type": "stream",
          "name": "stdout",
          "text": [
            "0.9407252764892678\n"
          ]
        },
        {
          "output_type": "execute_result",
          "data": {
            "text/plain": [
              "array([0.68762713, 0.25309814])"
            ]
          },
          "metadata": {},
          "execution_count": 73
        }
      ]
    },
    {
      "cell_type": "code",
      "source": [
        "from sklearn.discriminant_analysis import LinearDiscriminantAnalysis as LDA\n",
        "lda=LDA(n_components=3)\n",
        "lda.fit_transform(X,y)\n",
        "print(sum(lda.explained_variance_ratio_))\n",
        "lda.explained_variance_ratio_"
      ],
      "metadata": {
        "id": "eHpboUlqI2_E",
        "colab": {
          "base_uri": "https://localhost:8080/"
        },
        "outputId": "a212854e-c541-4246-b770-53bb0e0e4c72"
      },
      "execution_count": 74,
      "outputs": [
        {
          "output_type": "stream",
          "name": "stdout",
          "text": [
            "1.0\n"
          ]
        },
        {
          "output_type": "execute_result",
          "data": {
            "text/plain": [
              "array([0.68762713, 0.25309814, 0.05927472])"
            ]
          },
          "metadata": {},
          "execution_count": 74
        }
      ]
    },
    {
      "cell_type": "markdown",
      "source": [
        "As you can observe from the above code executions, LDA with 2 components is giving the best variance with over 94% combined."
      ],
      "metadata": {
        "id": "IyesFiUbuujt"
      }
    },
    {
      "cell_type": "code",
      "source": [],
      "metadata": {
        "id": "ewMShuuvz2Ia"
      },
      "execution_count": null,
      "outputs": []
    }
  ]
}